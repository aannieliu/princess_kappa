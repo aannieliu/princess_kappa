{
 "cells": [
  {
   "cell_type": "markdown",
   "metadata": {},
   "source": [
    "##Scrape Wikipedia for all the movies and their information on box office and budget.##\n",
    "We can clean result for the budget, but the result for the box office is too difficult to clean. We will get box office information from other sources."
   ]
  },
  {
   "cell_type": "code",
   "execution_count": 1,
   "metadata": {
    "collapsed": true
   },
   "outputs": [],
   "source": [
    "%matplotlib inline\n",
    "import numpy as np\n",
    "import scipy as sp\n",
    "import matplotlib as mpl\n",
    "import matplotlib.cm as cm\n",
    "import matplotlib.pyplot as plt\n",
    "import pandas as pd\n",
    "import time\n",
    "pd.set_option('display.width', 500)\n",
    "pd.set_option('display.max_columns', 100)\n",
    "pd.set_option('display.notebook_repr_html', True)\n",
    "import seaborn as sns\n",
    "sns.set_style(\"whitegrid\")\n",
    "sns.set_context(\"poster\")\n",
    "\n",
    "from pyquery import PyQuery as pq\n",
    "from bs4 import BeautifulSoup\n",
    "# The \"requests\" library makes working with HTTP requests easier\n",
    "# than the built-in urllib libraries.\n",
    "import requests\n",
    "import re\n",
    "import string\n",
    "import json\n",
    "from tqdm import tqdm"
   ]
  },
  {
   "cell_type": "markdown",
   "metadata": {},
   "source": [
    "Scrape wikipedia page of each Oscar into yearstext dictionary"
   ]
  },
  {
   "cell_type": "code",
   "execution_count": 2,
   "metadata": {
    "collapsed": true
   },
   "outputs": [],
   "source": [
    "SUFFIXES = {1: 'st', 2: 'nd', 3: 'rd'}\n",
    "def ordinal(num):\n",
    "    if 10 <= num % 100 <= 20:\n",
    "        suffix = 'th'\n",
    "    else:\n",
    "        suffix = SUFFIXES.get(num % 10, 'th')\n",
    "    return str(num) + suffix"
   ]
  },
  {
   "cell_type": "code",
   "execution_count": 3,
   "metadata": {
    "collapsed": false
   },
   "outputs": [],
   "source": [
    "yearstext={}\n",
    "for year in range(1,88):\n",
    "    wikipage=\"https://en.wikipedia.org/wiki/{}_Academy_Awards\".format(ordinal(year))\n",
    "    if requests.get(wikipage).status_code==404:\n",
    "        print year\n",
    "    else:\n",
    "        yearstext[year] = requests.get(wikipage)\n",
    "    "
   ]
  },
  {
   "cell_type": "code",
   "execution_count": 4,
   "metadata": {
    "collapsed": false
   },
   "outputs": [],
   "source": [
    "#yearstext"
   ]
  },
  {
   "cell_type": "markdown",
   "metadata": {},
   "source": [
    "Now we create a function to get the movie urls from each Oscar wikipedia page."
   ]
  },
  {
   "cell_type": "code",
   "execution_count": 6,
   "metadata": {
    "collapsed": false
   },
   "outputs": [
    {
     "data": {
      "text/plain": [
       "u'Titanic'"
      ]
     },
     "execution_count": 6,
     "metadata": {},
     "output_type": "execute_result"
    }
   ],
   "source": [
    "#test\n",
    "year=70\n",
    "yeartextdict = yearstext[year]\n",
    "soup = BeautifulSoup(yeartextdict.text, \"html.parser\")\n",
    "rows = soup.find(\"table\", attrs={\"class\": \"wikitable\"}).find_all(\"tr\")[0:]\n",
    "if year in range(9,59)+[69]:\n",
    "    s1=1\n",
    "    s2=3\n",
    "    s3=5\n",
    "else:\n",
    "    s1=0\n",
    "    s2=1\n",
    "    s3=2\n",
    "bp_text=rows[s1].find_all(\"td\")[0]\n",
    "bd_text=rows[s1].find_all(\"td\")[1]\n",
    "b_actor_text=rows[s2].find_all(\"td\")[0]\n",
    "b_actress_text=rows[s2].find_all(\"td\")[1]\n",
    "b_s_actor_text=rows[s3].find_all(\"td\")[0]\n",
    "b_s_actress_text=rows[s3].find_all(\"td\")[1]\n",
    "bp_text.find_all(\"li\")[0].find_all(\"i\")[0].find(\"a\").get_text()\n"
   ]
  },
  {
   "cell_type": "markdown",
   "metadata": {},
   "source": [
    "This function applies to each Oscar wikipedia page for the 9th to 59th Oscars. It returns the movie urls and the movie titles and a dictionary with keys as movie urls and value as movie titles."
   ]
  },
  {
   "cell_type": "code",
   "execution_count": 7,
   "metadata": {
    "collapsed": true
   },
   "outputs": [],
   "source": [
    "#function to get movie url for the 9th to 59th Oscars\n",
    "def get_movie_url_2(year, yearstext):\n",
    "    yeartextdict = yearstext[year]\n",
    "    soup = BeautifulSoup(yeartextdict.text, \"html.parser\")\n",
    "    rows = soup.find(\"table\", attrs={\"class\": \"wikitable\"}).find_all(\"tr\")[0:]\n",
    "    if year in range(9,59)+[69]:\n",
    "        s1=1\n",
    "        s2=3\n",
    "        s3=5\n",
    "    else:\n",
    "        s1=0\n",
    "        s2=1\n",
    "        s3=2\n",
    "    bp_text=rows[s1].find_all(\"td\")[0]\n",
    "    bd_text=rows[s1].find_all(\"td\")[1]\n",
    "    b_actor_text=rows[s2].find_all(\"td\")[0]\n",
    "    b_actress_text=rows[s2].find_all(\"td\")[1]\n",
    "    b_s_actor_text=rows[s3].find_all(\"td\")[0]\n",
    "    b_s_actress_text=rows[s3].find_all(\"td\")[1]\n",
    "    movie_url=[]\n",
    "    movie_title=[]\n",
    "    for m in bp_text.find_all(\"li\")[0].find_all(\"i\"):\n",
    "        if m.find(\"a\")==None:\n",
    "            a=1\n",
    "        else:\n",
    "            movie_url.append(m.find(\"a\").get(\"href\"))\n",
    "            movie_title.append(m.find(\"a\").get_text())\n",
    "    for m in bd_text.find_all(\"li\")[0].find_all(\"i\"):\n",
    "        if m.find(\"a\")==None:\n",
    "            a=1\n",
    "        else:\n",
    "            movie_url.append(m.find(\"a\").get(\"href\"))\n",
    "            movie_title.append(m.find(\"a\").get_text())\n",
    "    for m in b_actor_text.find_all(\"li\")[0].find_all(\"i\"):\n",
    "        if m.find(\"a\")==None:\n",
    "            a=1\n",
    "        else:\n",
    "            movie_url.append(m.find(\"a\").get(\"href\"))\n",
    "            movie_title.append(m.find(\"a\").get_text())\n",
    "    for m in b_actress_text.find_all(\"li\")[0].find_all(\"i\"):\n",
    "        if m.find(\"a\")==None:\n",
    "            a=1\n",
    "        else:\n",
    "            movie_url.append(m.find(\"a\").get(\"href\"))\n",
    "            movie_title.append(m.find(\"a\").get_text())\n",
    "    for m in b_s_actor_text.find_all(\"li\")[0].find_all(\"i\"):\n",
    "        if m.find(\"a\")==None:\n",
    "            a=1\n",
    "        else:\n",
    "            movie_url.append(m.find(\"a\").get(\"href\"))\n",
    "            movie_title.append(m.find(\"a\").get_text())\n",
    "    for m in b_s_actress_text.find_all(\"li\")[0].find_all(\"i\"):\n",
    "        if m.find(\"a\")==None:\n",
    "            a=1\n",
    "        else:\n",
    "            movie_url.append(m.find(\"a\").get(\"href\"))\n",
    "            movie_title.append(m.find(\"a\").get_text())\n",
    "    movies=dict(zip(movie_url,movie_title))\n",
    "    return movie_url , movie_title, movies\n",
    "    "
   ]
  },
  {
   "cell_type": "markdown",
   "metadata": {},
   "source": [
    "This function applies to each Oscar wikipedia page for the 9th to 59th Oscars. It returns the movie urls and the movie titles and a dictionary with keys as movie urls and value as movie titles."
   ]
  },
  {
   "cell_type": "code",
   "execution_count": 8,
   "metadata": {
    "collapsed": false
   },
   "outputs": [],
   "source": [
    "#function to get movie url for first 9 Oscars\n",
    "def get_movie_url_1(year, yearstext):\n",
    "    yeartextdict = yearstext[year]\n",
    "    soup = BeautifulSoup(yeartextdict.text, \"html.parser\")\n",
    "    rows = soup.find(\"table\", attrs={\"class\": \"wikitable\"}).find_all(\"tr\")[0:]\n",
    "    if year ==1 :\n",
    "        s1=0\n",
    "        s2=1\n",
    "        s3=2\n",
    "        bp_text=rows[s1].find_all(\"td\")[0]\n",
    "        bd_text=rows[s2].find_all(\"td\")[0]\n",
    "        bd_text2=rows[s2].find_all(\"td\")[1]\n",
    "        b_actor_text=rows[s3].find_all(\"td\")[0]\n",
    "        b_actress_text=rows[s3].find_all(\"td\")[1]\n",
    "        #b_s_actor_text=rows[s3].find_all(\"td\")[0]\n",
    "        #b_s_actress_text=rows[s3].find_all(\"td\")[1]\n",
    "        movie_url=[]\n",
    "        movie_title=[]\n",
    "        for m in bp_text.find_all(\"li\")[0].find_all(\"i\"):\n",
    "            if m.find(\"a\")==None:\n",
    "                a=1\n",
    "            else:\n",
    "                movie_url.append(m.find(\"a\").get(\"href\"))\n",
    "                movie_title.append(m.find(\"a\").get_text())\n",
    "        for m in bd_text.find_all(\"li\")[0].find_all(\"i\"):\n",
    "            if m.find(\"a\")==None:\n",
    "                a=1\n",
    "            else:\n",
    "                movie_url.append(m.find(\"a\").get(\"href\"))\n",
    "                movie_title.append(m.find(\"a\").get_text())\n",
    "        for m in bd_text2.find_all(\"li\")[0].find_all(\"i\"):\n",
    "            if m.find(\"a\")==None:\n",
    "                a=1\n",
    "            else:\n",
    "                movie_url.append(m.find(\"a\").get(\"href\"))\n",
    "                movie_title.append(m.find(\"a\").get_text())\n",
    "        for m in b_actor_text.find_all(\"li\")[0].find_all(\"i\"):\n",
    "            if m.find(\"a\")==None:\n",
    "                a=1\n",
    "            else:\n",
    "                movie_url.append(m.find(\"a\").get(\"href\"))\n",
    "                movie_title.append(m.find(\"a\").get_text())\n",
    "        for m in b_actress_text.find_all(\"li\")[0].find_all(\"i\"):\n",
    "            if m.find(\"a\")==None:\n",
    "                a=1\n",
    "            else:\n",
    "                movie_url.append(m.find(\"a\").get(\"href\"))\n",
    "                movie_title.append(m.find(\"a\").get_text())\n",
    "                \n",
    "    else :\n",
    "        s1=1\n",
    "        s2=3\n",
    "        bp_text=rows[s1].find_all(\"td\")[0]\n",
    "        bd_text=rows[s1].find_all(\"td\")[1]\n",
    "        b_actor_text=rows[s2].find_all(\"td\")[0]\n",
    "        b_actress_text=rows[s2].find_all(\"td\")[1]\n",
    "        #b_s_actor_text=rows[s3].find_all(\"td\")[0]\n",
    "        #b_s_actress_text=rows[s3].find_all(\"td\")[1]\n",
    "        movie_url=[]\n",
    "        movie_title=[]\n",
    "        for m in bp_text.find_all(\"li\")[0].find_all(\"i\"):\n",
    "            if m.find(\"a\")==None:\n",
    "                a=1\n",
    "            else:\n",
    "                movie_url.append(m.find(\"a\").get(\"href\"))\n",
    "                movie_title.append(m.find(\"a\").get_text())\n",
    "        for m in bd_text.find_all(\"li\")[0].find_all(\"i\"):\n",
    "            if m.find(\"a\")==None:\n",
    "                a=1\n",
    "            else:\n",
    "                movie_url.append(m.find(\"a\").get(\"href\"))\n",
    "                movie_title.append(m.find(\"a\").get_text())\n",
    "        for m in b_actor_text.find_all(\"li\")[0].find_all(\"i\"):\n",
    "            if m.find(\"a\")==None:\n",
    "                a=1\n",
    "            else:\n",
    "                movie_url.append(m.find(\"a\").get(\"href\"))\n",
    "                movie_title.append(m.find(\"a\").get_text())\n",
    "        for m in b_actress_text.find_all(\"li\")[0].find_all(\"i\"):\n",
    "            if m.find(\"a\")==None:\n",
    "                a=1\n",
    "            else:\n",
    "                movie_url.append(m.find(\"a\").get(\"href\"))\n",
    "                movie_title.append(m.find(\"a\").get_text())\n",
    "    movies=dict(zip(movie_url,movie_title))\n",
    "    return movie_url , movie_title, movies"
   ]
  },
  {
   "cell_type": "code",
   "execution_count": 10,
   "metadata": {
    "collapsed": false
   },
   "outputs": [],
   "source": [
    "#get_movie_url_2(80,yearstext)[0]"
   ]
  },
  {
   "cell_type": "markdown",
   "metadata": {},
   "source": [
    "Apply the function to all the wikipedia Oscar pages."
   ]
  },
  {
   "cell_type": "code",
   "execution_count": 11,
   "metadata": {
    "collapsed": false
   },
   "outputs": [],
   "source": [
    "movie_url=[]\n",
    "movie_titles=[]\n",
    "movie_dict={} #movie_url as key -- movie title\n",
    "for year in range(1,10):\n",
    "    movie_url.extend(get_movie_url_1(year,yearstext)[0])\n",
    "    movie_titles.extend(get_movie_url_1(year,yearstext)[1])\n",
    "    movie_dict.update(get_movie_url_1(year,yearstext)[2])\n",
    "for year in range(9,88):\n",
    "    #print year\n",
    "    movie_url.extend(get_movie_url_2(year,yearstext)[0])\n",
    "    movie_titles.extend(get_movie_url_2(year,yearstext)[1])\n",
    "    movie_dict.update(get_movie_url_2(year,yearstext)[2])"
   ]
  },
  {
   "cell_type": "markdown",
   "metadata": {},
   "source": [
    "Check that the lenths are as desired."
   ]
  },
  {
   "cell_type": "code",
   "execution_count": 12,
   "metadata": {
    "collapsed": false
   },
   "outputs": [
    {
     "data": {
      "text/plain": [
       "(1275, 1275, 1275)"
      ]
     },
     "execution_count": 12,
     "metadata": {},
     "output_type": "execute_result"
    }
   ],
   "source": [
    "movie_url=list(set(movie_url))\n",
    "movie_titles=list(set(movie_url))\n",
    "#movie_dict\n",
    "len(movie_url),len(movie_titles),len(movie_dict)"
   ]
  },
  {
   "cell_type": "markdown",
   "metadata": {},
   "source": [
    "Scrape wikipedia to get all the movie wikipedia pages. These are stored into ```moviestex``` dictionary. In case of failed ```get.``` attempt, we store all the failed urls into the ```failed_url``` list. It turns out that all the ```get.``` attemps are successful."
   ]
  },
  {
   "cell_type": "code",
   "execution_count": null,
   "metadata": {
    "collapsed": false
   },
   "outputs": [
    {
     "name": "stderr",
     "output_type": "stream",
     "text": [
      "Exception in thread Thread-1:\n",
      "Traceback (most recent call last):\n",
      "  File \"/Users/annie/anaconda/lib/python2.7/threading.py\", line 810, in __bootstrap_inner\n",
      "    self.run()\n",
      "  File \"/Users/annie/anaconda/lib/python2.7/site-packages/IPython/kernel/zmq/parentpoller.py\", line 37, in run\n",
      "    time.sleep(1.0)\n",
      "TypeError: 'float' object is not callable\n",
      "\n"
     ]
    }
   ],
   "source": [
    "moviestext={}\n",
    "failed_url=[]\n",
    "for url in movie_url:\n",
    "    wikipage=\"https://en.wikipedia.org{}\".format(url)\n",
    "    if requests.get(wikipage).status_code==404:\n",
    "        failed_url.append(url)\n",
    "    else:\n",
    "        moviestext[url] = requests.get(wikipage)\n",
    "        time.sleep=1.0"
   ]
  },
  {
   "cell_type": "code",
   "execution_count": null,
   "metadata": {
    "collapsed": false
   },
   "outputs": [
    {
     "data": {
      "text/plain": [
       "(1275, 0)"
      ]
     },
     "execution_count": 23,
     "metadata": {},
     "output_type": "execute_result"
    }
   ],
   "source": [
    "len(moviestext),len(failed_url)"
   ]
  },
  {
   "cell_type": "code",
   "execution_count": null,
   "metadata": {
    "collapsed": false
   },
   "outputs": [],
   "source": [
    "movietextdict=moviestext[moviestext.keys()[0]]"
   ]
  },
  {
   "cell_type": "markdown",
   "metadata": {},
   "source": [
    "We now write a function for each movie page. This function takes ```movie_url``` and ```moviestext``` (the dictionary containing all scraped text) and returns the budget and box office information in list forms."
   ]
  },
  {
   "cell_type": "code",
   "execution_count": null,
   "metadata": {
    "collapsed": false
   },
   "outputs": [],
   "source": [
    "def get_budget(movie_url,moviestext):\n",
    "    movietextdict=moviestext[movie_url]\n",
    "    bad_movie=[]\n",
    "    budget=[\"NA\"]\n",
    "    box_office=[\"NA\"]\n",
    "    soup = BeautifulSoup(movietextdict.text, \"html.parser\")\n",
    "    if soup.find(\"table\", attrs={\"class\": \"infobox vevent\"})==None:\n",
    "        bad_movie.append(movie_url)\n",
    "    else:\n",
    "        rows = soup.find(\"table\", attrs={\"class\": \"infobox vevent\"}).find_all(\"tr\")[0:]\n",
    "        for r in rows:\n",
    "            if r.find(\"th\")==None:\n",
    "                continue\n",
    "            if r.find(\"th\").get_text()==\"Budget\":\n",
    "                budget=[]\n",
    "                budget=[r.find(\"td\").get_text().split(\"[\")[0]]\n",
    "\n",
    "            if r.find(\"th\")==None:\n",
    "                continue\n",
    "            if r.find(\"th\").get_text()==\"Box office\":\n",
    "                box_office=[]\n",
    "                for b in r.find(\"td\").get_text().split(\"\\n\"):\n",
    "                    box_office.append(b.split(\"[\")[0])\n",
    "    \n",
    "    return budget,box_office\n",
    "        \n"
   ]
  },
  {
   "cell_type": "code",
   "execution_count": null,
   "metadata": {
    "collapsed": false
   },
   "outputs": [
    {
     "data": {
      "text/plain": [
       "([u'A$6 million'], [u'A$2,898,000 (Australia)', u'US$10,278,575'])"
      ]
     },
     "execution_count": 17,
     "metadata": {},
     "output_type": "execute_result"
    }
   ],
   "source": [
    "##test\n",
    "get_budget(moviestext.keys()[0],moviestext)"
   ]
  },
  {
   "cell_type": "markdown",
   "metadata": {},
   "source": [
    "Apply the function and check the resulting lengths."
   ]
  },
  {
   "cell_type": "code",
   "execution_count": null,
   "metadata": {
    "collapsed": false
   },
   "outputs": [],
   "source": [
    "movieurl_budget_dict={}\n",
    "movieurl_bo_dict={}\n",
    "for movieurl in moviestext.keys():\n",
    "    #print movieurl\n",
    "    movieurl_budget_dict[movieurl],movieurl_bo_dict[movieurl]=get_budget(movieurl,moviestext)\n"
   ]
  },
  {
   "cell_type": "code",
   "execution_count": null,
   "metadata": {
    "collapsed": false
   },
   "outputs": [],
   "source": [
    "#movieurl_budget_dict"
   ]
  },
  {
   "cell_type": "code",
   "execution_count": null,
   "metadata": {
    "collapsed": false
   },
   "outputs": [
    {
     "data": {
      "text/plain": [
       "(1275, 1275)"
      ]
     },
     "execution_count": 20,
     "metadata": {},
     "output_type": "execute_result"
    }
   ],
   "source": [
    "#movieurl_bo_dict\n",
    "len(movieurl_budget_dict),len(movieurl_bo_dict)"
   ]
  },
  {
   "cell_type": "markdown",
   "metadata": {},
   "source": [
    "Write a function takes in each movie page and return the list of imdb link ```imdb_link``` and list of rotten tomatoes link ```rt_link``` ."
   ]
  },
  {
   "cell_type": "code",
   "execution_count": null,
   "metadata": {
    "collapsed": false
   },
   "outputs": [],
   "source": [
    "movietextdict=moviestext[moviestext.keys()[0]]"
   ]
  },
  {
   "cell_type": "code",
   "execution_count": null,
   "metadata": {
    "collapsed": false
   },
   "outputs": [
    {
     "data": {
      "text/plain": [
       "'soup = BeautifulSoup(movietextdict.text, \"html.parser\")\\n#rows=soup.find_parents(\"\")[0:][-1].next_element.next_element\\nrows=soup.find_all(\"a\", attrs={\"class\": \"external text\", \"rel\":\"nofollow\"})[0:]\\n#rows=soup.find_all(\"table\")[0:] #,attrs={\"class\": \"mbox-small plainlinks sistersitebox\"}\\nexternal_links=[]\\nfor row in rows:\\n    if row.find(\"i\")!= None:\\n        external_links.append(row.get(\"href\"))\\n\\nfor l in external_links:\\n    if \"imdb\" in l:\\n        imdb_link=l\\n    if \"rottentomatoes\" in l:\\n        rt_link=l\\n'"
      ]
     },
     "execution_count": 87,
     "metadata": {},
     "output_type": "execute_result"
    }
   ],
   "source": [
    "###test\n",
    "'''soup = BeautifulSoup(movietextdict.text, \"html.parser\")\n",
    "#rows=soup.find_parents(\"\")[0:][-1].next_element.next_element\n",
    "rows=soup.find_all(\"a\", attrs={\"class\": \"external text\", \"rel\":\"nofollow\"})[0:]\n",
    "#rows=soup.find_all(\"table\")[0:] #,attrs={\"class\": \"mbox-small plainlinks sistersitebox\"}\n",
    "external_links=[]\n",
    "for row in rows:\n",
    "    if row.find(\"i\")!= None:\n",
    "        external_links.append(row.get(\"href\"))\n",
    "\n",
    "for l in external_links:\n",
    "    if \"imdb\" in l:\n",
    "        imdb_link=l\n",
    "    if \"rottentomatoes\" in l:\n",
    "        rt_link=l\n",
    "'''"
   ]
  },
  {
   "cell_type": "code",
   "execution_count": null,
   "metadata": {
    "collapsed": true
   },
   "outputs": [],
   "source": [
    "#function to get imbd movie id and rotten tomatoes url\n",
    "def get_imbd_rt_url(movie_url,moviestext):\n",
    "    movietextdict=moviestext[movie_url]\n",
    "    soup = BeautifulSoup(movietextdict.text, \"html.parser\")\n",
    "    rows=soup.find_all(\"a\", attrs={\"class\": \"external text\", \"rel\":\"nofollow\"})[0:]\n",
    "    external_links=[]\n",
    "    imdb_link=\"NA\"\n",
    "    rt_link=\"NA\"\n",
    "    for row in rows:\n",
    "        if row.find(\"i\")!= None:\n",
    "            external_links.append(row.get(\"href\"))\n",
    "\n",
    "    for l in external_links:\n",
    "        if \"imdb\" in l:\n",
    "            imdb_link=l\n",
    "        if \"rottentomatoes\" in l:\n",
    "            rt_link=l\n",
    "    return imdb_link,rt_link\n",
    "    "
   ]
  },
  {
   "cell_type": "code",
   "execution_count": null,
   "metadata": {
    "collapsed": false
   },
   "outputs": [
    {
     "data": {
      "text/plain": [
       "(u'http://www.imdb.com/title/tt0086617/',\n",
       " u'http://www.rottentomatoes.com/m/year_of_living_dangerously/')"
      ]
     },
     "execution_count": 86,
     "metadata": {},
     "output_type": "execute_result"
    }
   ],
   "source": [
    "#test\n",
    "get_imbd_rt_url(moviestext.keys()[0],moviestext)"
   ]
  },
  {
   "cell_type": "markdown",
   "metadata": {},
   "source": [
    "Apply the function to all movies."
   ]
  },
  {
   "cell_type": "code",
   "execution_count": null,
   "metadata": {
    "collapsed": true
   },
   "outputs": [],
   "source": [
    "movieurl_imdb_link_dict={}\n",
    "movieurl_rt_link_dict={}\n",
    "for movieurl in moviestext.keys():\n",
    "    #print movieurl\n",
    "    movieurl_imdb_link_dict[movieurl],movieurl_rt_link_dict[movieurl]=get_imbd_rt_url(movieurl,moviestext)"
   ]
  },
  {
   "cell_type": "code",
   "execution_count": null,
   "metadata": {
    "collapsed": false
   },
   "outputs": [
    {
     "data": {
      "text/plain": [
       "(1275, 1275)"
      ]
     },
     "execution_count": 89,
     "metadata": {},
     "output_type": "execute_result"
    }
   ],
   "source": [
    "len(movieurl_imdb_link_dict),len(movieurl_rt_link_dict)"
   ]
  },
  {
   "cell_type": "markdown",
   "metadata": {},
   "source": [
    "Merge into dataframe."
   ]
  },
  {
   "cell_type": "code",
   "execution_count": null,
   "metadata": {
    "collapsed": false
   },
   "outputs": [],
   "source": [
    "movie_url_df=pd.DataFrame(movie_dict.items(),columns=['movie_url', 'title'])\n",
    "movie_budget_df=pd.DataFrame(movieurl_budget_dict.items(),columns=['movie_url', 'budget'])\n",
    "movie_bo_df=pd.DataFrame(movieurl_bo_dict.items(),columns=['movie_url', 'box_office'])\n",
    "movie_imdb_link_df=pd.DataFrame(movieurl_imdb_link_dict.items(),columns=['movie_url', 'imdb_link'])\n",
    "movie_rt_link_df=pd.DataFrame(movieurl_rt_link_dict.items(),columns=['movie_url', 'rt_link'])\n",
    "#movie_budget_df.head()\n",
    "#movie_bo_df.head()\n",
    "#movie_url_df.head()\n",
    "#movie_imdb_link_df.head()"
   ]
  },
  {
   "cell_type": "code",
   "execution_count": null,
   "metadata": {
    "collapsed": false
   },
   "outputs": [
    {
     "data": {
      "text/html": [
       "<div>\n",
       "<table border=\"1\" class=\"dataframe\">\n",
       "  <thead>\n",
       "    <tr style=\"text-align: right;\">\n",
       "      <th></th>\n",
       "      <th>movie_url</th>\n",
       "      <th>title</th>\n",
       "      <th>budget</th>\n",
       "      <th>box_office</th>\n",
       "      <th>imdb_link</th>\n",
       "      <th>rt_link</th>\n",
       "    </tr>\n",
       "  </thead>\n",
       "  <tbody>\n",
       "    <tr>\n",
       "      <th>0</th>\n",
       "      <td>/wiki/The_Year_of_Living_Dangerously_(film)</td>\n",
       "      <td>The Year of Living Dangerously</td>\n",
       "      <td>[A$6 million]</td>\n",
       "      <td>[A$2,898,000 (Australia), US$10,278,575]</td>\n",
       "      <td>http://www.imdb.com/title/tt0086617/</td>\n",
       "      <td>http://www.rottentomatoes.com/m/year_of_living...</td>\n",
       "    </tr>\n",
       "    <tr>\n",
       "      <th>1</th>\n",
       "      <td>/wiki/Saratoga_Trunk</td>\n",
       "      <td>Saratoga Trunk</td>\n",
       "      <td>[$1.75 million]</td>\n",
       "      <td>[$4,250,000 (US/ Canada rentals) ]</td>\n",
       "      <td>http://www.imdb.com/title/tt0038053/</td>\n",
       "      <td>NA</td>\n",
       "    </tr>\n",
       "    <tr>\n",
       "      <th>2</th>\n",
       "      <td>/wiki/All_the_King%27s_Men_(1949_film)</td>\n",
       "      <td>All the King's Men</td>\n",
       "      <td>[NA]</td>\n",
       "      <td>[$2.4 million (US rentals)]</td>\n",
       "      <td>http://www.imdb.com/title/tt041113/</td>\n",
       "      <td>http://www.rottentomatoes.com/m/1000654-all_th...</td>\n",
       "    </tr>\n",
       "    <tr>\n",
       "      <th>3</th>\n",
       "      <td>/wiki/Romance_(1930_film)</td>\n",
       "      <td>Romance</td>\n",
       "      <td>[NA]</td>\n",
       "      <td>[NA]</td>\n",
       "      <td>http://www.imdb.com/title/tt0021310/</td>\n",
       "      <td>NA</td>\n",
       "    </tr>\n",
       "    <tr>\n",
       "      <th>4</th>\n",
       "      <td>/wiki/An_Education</td>\n",
       "      <td>An Education</td>\n",
       "      <td>[$7.5 million]</td>\n",
       "      <td>[$26,096,852]</td>\n",
       "      <td>http://www.imdb.com/title/tt1174732/</td>\n",
       "      <td>http://www.rottentomatoes.com/m/an_education/</td>\n",
       "    </tr>\n",
       "  </tbody>\n",
       "</table>\n",
       "</div>"
      ],
      "text/plain": [
       "                                     movie_url                           title           budget                                box_office                             imdb_link                                            rt_link\n",
       "0  /wiki/The_Year_of_Living_Dangerously_(film)  The Year of Living Dangerously    [A$6 million]  [A$2,898,000 (Australia), US$10,278,575]  http://www.imdb.com/title/tt0086617/  http://www.rottentomatoes.com/m/year_of_living...\n",
       "1                         /wiki/Saratoga_Trunk                  Saratoga Trunk  [$1.75 million]        [$4,250,000 (US/ Canada rentals) ]  http://www.imdb.com/title/tt0038053/                                                 NA\n",
       "2       /wiki/All_the_King%27s_Men_(1949_film)              All the King's Men             [NA]               [$2.4 million (US rentals)]   http://www.imdb.com/title/tt041113/  http://www.rottentomatoes.com/m/1000654-all_th...\n",
       "3                    /wiki/Romance_(1930_film)                         Romance             [NA]                                      [NA]  http://www.imdb.com/title/tt0021310/                                                 NA\n",
       "4                           /wiki/An_Education                    An Education   [$7.5 million]                             [$26,096,852]  http://www.imdb.com/title/tt1174732/      http://www.rottentomatoes.com/m/an_education/"
      ]
     },
     "execution_count": 107,
     "metadata": {},
     "output_type": "execute_result"
    }
   ],
   "source": [
    "frames = [movie_url_df, movie_budget_df, movie_bo_df]\n",
    "df = pd.merge(movie_url_df, movie_budget_df, on='movie_url')\n",
    "df=pd.merge(df, movie_bo_df, on='movie_url')\n",
    "df=pd.merge(df, movie_imdb_link_df, on='movie_url')\n",
    "df=pd.merge(df, movie_rt_link_df, on='movie_url')\n",
    "df.head()"
   ]
  },
  {
   "cell_type": "code",
   "execution_count": null,
   "metadata": {
    "collapsed": false
   },
   "outputs": [
    {
     "name": "stdout",
     "output_type": "stream",
     "text": [
      "movies without rt_link\n",
      "6\n"
     ]
    }
   ],
   "source": [
    "print \"movies without rt_link\"  \n",
    "print df[df[\"rt_link\"]==\"NA\"].shape[1]"
   ]
  },
  {
   "cell_type": "code",
   "execution_count": null,
   "metadata": {
    "collapsed": true
   },
   "outputs": [],
   "source": [
    "df.to_pickle('wiki_df_raw.csv')"
   ]
  },
  {
   "cell_type": "code",
   "execution_count": null,
   "metadata": {
    "collapsed": true
   },
   "outputs": [],
   "source": []
  }
 ],
 "metadata": {
  "kernelspec": {
   "display_name": "Python 2",
   "language": "python",
   "name": "python2"
  },
  "language_info": {
   "codemirror_mode": {
    "name": "ipython",
    "version": 2
   },
   "file_extension": ".py",
   "mimetype": "text/x-python",
   "name": "python",
   "nbconvert_exporter": "python",
   "pygments_lexer": "ipython2",
   "version": "2.7.10"
  }
 },
 "nbformat": 4,
 "nbformat_minor": 0
}
