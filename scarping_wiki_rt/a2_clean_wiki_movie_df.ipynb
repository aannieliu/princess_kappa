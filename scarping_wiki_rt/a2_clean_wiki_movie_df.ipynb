{
 "cells": [
  {
   "cell_type": "markdown",
   "metadata": {},
   "source": [
    "##Clean the dataframe with information from Wikipedia.##\n",
    "The task is to clean the column containing box office information."
   ]
  },
  {
   "cell_type": "code",
   "execution_count": 3,
   "metadata": {
    "collapsed": true
   },
   "outputs": [],
   "source": [
    "%matplotlib inline\n",
    "import numpy as np\n",
    "import scipy as sp\n",
    "import matplotlib as mpl\n",
    "import matplotlib.cm as cm\n",
    "import matplotlib.pyplot as plt\n",
    "import pandas as pd\n",
    "import time\n",
    "pd.set_option('display.width', 500)\n",
    "pd.set_option('display.max_columns', 100)\n",
    "pd.set_option('display.notebook_repr_html', True)\n",
    "import seaborn as sns\n",
    "sns.set_style(\"whitegrid\")\n",
    "sns.set_context(\"poster\")\n",
    "\n",
    "from pyquery import PyQuery as pq\n",
    "from bs4 import BeautifulSoup\n",
    "# The \"requests\" library makes working with HTTP requests easier\n",
    "# than the built-in urllib libraries.\n",
    "import requests\n",
    "import re\n",
    "import string\n",
    "import json\n",
    "from tqdm import tqdm"
   ]
  },
  {
   "cell_type": "code",
   "execution_count": 4,
   "metadata": {
    "collapsed": false
   },
   "outputs": [],
   "source": [
    "df = pd.read_pickle('wiki_df_raw.csv')"
   ]
  },
  {
   "cell_type": "code",
   "execution_count": 5,
   "metadata": {
    "collapsed": false
   },
   "outputs": [
    {
     "data": {
      "text/plain": [
       "(515, 6)"
      ]
     },
     "execution_count": 5,
     "metadata": {},
     "output_type": "execute_result"
    }
   ],
   "source": [
    "df[df['rt_link']==\"NA\"].shape"
   ]
  },
  {
   "cell_type": "code",
   "execution_count": 6,
   "metadata": {
    "collapsed": false
   },
   "outputs": [
    {
     "data": {
      "text/html": [
       "<div>\n",
       "<table border=\"1\" class=\"dataframe\">\n",
       "  <thead>\n",
       "    <tr style=\"text-align: right;\">\n",
       "      <th></th>\n",
       "      <th>movie_url</th>\n",
       "      <th>title</th>\n",
       "      <th>budget</th>\n",
       "      <th>box_office</th>\n",
       "      <th>imdb_link</th>\n",
       "      <th>rt_link</th>\n",
       "    </tr>\n",
       "  </thead>\n",
       "  <tbody>\n",
       "    <tr>\n",
       "      <th>0</th>\n",
       "      <td>/wiki/The_Year_of_Living_Dangerously_(film)</td>\n",
       "      <td>The Year of Living Dangerously</td>\n",
       "      <td>[A$6 million]</td>\n",
       "      <td>[A$2,898,000 (Australia), US$10,278,575]</td>\n",
       "      <td>http://www.imdb.com/title/tt0086617/</td>\n",
       "      <td>http://www.rottentomatoes.com/m/year_of_living...</td>\n",
       "    </tr>\n",
       "    <tr>\n",
       "      <th>1</th>\n",
       "      <td>/wiki/Saratoga_Trunk</td>\n",
       "      <td>Saratoga Trunk</td>\n",
       "      <td>[$1.75 million]</td>\n",
       "      <td>[$4,250,000 (US/ Canada rentals) ]</td>\n",
       "      <td>http://www.imdb.com/title/tt0038053/</td>\n",
       "      <td>NA</td>\n",
       "    </tr>\n",
       "    <tr>\n",
       "      <th>2</th>\n",
       "      <td>/wiki/All_the_King%27s_Men_(1949_film)</td>\n",
       "      <td>All the King's Men</td>\n",
       "      <td>[NA]</td>\n",
       "      <td>[$2.4 million (US rentals)]</td>\n",
       "      <td>http://www.imdb.com/title/tt041113/</td>\n",
       "      <td>http://www.rottentomatoes.com/m/1000654-all_th...</td>\n",
       "    </tr>\n",
       "    <tr>\n",
       "      <th>3</th>\n",
       "      <td>/wiki/Romance_(1930_film)</td>\n",
       "      <td>Romance</td>\n",
       "      <td>[NA]</td>\n",
       "      <td>[NA]</td>\n",
       "      <td>http://www.imdb.com/title/tt0021310/</td>\n",
       "      <td>NA</td>\n",
       "    </tr>\n",
       "    <tr>\n",
       "      <th>4</th>\n",
       "      <td>/wiki/An_Education</td>\n",
       "      <td>An Education</td>\n",
       "      <td>[$7.5 million]</td>\n",
       "      <td>[$26,096,852]</td>\n",
       "      <td>http://www.imdb.com/title/tt1174732/</td>\n",
       "      <td>http://www.rottentomatoes.com/m/an_education/</td>\n",
       "    </tr>\n",
       "  </tbody>\n",
       "</table>\n",
       "</div>"
      ],
      "text/plain": [
       "                                     movie_url                           title           budget                                box_office                             imdb_link                                            rt_link\n",
       "0  /wiki/The_Year_of_Living_Dangerously_(film)  The Year of Living Dangerously    [A$6 million]  [A$2,898,000 (Australia), US$10,278,575]  http://www.imdb.com/title/tt0086617/  http://www.rottentomatoes.com/m/year_of_living...\n",
       "1                         /wiki/Saratoga_Trunk                  Saratoga Trunk  [$1.75 million]        [$4,250,000 (US/ Canada rentals) ]  http://www.imdb.com/title/tt0038053/                                                 NA\n",
       "2       /wiki/All_the_King%27s_Men_(1949_film)              All the King's Men             [NA]               [$2.4 million (US rentals)]   http://www.imdb.com/title/tt041113/  http://www.rottentomatoes.com/m/1000654-all_th...\n",
       "3                    /wiki/Romance_(1930_film)                         Romance             [NA]                                      [NA]  http://www.imdb.com/title/tt0021310/                                                 NA\n",
       "4                           /wiki/An_Education                    An Education   [$7.5 million]                             [$26,096,852]  http://www.imdb.com/title/tt1174732/      http://www.rottentomatoes.com/m/an_education/"
      ]
     },
     "execution_count": 6,
     "metadata": {},
     "output_type": "execute_result"
    }
   ],
   "source": [
    "df.head()"
   ]
  },
  {
   "cell_type": "code",
   "execution_count": 7,
   "metadata": {
    "collapsed": false
   },
   "outputs": [
    {
     "data": {
      "text/plain": [
       "[u'\\xa387,000']"
      ]
     },
     "execution_count": 7,
     "metadata": {},
     "output_type": "execute_result"
    }
   ],
   "source": [
    "#test\n",
    "df['budget'][1262]\n",
    "df['budget'][527][0]\n",
    "df['budget'][527][0]"
   ]
  },
  {
   "cell_type": "markdown",
   "metadata": {},
   "source": [
    "Check that all movies each has only one information in budget. It should be eigher the budget information or \"NA\" for lack of information on Wikipedia."
   ]
  },
  {
   "cell_type": "code",
   "execution_count": 7,
   "metadata": {
    "collapsed": false
   },
   "outputs": [],
   "source": [
    "for item in df['budget']:\n",
    "    if len(item)!=1:\n",
    "        print item"
   ]
  },
  {
   "cell_type": "markdown",
   "metadata": {},
   "source": [
    "Cleaning process. \n",
    "There are several challenges because the format is very different. \n",
    "\n",
    "All are coded in unicode, but they have different format, for example,\"\\$40–50 million\", \"\\$1.1 million\",\"₤4 million\" and so on. The unicode for \"–\" symble in \"\\$40–50 million\" cannot be successfully extracted. Because there are only around 10 of these cases, we treate them as \"NA\".\n",
    "\n",
    "The pound ₤ sign is also coded in unicode, but we found a way to take them out.\n",
    "\n",
    "There are other different currencies, so we added a list named ```currency```.\n",
    "\n",
    "If there are other errors in the process, we coded them as some form of \"ERR\".\n",
    "Because there are relatively low numbers of these errors and they are difficult to fix, we also treat them as \"NA\"."
   ]
  },
  {
   "cell_type": "code",
   "execution_count": 171,
   "metadata": {
    "collapsed": false
   },
   "outputs": [],
   "source": [
    "budget_sorted=[]\n",
    "currency=[]\n",
    "figure_error_1_index=[]\n",
    "figure_error_2_index=[]\n",
    "currency_error_index=[]\n",
    "figure_error_index=[]\n",
    "error=[]\n",
    "x=[]\n",
    "mm=0\n",
    "for item in df['budget']:\n",
    "    mm=mm+1\n",
    "    #print mm-1\n",
    "    for i in item:\n",
    "        if mm in [278+1,344+1,403+1,427+1,487+1,527+1,892+1,896+1,990+1,1059+1]: #all those of the form $40–50 million\n",
    "            currency.append(\"FERR1\")\n",
    "            budget_sorted.append('FERR1')\n",
    "            #print i\n",
    "            figure_error_1_index.append(mm-1)\n",
    "            ###################################\n",
    "        else:\n",
    "            #print i\n",
    "            if i==\"NA\": #takes care of the NA budgets\n",
    "                budget_sorted.append(\"NA\")\n",
    "                currency.append(\"NA\")\n",
    "                \n",
    "            else:\n",
    "                if len(i.split(\"$\"))==2: #all those of the form $1.1 million\n",
    "                    j=[]\n",
    "                    i=i.split(\"$\")\n",
    "                    j.append(i[0]) # currency marker\n",
    "                    j=j+(i[1].split(\" \"))\n",
    "                    #print j       # j has the form [u'', u'1,453,000'] or [u'', u'12', u'million']\n",
    "                elif len(i.split(\"$\"))==1: #all those of the form ₤4 million\n",
    "                    ii=i.encode('ascii','ignore') #get the money figure in the \"₤4 million\"\n",
    "                    j=[\"P\"]\n",
    "                    j=j+ii.split(\" \")\n",
    "                    #print j     # j has the form [u'P', u'1,453,000'] or [u'P', u'12', u'million']\n",
    "                \n",
    "                #takes care of the currency part\n",
    "                if j[0]=='':\n",
    "                    currency.append(\"USD\")\n",
    "                elif j[0]==\"A\":\n",
    "                    currency.append(\"AUD\")\n",
    "                elif j[0]==\"US\" or j[0]==\"(\":\n",
    "                    currency.append(\"USD\")   \n",
    "                elif j[0]==\"P\":\n",
    "                    currency.append(\"GBP\")  \n",
    "                else:\n",
    "                    currency_error_index.append(mm-1)\n",
    "                    #print j,mm-1\n",
    "                    currency.append(\"CERR\")\n",
    "                \n",
    "                \n",
    "                if len(j)==2:\n",
    "                    budget_sorted.append(j[1].replace(\",\",\"\"))\n",
    "                #else:\n",
    "                    #figure_error_2_index.append(mm-1)\n",
    "                    #budget_sorted.append(\"FERR2\") \n",
    "                elif 'million' in j:\n",
    "                    unit=1000000\n",
    "                    budget_sorted.append(int(float(j[1])*unit))\n",
    "                else:\n",
    "                    #print i\n",
    "                    figure_error_index.append(mm-1)\n",
    "                    budget_sorted.append(\"FERR\")"
   ]
  },
  {
   "cell_type": "code",
   "execution_count": 172,
   "metadata": {
    "collapsed": false
   },
   "outputs": [
    {
     "data": {
      "text/plain": [
       "(10, 0, 23, 11, 390)"
      ]
     },
     "execution_count": 172,
     "metadata": {},
     "output_type": "execute_result"
    }
   ],
   "source": [
    "len(figure_error_1_index),len(figure_error_2_index),len(figure_error_index),len(currency_error_index),df[df.budget_sorted==\"NA\"].shape[0]"
   ]
  },
  {
   "cell_type": "markdown",
   "metadata": {},
   "source": [
    "So in totle, we have 390+10+23+11=434 \"NA\"'s out of 1276 entries."
   ]
  },
  {
   "cell_type": "code",
   "execution_count": 173,
   "metadata": {
    "collapsed": false
   },
   "outputs": [
    {
     "data": {
      "text/plain": [
       "(1275, 1275)"
      ]
     },
     "execution_count": 173,
     "metadata": {},
     "output_type": "execute_result"
    }
   ],
   "source": [
    "len(budget_sorted),len(currency)"
   ]
  },
  {
   "cell_type": "code",
   "execution_count": 178,
   "metadata": {
    "collapsed": false
   },
   "outputs": [],
   "source": [
    "for m,b in enumerate(budget_sorted):\n",
    "    if m not in [158,328,349,401,440,444,468,607,608,632,765,963,968,984,1052,1265]:\n",
    "        if b not in [\"NA\",\"FERR\",\"CERR\",\"FERR1\"]:\n",
    "            '''#print m\n",
    "            #print float(b)'''"
   ]
  },
  {
   "cell_type": "code",
   "execution_count": 175,
   "metadata": {
    "collapsed": false
   },
   "outputs": [],
   "source": [
    "for i in [158,328,349,401,440,444,468,607,608,632,765,963,968,984,1052,1265]:\n",
    "    #print budget_sorted[i]\n",
    "    budget_sorted[i]=budget_sorted[i].encode('ascii','ignore')\n",
    "    if budget_sorted[i] in [\"N/A\",\"NA\",\"Unidentified\"]:\n",
    "        budget_sorted[i]=\"NA\"\n",
    "    else:\n",
    "        j=budget_sorted[i].split(\"m\")\n",
    "        budget_sorted[i]=int(float(j[0])*1000000)"
   ]
  },
  {
   "cell_type": "code",
   "execution_count": 188,
   "metadata": {
    "collapsed": false
   },
   "outputs": [],
   "source": [
    "for m,b in enumerate(budget_sorted):\n",
    "    if b in [\"NA\",\"FERR\",\"CERR\",\"FERR1\"]:\n",
    "        budget_sorted[m]=\"NA\"\n",
    "    else:\n",
    "        budget_sorted[m]=float(budget_sorted[m])\n",
    "\n",
    "for m,b in enumerate(currency):\n",
    "    if b in [\"NA\",\"FERR\",\"CERR\",\"FERR1\"]:\n",
    "        currency[m]=\"NA\"\n",
    "    else:\n",
    "        currency[m]=currency[m]\n",
    "    \n"
   ]
  },
  {
   "cell_type": "code",
   "execution_count": 189,
   "metadata": {
    "collapsed": false
   },
   "outputs": [],
   "source": [
    "#budget_sorted"
   ]
  },
  {
   "cell_type": "markdown",
   "metadata": {
    "collapsed": true
   },
   "source": [
    "We merge them into dataset."
   ]
  },
  {
   "cell_type": "code",
   "execution_count": 190,
   "metadata": {
    "collapsed": false,
    "scrolled": true
   },
   "outputs": [
    {
     "data": {
      "text/html": [
       "<div>\n",
       "<table border=\"1\" class=\"dataframe\">\n",
       "  <thead>\n",
       "    <tr style=\"text-align: right;\">\n",
       "      <th></th>\n",
       "      <th>movie_url</th>\n",
       "      <th>title</th>\n",
       "      <th>budget</th>\n",
       "      <th>box_office</th>\n",
       "      <th>imdb_link</th>\n",
       "      <th>rt_link</th>\n",
       "      <th>budget_sorted</th>\n",
       "      <th>currency</th>\n",
       "    </tr>\n",
       "  </thead>\n",
       "  <tbody>\n",
       "    <tr>\n",
       "      <th>0</th>\n",
       "      <td>/wiki/The_Year_of_Living_Dangerously_(film)</td>\n",
       "      <td>The Year of Living Dangerously</td>\n",
       "      <td>[A$6 million]</td>\n",
       "      <td>[A$2,898,000 (Australia), US$10,278,575]</td>\n",
       "      <td>http://www.imdb.com/title/tt0086617/</td>\n",
       "      <td>http://www.rottentomatoes.com/m/year_of_living...</td>\n",
       "      <td>6000000</td>\n",
       "      <td>AUD</td>\n",
       "    </tr>\n",
       "    <tr>\n",
       "      <th>1</th>\n",
       "      <td>/wiki/Saratoga_Trunk</td>\n",
       "      <td>Saratoga Trunk</td>\n",
       "      <td>[$1.75 million]</td>\n",
       "      <td>[$4,250,000 (US/ Canada rentals) ]</td>\n",
       "      <td>http://www.imdb.com/title/tt0038053/</td>\n",
       "      <td>NA</td>\n",
       "      <td>1750000</td>\n",
       "      <td>USD</td>\n",
       "    </tr>\n",
       "    <tr>\n",
       "      <th>2</th>\n",
       "      <td>/wiki/All_the_King%27s_Men_(1949_film)</td>\n",
       "      <td>All the King's Men</td>\n",
       "      <td>[NA]</td>\n",
       "      <td>[$2.4 million (US rentals)]</td>\n",
       "      <td>http://www.imdb.com/title/tt041113/</td>\n",
       "      <td>http://www.rottentomatoes.com/m/1000654-all_th...</td>\n",
       "      <td>NA</td>\n",
       "      <td>NA</td>\n",
       "    </tr>\n",
       "    <tr>\n",
       "      <th>3</th>\n",
       "      <td>/wiki/Romance_(1930_film)</td>\n",
       "      <td>Romance</td>\n",
       "      <td>[NA]</td>\n",
       "      <td>[NA]</td>\n",
       "      <td>http://www.imdb.com/title/tt0021310/</td>\n",
       "      <td>NA</td>\n",
       "      <td>NA</td>\n",
       "      <td>NA</td>\n",
       "    </tr>\n",
       "    <tr>\n",
       "      <th>4</th>\n",
       "      <td>/wiki/An_Education</td>\n",
       "      <td>An Education</td>\n",
       "      <td>[$7.5 million]</td>\n",
       "      <td>[$26,096,852]</td>\n",
       "      <td>http://www.imdb.com/title/tt1174732/</td>\n",
       "      <td>http://www.rottentomatoes.com/m/an_education/</td>\n",
       "      <td>7500000</td>\n",
       "      <td>USD</td>\n",
       "    </tr>\n",
       "  </tbody>\n",
       "</table>\n",
       "</div>"
      ],
      "text/plain": [
       "                                     movie_url                           title           budget                                box_office                             imdb_link                                            rt_link budget_sorted currency\n",
       "0  /wiki/The_Year_of_Living_Dangerously_(film)  The Year of Living Dangerously    [A$6 million]  [A$2,898,000 (Australia), US$10,278,575]  http://www.imdb.com/title/tt0086617/  http://www.rottentomatoes.com/m/year_of_living...       6000000      AUD\n",
       "1                         /wiki/Saratoga_Trunk                  Saratoga Trunk  [$1.75 million]        [$4,250,000 (US/ Canada rentals) ]  http://www.imdb.com/title/tt0038053/                                                 NA       1750000      USD\n",
       "2       /wiki/All_the_King%27s_Men_(1949_film)              All the King's Men             [NA]               [$2.4 million (US rentals)]   http://www.imdb.com/title/tt041113/  http://www.rottentomatoes.com/m/1000654-all_th...            NA       NA\n",
       "3                    /wiki/Romance_(1930_film)                         Romance             [NA]                                      [NA]  http://www.imdb.com/title/tt0021310/                                                 NA            NA       NA\n",
       "4                           /wiki/An_Education                    An Education   [$7.5 million]                             [$26,096,852]  http://www.imdb.com/title/tt1174732/      http://www.rottentomatoes.com/m/an_education/       7500000      USD"
      ]
     },
     "execution_count": 190,
     "metadata": {},
     "output_type": "execute_result"
    }
   ],
   "source": [
    "df['budget_sorted']=budget_sorted\n",
    "df['currency']=currency\n",
    "df.head()"
   ]
  },
  {
   "cell_type": "markdown",
   "metadata": {},
   "source": [
    "Extract the imdb if for merging purpose later."
   ]
  },
  {
   "cell_type": "code",
   "execution_count": 191,
   "metadata": {
    "collapsed": false
   },
   "outputs": [],
   "source": [
    "imdb_id=[]\n",
    "for l in df.imdb_link:\n",
    "    if l!=\"NA\":\n",
    "        imdb_id.append(l.split(\"/\")[-2])\n",
    "    else:\n",
    "        imdb_id.append(\"NA\")"
   ]
  },
  {
   "cell_type": "code",
   "execution_count": 192,
   "metadata": {
    "collapsed": false
   },
   "outputs": [
    {
     "data": {
      "text/html": [
       "<div>\n",
       "<table border=\"1\" class=\"dataframe\">\n",
       "  <thead>\n",
       "    <tr style=\"text-align: right;\">\n",
       "      <th></th>\n",
       "      <th>movie_url</th>\n",
       "      <th>title</th>\n",
       "      <th>budget</th>\n",
       "      <th>box_office</th>\n",
       "      <th>imdb_link</th>\n",
       "      <th>rt_link</th>\n",
       "      <th>budget_sorted</th>\n",
       "      <th>currency</th>\n",
       "      <th>imdb_id</th>\n",
       "    </tr>\n",
       "  </thead>\n",
       "  <tbody>\n",
       "    <tr>\n",
       "      <th>0</th>\n",
       "      <td>/wiki/The_Year_of_Living_Dangerously_(film)</td>\n",
       "      <td>The Year of Living Dangerously</td>\n",
       "      <td>[A$6 million]</td>\n",
       "      <td>[A$2,898,000 (Australia), US$10,278,575]</td>\n",
       "      <td>http://www.imdb.com/title/tt0086617/</td>\n",
       "      <td>http://www.rottentomatoes.com/m/year_of_living...</td>\n",
       "      <td>6000000</td>\n",
       "      <td>AUD</td>\n",
       "      <td>tt0086617</td>\n",
       "    </tr>\n",
       "    <tr>\n",
       "      <th>1</th>\n",
       "      <td>/wiki/Saratoga_Trunk</td>\n",
       "      <td>Saratoga Trunk</td>\n",
       "      <td>[$1.75 million]</td>\n",
       "      <td>[$4,250,000 (US/ Canada rentals) ]</td>\n",
       "      <td>http://www.imdb.com/title/tt0038053/</td>\n",
       "      <td>NA</td>\n",
       "      <td>1750000</td>\n",
       "      <td>USD</td>\n",
       "      <td>tt0038053</td>\n",
       "    </tr>\n",
       "    <tr>\n",
       "      <th>2</th>\n",
       "      <td>/wiki/All_the_King%27s_Men_(1949_film)</td>\n",
       "      <td>All the King's Men</td>\n",
       "      <td>[NA]</td>\n",
       "      <td>[$2.4 million (US rentals)]</td>\n",
       "      <td>http://www.imdb.com/title/tt041113/</td>\n",
       "      <td>http://www.rottentomatoes.com/m/1000654-all_th...</td>\n",
       "      <td>NA</td>\n",
       "      <td>NA</td>\n",
       "      <td>tt041113</td>\n",
       "    </tr>\n",
       "    <tr>\n",
       "      <th>3</th>\n",
       "      <td>/wiki/Romance_(1930_film)</td>\n",
       "      <td>Romance</td>\n",
       "      <td>[NA]</td>\n",
       "      <td>[NA]</td>\n",
       "      <td>http://www.imdb.com/title/tt0021310/</td>\n",
       "      <td>NA</td>\n",
       "      <td>NA</td>\n",
       "      <td>NA</td>\n",
       "      <td>tt0021310</td>\n",
       "    </tr>\n",
       "    <tr>\n",
       "      <th>4</th>\n",
       "      <td>/wiki/An_Education</td>\n",
       "      <td>An Education</td>\n",
       "      <td>[$7.5 million]</td>\n",
       "      <td>[$26,096,852]</td>\n",
       "      <td>http://www.imdb.com/title/tt1174732/</td>\n",
       "      <td>http://www.rottentomatoes.com/m/an_education/</td>\n",
       "      <td>7500000</td>\n",
       "      <td>USD</td>\n",
       "      <td>tt1174732</td>\n",
       "    </tr>\n",
       "  </tbody>\n",
       "</table>\n",
       "</div>"
      ],
      "text/plain": [
       "                                     movie_url                           title           budget                                box_office                             imdb_link                                            rt_link budget_sorted currency    imdb_id\n",
       "0  /wiki/The_Year_of_Living_Dangerously_(film)  The Year of Living Dangerously    [A$6 million]  [A$2,898,000 (Australia), US$10,278,575]  http://www.imdb.com/title/tt0086617/  http://www.rottentomatoes.com/m/year_of_living...       6000000      AUD  tt0086617\n",
       "1                         /wiki/Saratoga_Trunk                  Saratoga Trunk  [$1.75 million]        [$4,250,000 (US/ Canada rentals) ]  http://www.imdb.com/title/tt0038053/                                                 NA       1750000      USD  tt0038053\n",
       "2       /wiki/All_the_King%27s_Men_(1949_film)              All the King's Men             [NA]               [$2.4 million (US rentals)]   http://www.imdb.com/title/tt041113/  http://www.rottentomatoes.com/m/1000654-all_th...            NA       NA   tt041113\n",
       "3                    /wiki/Romance_(1930_film)                         Romance             [NA]                                      [NA]  http://www.imdb.com/title/tt0021310/                                                 NA            NA       NA  tt0021310\n",
       "4                           /wiki/An_Education                    An Education   [$7.5 million]                             [$26,096,852]  http://www.imdb.com/title/tt1174732/      http://www.rottentomatoes.com/m/an_education/       7500000      USD  tt1174732"
      ]
     },
     "execution_count": 192,
     "metadata": {},
     "output_type": "execute_result"
    }
   ],
   "source": [
    "df['imdb_id']=imdb_id\n",
    "df.head()"
   ]
  },
  {
   "cell_type": "code",
   "execution_count": null,
   "metadata": {
    "collapsed": true
   },
   "outputs": [],
   "source": []
  },
  {
   "cell_type": "code",
   "execution_count": 193,
   "metadata": {
    "collapsed": true
   },
   "outputs": [],
   "source": [
    "df.to_pickle('wiki_df_cleaned.csv')"
   ]
  },
  {
   "cell_type": "code",
   "execution_count": null,
   "metadata": {
    "collapsed": true
   },
   "outputs": [],
   "source": []
  },
  {
   "cell_type": "code",
   "execution_count": null,
   "metadata": {
    "collapsed": true
   },
   "outputs": [],
   "source": []
  },
  {
   "cell_type": "code",
   "execution_count": null,
   "metadata": {
    "collapsed": true
   },
   "outputs": [],
   "source": []
  },
  {
   "cell_type": "code",
   "execution_count": null,
   "metadata": {
    "collapsed": true
   },
   "outputs": [],
   "source": []
  }
 ],
 "metadata": {
  "kernelspec": {
   "display_name": "Python 2",
   "language": "python",
   "name": "python2"
  },
  "language_info": {
   "codemirror_mode": {
    "name": "ipython",
    "version": 2
   },
   "file_extension": ".py",
   "mimetype": "text/x-python",
   "name": "python",
   "nbconvert_exporter": "python",
   "pygments_lexer": "ipython2",
   "version": "2.7.10"
  }
 },
 "nbformat": 4,
 "nbformat_minor": 0
}
