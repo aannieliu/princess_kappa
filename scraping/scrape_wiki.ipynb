{
 "cells": [
  {
   "cell_type": "markdown",
   "metadata": {},
   "source": [
    "## Scrape Wikipedia for all the movies about their information on box office and budget.\n",
    "We can clean result for the budget, but the result for the box office is too difficult to clean. We will get box office information from other sources."
   ]
  },
  {
   "cell_type": "code",
   "execution_count": 1,
   "metadata": {
    "collapsed": true
   },
   "outputs": [],
   "source": [
    "%matplotlib inline\n",
    "import numpy as np\n",
    "import scipy as sp\n",
    "import matplotlib as mpl\n",
    "import matplotlib.cm as cm\n",
    "import matplotlib.pyplot as plt\n",
    "import pandas as pd\n",
    "import time\n",
    "pd.set_option('display.width', 500)\n",
    "pd.set_option('display.max_columns', 100)\n",
    "pd.set_option('display.notebook_repr_html', True)\n",
    "import seaborn as sns\n",
    "sns.set_style(\"whitegrid\")\n",
    "sns.set_context(\"poster\")\n",
    "\n",
    "from pyquery import PyQuery as pq\n",
    "from bs4 import BeautifulSoup\n",
    "# The \"requests\" library makes working with HTTP requests easier\n",
    "# than the built-in urllib libraries.\n",
    "import requests\n",
    "import re\n",
    "import string\n",
    "import json\n",
    "from tqdm import tqdm"
   ]
  },
  {
   "cell_type": "markdown",
   "metadata": {},
   "source": [
    "Scrape wikipedia page of each Oscar into yearstext dictionary"
   ]
  },
  {
   "cell_type": "code",
   "execution_count": 2,
   "metadata": {
    "collapsed": true
   },
   "outputs": [],
   "source": [
    "SUFFIXES = {1: 'st', 2: 'nd', 3: 'rd'}\n",
    "def ordinal(num):\n",
    "    if 10 <= num % 100 <= 20:\n",
    "        suffix = 'th'\n",
    "    else:\n",
    "        suffix = SUFFIXES.get(num % 10, 'th')\n",
    "    return str(num) + suffix"
   ]
  },
  {
   "cell_type": "code",
   "execution_count": 3,
   "metadata": {
    "collapsed": false
   },
   "outputs": [],
   "source": [
    "yearstext={}\n",
    "for year in range(1,88):\n",
    "    wikipage=\"https://en.wikipedia.org/wiki/{}_Academy_Awards\".format(ordinal(year))\n",
    "    if requests.get(wikipage).status_code==404:\n",
    "        print year\n",
    "    else:\n",
    "        yearstext[year] = requests.get(wikipage)\n",
    "    "
   ]
  },
  {
   "cell_type": "markdown",
   "metadata": {},
   "source": [
    "Now we create a function to get the movie urls from each Oscar wikipedia page."
   ]
  },
  {
   "cell_type": "code",
   "execution_count": 5,
   "metadata": {
    "collapsed": false
   },
   "outputs": [
    {
     "data": {
      "text/plain": [
       "u'Titanic'"
      ]
     },
     "execution_count": 5,
     "metadata": {},
     "output_type": "execute_result"
    }
   ],
   "source": [
    "#test\n",
    "year=70\n",
    "yeartextdict = yearstext[year]\n",
    "soup = BeautifulSoup(yeartextdict.text, \"html.parser\")\n",
    "rows = soup.find(\"table\", attrs={\"class\": \"wikitable\"}).find_all(\"tr\")[0:]\n",
    "if year in range(9,59)+[69]:\n",
    "    s1=1\n",
    "    s2=3\n",
    "    s3=5\n",
    "else:\n",
    "    s1=0\n",
    "    s2=1\n",
    "    s3=2\n",
    "bp_text=rows[s1].find_all(\"td\")[0]\n",
    "bd_text=rows[s1].find_all(\"td\")[1]\n",
    "b_actor_text=rows[s2].find_all(\"td\")[0]\n",
    "b_actress_text=rows[s2].find_all(\"td\")[1]\n",
    "b_s_actor_text=rows[s3].find_all(\"td\")[0]\n",
    "b_s_actress_text=rows[s3].find_all(\"td\")[1]\n",
    "bp_text.find_all(\"li\")[0].find_all(\"i\")[0].find(\"a\").get_text()\n"
   ]
  },
  {
   "cell_type": "markdown",
   "metadata": {},
   "source": [
    "This function applies to each Oscar wikipedia page for the 9th to 59th Oscars. It returns the movie urls and the movie titles and a dictionary with keys as movie urls and value as movie titles."
   ]
  },
  {
   "cell_type": "code",
   "execution_count": 6,
   "metadata": {
    "collapsed": true
   },
   "outputs": [],
   "source": [
    "#function to get movie url for the 9th to 59th Oscars\n",
    "def get_movie_url_2(year, yearstext):\n",
    "    yeartextdict = yearstext[year]\n",
    "    soup = BeautifulSoup(yeartextdict.text, \"html.parser\")\n",
    "    rows = soup.find(\"table\", attrs={\"class\": \"wikitable\"}).find_all(\"tr\")[0:]\n",
    "    if year in range(9,59)+[69]:\n",
    "        s1=1\n",
    "        s2=3\n",
    "        s3=5\n",
    "    else:\n",
    "        s1=0\n",
    "        s2=1\n",
    "        s3=2\n",
    "    bp_text=rows[s1].find_all(\"td\")[0]\n",
    "    bd_text=rows[s1].find_all(\"td\")[1]\n",
    "    b_actor_text=rows[s2].find_all(\"td\")[0]\n",
    "    b_actress_text=rows[s2].find_all(\"td\")[1]\n",
    "    b_s_actor_text=rows[s3].find_all(\"td\")[0]\n",
    "    b_s_actress_text=rows[s3].find_all(\"td\")[1]\n",
    "    movie_url=[]\n",
    "    movie_title=[]\n",
    "    for m in bp_text.find_all(\"li\")[0].find_all(\"i\"):\n",
    "        if m.find(\"a\")==None:\n",
    "            a=1\n",
    "        else:\n",
    "            movie_url.append(m.find(\"a\").get(\"href\"))\n",
    "            movie_title.append(m.find(\"a\").get_text())\n",
    "    for m in bd_text.find_all(\"li\")[0].find_all(\"i\"):\n",
    "        if m.find(\"a\")==None:\n",
    "            a=1\n",
    "        else:\n",
    "            movie_url.append(m.find(\"a\").get(\"href\"))\n",
    "            movie_title.append(m.find(\"a\").get_text())\n",
    "    for m in b_actor_text.find_all(\"li\")[0].find_all(\"i\"):\n",
    "        if m.find(\"a\")==None:\n",
    "            a=1\n",
    "        else:\n",
    "            movie_url.append(m.find(\"a\").get(\"href\"))\n",
    "            movie_title.append(m.find(\"a\").get_text())\n",
    "    for m in b_actress_text.find_all(\"li\")[0].find_all(\"i\"):\n",
    "        if m.find(\"a\")==None:\n",
    "            a=1\n",
    "        else:\n",
    "            movie_url.append(m.find(\"a\").get(\"href\"))\n",
    "            movie_title.append(m.find(\"a\").get_text())\n",
    "    for m in b_s_actor_text.find_all(\"li\")[0].find_all(\"i\"):\n",
    "        if m.find(\"a\")==None:\n",
    "            a=1\n",
    "        else:\n",
    "            movie_url.append(m.find(\"a\").get(\"href\"))\n",
    "            movie_title.append(m.find(\"a\").get_text())\n",
    "    for m in b_s_actress_text.find_all(\"li\")[0].find_all(\"i\"):\n",
    "        if m.find(\"a\")==None:\n",
    "            a=1\n",
    "        else:\n",
    "            movie_url.append(m.find(\"a\").get(\"href\"))\n",
    "            movie_title.append(m.find(\"a\").get_text())\n",
    "    movies=dict(zip(movie_url,movie_title))\n",
    "    return movie_url , movie_title, movies\n",
    "    "
   ]
  },
  {
   "cell_type": "markdown",
   "metadata": {},
   "source": [
    "This function applies to each Oscar wikipedia page for the 9th to 59th Oscars. It returns the movie urls and the movie titles and a dictionary with keys as movie urls and value as movie titles."
   ]
  },
  {
   "cell_type": "code",
   "execution_count": 7,
   "metadata": {
    "collapsed": false
   },
   "outputs": [],
   "source": [
    "#function to get movie url for first 9 Oscars\n",
    "def get_movie_url_1(year, yearstext):\n",
    "    yeartextdict = yearstext[year]\n",
    "    soup = BeautifulSoup(yeartextdict.text, \"html.parser\")\n",
    "    rows = soup.find(\"table\", attrs={\"class\": \"wikitable\"}).find_all(\"tr\")[0:]\n",
    "    if year ==1 :\n",
    "        s1=0\n",
    "        s2=1\n",
    "        s3=2\n",
    "        bp_text=rows[s1].find_all(\"td\")[0]\n",
    "        bd_text=rows[s2].find_all(\"td\")[0]\n",
    "        bd_text2=rows[s2].find_all(\"td\")[1]\n",
    "        b_actor_text=rows[s3].find_all(\"td\")[0]\n",
    "        b_actress_text=rows[s3].find_all(\"td\")[1]\n",
    "        #b_s_actor_text=rows[s3].find_all(\"td\")[0]\n",
    "        #b_s_actress_text=rows[s3].find_all(\"td\")[1]\n",
    "        movie_url=[]\n",
    "        movie_title=[]\n",
    "        for m in bp_text.find_all(\"li\")[0].find_all(\"i\"):\n",
    "            if m.find(\"a\")==None:\n",
    "                a=1\n",
    "            else:\n",
    "                movie_url.append(m.find(\"a\").get(\"href\"))\n",
    "                movie_title.append(m.find(\"a\").get_text())\n",
    "        for m in bd_text.find_all(\"li\")[0].find_all(\"i\"):\n",
    "            if m.find(\"a\")==None:\n",
    "                a=1\n",
    "            else:\n",
    "                movie_url.append(m.find(\"a\").get(\"href\"))\n",
    "                movie_title.append(m.find(\"a\").get_text())\n",
    "        for m in bd_text2.find_all(\"li\")[0].find_all(\"i\"):\n",
    "            if m.find(\"a\")==None:\n",
    "                a=1\n",
    "            else:\n",
    "                movie_url.append(m.find(\"a\").get(\"href\"))\n",
    "                movie_title.append(m.find(\"a\").get_text())\n",
    "        for m in b_actor_text.find_all(\"li\")[0].find_all(\"i\"):\n",
    "            if m.find(\"a\")==None:\n",
    "                a=1\n",
    "            else:\n",
    "                movie_url.append(m.find(\"a\").get(\"href\"))\n",
    "                movie_title.append(m.find(\"a\").get_text())\n",
    "        for m in b_actress_text.find_all(\"li\")[0].find_all(\"i\"):\n",
    "            if m.find(\"a\")==None:\n",
    "                a=1\n",
    "            else:\n",
    "                movie_url.append(m.find(\"a\").get(\"href\"))\n",
    "                movie_title.append(m.find(\"a\").get_text())\n",
    "                \n",
    "    else :\n",
    "        s1=1\n",
    "        s2=3\n",
    "        bp_text=rows[s1].find_all(\"td\")[0]\n",
    "        bd_text=rows[s1].find_all(\"td\")[1]\n",
    "        b_actor_text=rows[s2].find_all(\"td\")[0]\n",
    "        b_actress_text=rows[s2].find_all(\"td\")[1]\n",
    "        #b_s_actor_text=rows[s3].find_all(\"td\")[0]\n",
    "        #b_s_actress_text=rows[s3].find_all(\"td\")[1]\n",
    "        movie_url=[]\n",
    "        movie_title=[]\n",
    "        for m in bp_text.find_all(\"li\")[0].find_all(\"i\"):\n",
    "            if m.find(\"a\")==None:\n",
    "                a=1\n",
    "            else:\n",
    "                movie_url.append(m.find(\"a\").get(\"href\"))\n",
    "                movie_title.append(m.find(\"a\").get_text())\n",
    "        for m in bd_text.find_all(\"li\")[0].find_all(\"i\"):\n",
    "            if m.find(\"a\")==None:\n",
    "                a=1\n",
    "            else:\n",
    "                movie_url.append(m.find(\"a\").get(\"href\"))\n",
    "                movie_title.append(m.find(\"a\").get_text())\n",
    "        for m in b_actor_text.find_all(\"li\")[0].find_all(\"i\"):\n",
    "            if m.find(\"a\")==None:\n",
    "                a=1\n",
    "            else:\n",
    "                movie_url.append(m.find(\"a\").get(\"href\"))\n",
    "                movie_title.append(m.find(\"a\").get_text())\n",
    "        for m in b_actress_text.find_all(\"li\")[0].find_all(\"i\"):\n",
    "            if m.find(\"a\")==None:\n",
    "                a=1\n",
    "            else:\n",
    "                movie_url.append(m.find(\"a\").get(\"href\"))\n",
    "                movie_title.append(m.find(\"a\").get_text())\n",
    "    movies=dict(zip(movie_url,movie_title))\n",
    "    return movie_url , movie_title, movies"
   ]
  },
  {
   "cell_type": "markdown",
   "metadata": {},
   "source": [
    "Apply the function to all the wikipedia Oscar pages."
   ]
  },
  {
   "cell_type": "code",
   "execution_count": 9,
   "metadata": {
    "collapsed": false
   },
   "outputs": [],
   "source": [
    "movie_url=[]\n",
    "movie_titles=[]\n",
    "movie_dict={} #movie_url as key -- movie title\n",
    "for year in range(1,10):\n",
    "    movie_url.extend(get_movie_url_1(year,yearstext)[0])\n",
    "    movie_titles.extend(get_movie_url_1(year,yearstext)[1])\n",
    "    movie_dict.update(get_movie_url_1(year,yearstext)[2])\n",
    "for year in range(9,88):\n",
    "    #print year\n",
    "    movie_url.extend(get_movie_url_2(year,yearstext)[0])\n",
    "    movie_titles.extend(get_movie_url_2(year,yearstext)[1])\n",
    "    movie_dict.update(get_movie_url_2(year,yearstext)[2])"
   ]
  },
  {
   "cell_type": "markdown",
   "metadata": {},
   "source": [
    "Check that the lenths are as desired."
   ]
  },
  {
   "cell_type": "code",
   "execution_count": 10,
   "metadata": {
    "collapsed": false
   },
   "outputs": [
    {
     "data": {
      "text/plain": [
       "(1275, 1275, 1275)"
      ]
     },
     "execution_count": 10,
     "metadata": {},
     "output_type": "execute_result"
    }
   ],
   "source": [
    "movie_url=list(set(movie_url))\n",
    "movie_titles=list(set(movie_url))\n",
    "#movie_dict\n",
    "len(movie_url),len(movie_titles),len(movie_dict)"
   ]
  },
  {
   "cell_type": "markdown",
   "metadata": {},
   "source": [
    "Scrape wikipedia to get all the movie wikipedia pages. These are stored into ```moviestex``` dictionary. In case of failed ```get.``` attempt, we store all the failed urls into the ```failed_url``` list. It turns out that all the ```get.``` attemps are successful."
   ]
  },
  {
   "cell_type": "code",
   "execution_count": null,
   "metadata": {
    "collapsed": false
   },
   "outputs": [
    {
     "name": "stderr",
     "output_type": "stream",
     "text": [
      "Exception in thread Thread-1:\n",
      "Traceback (most recent call last):\n",
      "  File \"/Users/rachelfyy/anaconda/lib/python2.7/threading.py\", line 810, in __bootstrap_inner\n",
      "    self.run()\n",
      "  File \"/Users/rachelfyy/anaconda/lib/python2.7/site-packages/ipykernel/parentpoller.py\", line 37, in run\n",
      "    time.sleep(1.0)\n",
      "TypeError: 'float' object is not callable\n",
      "\n"
     ]
    }
   ],
   "source": [
    "moviestext={}\n",
    "failed_url=[]\n",
    "for url in movie_url:\n",
    "    wikipage=\"https://en.wikipedia.org{}\".format(url)\n",
    "    if requests.get(wikipage).status_code==404:\n",
    "        failed_url.append(url)\n",
    "    else:\n",
    "        moviestext[url] = requests.get(wikipage)\n",
    "        time.sleep=1.0"
   ]
  },
  {
   "cell_type": "code",
   "execution_count": null,
   "metadata": {
    "collapsed": false
   },
   "outputs": [
    {
     "data": {
      "text/plain": [
       "(1275, 0)"
      ]
     },
     "execution_count": 12,
     "metadata": {},
     "output_type": "execute_result"
    }
   ],
   "source": [
    "len(moviestext),len(failed_url)"
   ]
  },
  {
   "cell_type": "code",
   "execution_count": null,
   "metadata": {
    "collapsed": false
   },
   "outputs": [],
   "source": [
    "movietextdict=moviestext[moviestext.keys()[0]]"
   ]
  },
  {
   "cell_type": "markdown",
   "metadata": {},
   "source": [
    "We now write a function for each movie page. This function takes ```movie_url``` and ```moviestext``` (the dictionary containing all scraped text) and returns the budget and box office information in list forms."
   ]
  },
  {
   "cell_type": "code",
   "execution_count": null,
   "metadata": {
    "collapsed": false
   },
   "outputs": [],
   "source": [
    "def get_budget(movie_url,moviestext):\n",
    "    movietextdict=moviestext[movie_url]\n",
    "    bad_movie=[]\n",
    "    budget=[\"NA\"]\n",
    "    box_office=[\"NA\"]\n",
    "    soup = BeautifulSoup(movietextdict.text, \"html.parser\")\n",
    "    if soup.find(\"table\", attrs={\"class\": \"infobox vevent\"})==None:\n",
    "        bad_movie.append(movie_url)\n",
    "    else:\n",
    "        rows = soup.find(\"table\", attrs={\"class\": \"infobox vevent\"}).find_all(\"tr\")[0:]\n",
    "        for r in rows:\n",
    "            if r.find(\"th\")==None:\n",
    "                continue\n",
    "            if r.find(\"th\").get_text()==\"Budget\":\n",
    "                budget=[]\n",
    "                budget=[r.find(\"td\").get_text().split(\"[\")[0]]\n",
    "\n",
    "            if r.find(\"th\")==None:\n",
    "                continue\n",
    "            if r.find(\"th\").get_text()==\"Box office\":\n",
    "                box_office=[]\n",
    "                for b in r.find(\"td\").get_text().split(\"\\n\"):\n",
    "                    box_office.append(b.split(\"[\")[0])\n",
    "    \n",
    "    return budget,box_office\n",
    "        \n"
   ]
  },
  {
   "cell_type": "code",
   "execution_count": null,
   "metadata": {
    "collapsed": false
   },
   "outputs": [
    {
     "data": {
      "text/plain": [
       "([u'A$6 million'], [u'A$2,898,000 (Australia)', u'US$10,278,575'])"
      ]
     },
     "execution_count": 15,
     "metadata": {},
     "output_type": "execute_result"
    }
   ],
   "source": [
    "##test\n",
    "get_budget(moviestext.keys()[0],moviestext)"
   ]
  },
  {
   "cell_type": "markdown",
   "metadata": {},
   "source": [
    "Apply the function and check the resulting lengths."
   ]
  },
  {
   "cell_type": "code",
   "execution_count": null,
   "metadata": {
    "collapsed": false
   },
   "outputs": [],
   "source": [
    "movieurl_budget_dict={}\n",
    "movieurl_bo_dict={}\n",
    "for movieurl in moviestext.keys():\n",
    "    #print movieurl\n",
    "    movieurl_budget_dict[movieurl],movieurl_bo_dict[movieurl]=get_budget(movieurl,moviestext)\n"
   ]
  },
  {
   "cell_type": "code",
   "execution_count": null,
   "metadata": {
    "collapsed": false
   },
   "outputs": [
    {
     "data": {
      "text/plain": [
       "(1275, 1275)"
      ]
     },
     "execution_count": 18,
     "metadata": {},
     "output_type": "execute_result"
    }
   ],
   "source": [
    "#movieurl_bo_dict\n",
    "len(movieurl_budget_dict),len(movieurl_bo_dict)"
   ]
  },
  {
   "cell_type": "markdown",
   "metadata": {},
   "source": [
    "Write a function takes in each movie page and return the list of imdb link ```imdb_link``` and list of rotten tomatoes link ```rt_link``` ."
   ]
  },
  {
   "cell_type": "code",
   "execution_count": null,
   "metadata": {
    "collapsed": false
   },
   "outputs": [],
   "source": [
    "movietextdict=moviestext[moviestext.keys()[0]]"
   ]
  },
  {
   "cell_type": "code",
   "execution_count": null,
   "metadata": {
    "collapsed": false
   },
   "outputs": [
    {
     "data": {
      "text/plain": [
       "'soup = BeautifulSoup(movietextdict.text, \"html.parser\")\\n#rows=soup.find_parents(\"\")[0:][-1].next_element.next_element\\nrows=soup.find_all(\"a\", attrs={\"class\": \"external text\", \"rel\":\"nofollow\"})[0:]\\n#rows=soup.find_all(\"table\")[0:] #,attrs={\"class\": \"mbox-small plainlinks sistersitebox\"}\\nexternal_links=[]\\nfor row in rows:\\n    if row.find(\"i\")!= None:\\n        external_links.append(row.get(\"href\"))\\n\\nfor l in external_links:\\n    if \"imdb\" in l:\\n        imdb_link=l\\n    if \"rottentomatoes\" in l:\\n        rt_link=l\\n'"
      ]
     },
     "execution_count": 20,
     "metadata": {},
     "output_type": "execute_result"
    }
   ],
   "source": [
    "###test\n",
    "'''soup = BeautifulSoup(movietextdict.text, \"html.parser\")\n",
    "#rows=soup.find_parents(\"\")[0:][-1].next_element.next_element\n",
    "rows=soup.find_all(\"a\", attrs={\"class\": \"external text\", \"rel\":\"nofollow\"})[0:]\n",
    "#rows=soup.find_all(\"table\")[0:] #,attrs={\"class\": \"mbox-small plainlinks sistersitebox\"}\n",
    "external_links=[]\n",
    "for row in rows:\n",
    "    if row.find(\"i\")!= None:\n",
    "        external_links.append(row.get(\"href\"))\n",
    "\n",
    "for l in external_links:\n",
    "    if \"imdb\" in l:\n",
    "        imdb_link=l\n",
    "    if \"rottentomatoes\" in l:\n",
    "        rt_link=l\n",
    "'''"
   ]
  },
  {
   "cell_type": "code",
   "execution_count": null,
   "metadata": {
    "collapsed": true
   },
   "outputs": [],
   "source": [
    "#function to get imbd movie id and rotten tomatoes url\n",
    "def get_imbd_rt_url(movie_url,moviestext):\n",
    "    movietextdict=moviestext[movie_url]\n",
    "    soup = BeautifulSoup(movietextdict.text, \"html.parser\")\n",
    "    rows=soup.find_all(\"a\", attrs={\"class\": \"external text\", \"rel\":\"nofollow\"})[0:]\n",
    "    external_links=[]\n",
    "    imdb_link=\"NA\"\n",
    "    rt_link=\"NA\"\n",
    "    for row in rows:\n",
    "        if row.find(\"i\")!= None:\n",
    "            external_links.append(row.get(\"href\"))\n",
    "\n",
    "    for l in external_links:\n",
    "        if \"imdb\" in l:\n",
    "            imdb_link=l\n",
    "        if \"rottentomatoes\" in l:\n",
    "            rt_link=l\n",
    "    return imdb_link,rt_link\n",
    "    "
   ]
  },
  {
   "cell_type": "code",
   "execution_count": null,
   "metadata": {
    "collapsed": false
   },
   "outputs": [
    {
     "data": {
      "text/plain": [
       "(u'http://www.imdb.com/title/tt0086617/',\n",
       " u'http://www.rottentomatoes.com/m/year_of_living_dangerously/')"
      ]
     },
     "execution_count": 22,
     "metadata": {},
     "output_type": "execute_result"
    }
   ],
   "source": [
    "#test\n",
    "get_imbd_rt_url(moviestext.keys()[0],moviestext)"
   ]
  },
  {
   "cell_type": "markdown",
   "metadata": {},
   "source": [
    "Apply the function to all movies."
   ]
  },
  {
   "cell_type": "code",
   "execution_count": null,
   "metadata": {
    "collapsed": true
   },
   "outputs": [],
   "source": [
    "movieurl_imdb_link_dict={}\n",
    "movieurl_rt_link_dict={}\n",
    "for movieurl in moviestext.keys():\n",
    "    #print movieurl\n",
    "    movieurl_imdb_link_dict[movieurl],movieurl_rt_link_dict[movieurl]=get_imbd_rt_url(movieurl,moviestext)"
   ]
  },
  {
   "cell_type": "code",
   "execution_count": null,
   "metadata": {
    "collapsed": false
   },
   "outputs": [
    {
     "data": {
      "text/plain": [
       "(1275, 1275)"
      ]
     },
     "execution_count": 24,
     "metadata": {},
     "output_type": "execute_result"
    }
   ],
   "source": [
    "len(movieurl_imdb_link_dict),len(movieurl_rt_link_dict)"
   ]
  },
  {
   "cell_type": "markdown",
   "metadata": {},
   "source": [
    "Merge into dataframe."
   ]
  },
  {
   "cell_type": "code",
   "execution_count": null,
   "metadata": {
    "collapsed": false
   },
   "outputs": [],
   "source": [
    "movie_url_df=pd.DataFrame(movie_dict.items(),columns=['movie_url', 'title'])\n",
    "movie_budget_df=pd.DataFrame(movieurl_budget_dict.items(),columns=['movie_url', 'budget'])\n",
    "movie_bo_df=pd.DataFrame(movieurl_bo_dict.items(),columns=['movie_url', 'box_office'])\n",
    "movie_imdb_link_df=pd.DataFrame(movieurl_imdb_link_dict.items(),columns=['movie_url', 'imdb_link'])\n",
    "movie_rt_link_df=pd.DataFrame(movieurl_rt_link_dict.items(),columns=['movie_url', 'rt_link'])\n",
    "#movie_budget_df.head()\n",
    "#movie_bo_df.head()\n",
    "#movie_url_df.head()\n",
    "#movie_imdb_link_df.head()"
   ]
  },
  {
   "cell_type": "code",
   "execution_count": null,
   "metadata": {
    "collapsed": false
   },
   "outputs": [
    {
     "data": {
      "text/html": [
       "<div>\n",
       "<table border=\"1\" class=\"dataframe\">\n",
       "  <thead>\n",
       "    <tr style=\"text-align: right;\">\n",
       "      <th></th>\n",
       "      <th>movie_url</th>\n",
       "      <th>title</th>\n",
       "      <th>budget</th>\n",
       "      <th>box_office</th>\n",
       "      <th>imdb_link</th>\n",
       "      <th>rt_link</th>\n",
       "    </tr>\n",
       "  </thead>\n",
       "  <tbody>\n",
       "    <tr>\n",
       "      <th>0</th>\n",
       "      <td>/wiki/The_Year_of_Living_Dangerously_(film)</td>\n",
       "      <td>The Year of Living Dangerously</td>\n",
       "      <td>[A$6 million]</td>\n",
       "      <td>[A$2,898,000 (Australia), US$10,278,575]</td>\n",
       "      <td>http://www.imdb.com/title/tt0086617/</td>\n",
       "      <td>http://www.rottentomatoes.com/m/year_of_living...</td>\n",
       "    </tr>\n",
       "    <tr>\n",
       "      <th>1</th>\n",
       "      <td>/wiki/Saratoga_Trunk</td>\n",
       "      <td>Saratoga Trunk</td>\n",
       "      <td>[$1.75 million]</td>\n",
       "      <td>[$4,250,000 (US/ Canada rentals) ]</td>\n",
       "      <td>http://www.imdb.com/title/tt0038053/</td>\n",
       "      <td>NA</td>\n",
       "    </tr>\n",
       "    <tr>\n",
       "      <th>2</th>\n",
       "      <td>/wiki/All_the_King%27s_Men_(1949_film)</td>\n",
       "      <td>All the King's Men</td>\n",
       "      <td>[NA]</td>\n",
       "      <td>[$2.4 million (US rentals)]</td>\n",
       "      <td>http://www.imdb.com/title/tt041113/</td>\n",
       "      <td>http://www.rottentomatoes.com/m/1000654-all_th...</td>\n",
       "    </tr>\n",
       "    <tr>\n",
       "      <th>3</th>\n",
       "      <td>/wiki/Romance_(1930_film)</td>\n",
       "      <td>Romance</td>\n",
       "      <td>[NA]</td>\n",
       "      <td>[NA]</td>\n",
       "      <td>http://www.imdb.com/title/tt0021310/</td>\n",
       "      <td>NA</td>\n",
       "    </tr>\n",
       "    <tr>\n",
       "      <th>4</th>\n",
       "      <td>/wiki/An_Education</td>\n",
       "      <td>An Education</td>\n",
       "      <td>[$7.5 million]</td>\n",
       "      <td>[$26,096,852]</td>\n",
       "      <td>http://www.imdb.com/title/tt1174732/</td>\n",
       "      <td>http://www.rottentomatoes.com/m/an_education/</td>\n",
       "    </tr>\n",
       "  </tbody>\n",
       "</table>\n",
       "</div>"
      ],
      "text/plain": [
       "                                     movie_url                           title           budget                                box_office                             imdb_link                                            rt_link\n",
       "0  /wiki/The_Year_of_Living_Dangerously_(film)  The Year of Living Dangerously    [A$6 million]  [A$2,898,000 (Australia), US$10,278,575]  http://www.imdb.com/title/tt0086617/  http://www.rottentomatoes.com/m/year_of_living...\n",
       "1                         /wiki/Saratoga_Trunk                  Saratoga Trunk  [$1.75 million]        [$4,250,000 (US/ Canada rentals) ]  http://www.imdb.com/title/tt0038053/                                                 NA\n",
       "2       /wiki/All_the_King%27s_Men_(1949_film)              All the King's Men             [NA]               [$2.4 million (US rentals)]   http://www.imdb.com/title/tt041113/  http://www.rottentomatoes.com/m/1000654-all_th...\n",
       "3                    /wiki/Romance_(1930_film)                         Romance             [NA]                                      [NA]  http://www.imdb.com/title/tt0021310/                                                 NA\n",
       "4                           /wiki/An_Education                    An Education   [$7.5 million]                             [$26,096,852]  http://www.imdb.com/title/tt1174732/      http://www.rottentomatoes.com/m/an_education/"
      ]
     },
     "execution_count": 26,
     "metadata": {},
     "output_type": "execute_result"
    }
   ],
   "source": [
    "frames = [movie_url_df, movie_budget_df, movie_bo_df]\n",
    "df = pd.merge(movie_url_df, movie_budget_df, on='movie_url')\n",
    "df=pd.merge(df, movie_bo_df, on='movie_url')\n",
    "df=pd.merge(df, movie_imdb_link_df, on='movie_url')\n",
    "df=pd.merge(df, movie_rt_link_df, on='movie_url')\n",
    "df.head()"
   ]
  },
  {
   "cell_type": "code",
   "execution_count": null,
   "metadata": {
    "collapsed": false
   },
   "outputs": [
    {
     "name": "stdout",
     "output_type": "stream",
     "text": [
      "movies without rt_link\n",
      "6\n"
     ]
    }
   ],
   "source": [
    "print \"movies without rt_link\"  \n",
    "print df[df[\"rt_link\"]==\"NA\"].shape[1]"
   ]
  },
  {
   "cell_type": "code",
   "execution_count": null,
   "metadata": {
    "collapsed": false
   },
   "outputs": [
    {
     "data": {
      "text/plain": [
       "(515, 6)"
      ]
     },
     "execution_count": 28,
     "metadata": {},
     "output_type": "execute_result"
    }
   ],
   "source": [
    "df[df['rt_link']==\"NA\"].shape"
   ]
  },
  {
   "cell_type": "code",
   "execution_count": null,
   "metadata": {
    "collapsed": false
   },
   "outputs": [
    {
     "data": {
      "text/html": [
       "<div>\n",
       "<table border=\"1\" class=\"dataframe\">\n",
       "  <thead>\n",
       "    <tr style=\"text-align: right;\">\n",
       "      <th></th>\n",
       "      <th>movie_url</th>\n",
       "      <th>title</th>\n",
       "      <th>budget</th>\n",
       "      <th>box_office</th>\n",
       "      <th>imdb_link</th>\n",
       "      <th>rt_link</th>\n",
       "    </tr>\n",
       "  </thead>\n",
       "  <tbody>\n",
       "    <tr>\n",
       "      <th>0</th>\n",
       "      <td>/wiki/The_Year_of_Living_Dangerously_(film)</td>\n",
       "      <td>The Year of Living Dangerously</td>\n",
       "      <td>[A$6 million]</td>\n",
       "      <td>[A$2,898,000 (Australia), US$10,278,575]</td>\n",
       "      <td>http://www.imdb.com/title/tt0086617/</td>\n",
       "      <td>http://www.rottentomatoes.com/m/year_of_living...</td>\n",
       "    </tr>\n",
       "    <tr>\n",
       "      <th>1</th>\n",
       "      <td>/wiki/Saratoga_Trunk</td>\n",
       "      <td>Saratoga Trunk</td>\n",
       "      <td>[$1.75 million]</td>\n",
       "      <td>[$4,250,000 (US/ Canada rentals) ]</td>\n",
       "      <td>http://www.imdb.com/title/tt0038053/</td>\n",
       "      <td>NA</td>\n",
       "    </tr>\n",
       "    <tr>\n",
       "      <th>2</th>\n",
       "      <td>/wiki/All_the_King%27s_Men_(1949_film)</td>\n",
       "      <td>All the King's Men</td>\n",
       "      <td>[NA]</td>\n",
       "      <td>[$2.4 million (US rentals)]</td>\n",
       "      <td>http://www.imdb.com/title/tt041113/</td>\n",
       "      <td>http://www.rottentomatoes.com/m/1000654-all_th...</td>\n",
       "    </tr>\n",
       "    <tr>\n",
       "      <th>3</th>\n",
       "      <td>/wiki/Romance_(1930_film)</td>\n",
       "      <td>Romance</td>\n",
       "      <td>[NA]</td>\n",
       "      <td>[NA]</td>\n",
       "      <td>http://www.imdb.com/title/tt0021310/</td>\n",
       "      <td>NA</td>\n",
       "    </tr>\n",
       "    <tr>\n",
       "      <th>4</th>\n",
       "      <td>/wiki/An_Education</td>\n",
       "      <td>An Education</td>\n",
       "      <td>[$7.5 million]</td>\n",
       "      <td>[$26,096,852]</td>\n",
       "      <td>http://www.imdb.com/title/tt1174732/</td>\n",
       "      <td>http://www.rottentomatoes.com/m/an_education/</td>\n",
       "    </tr>\n",
       "  </tbody>\n",
       "</table>\n",
       "</div>"
      ],
      "text/plain": [
       "                                     movie_url                           title           budget                                box_office                             imdb_link                                            rt_link\n",
       "0  /wiki/The_Year_of_Living_Dangerously_(film)  The Year of Living Dangerously    [A$6 million]  [A$2,898,000 (Australia), US$10,278,575]  http://www.imdb.com/title/tt0086617/  http://www.rottentomatoes.com/m/year_of_living...\n",
       "1                         /wiki/Saratoga_Trunk                  Saratoga Trunk  [$1.75 million]        [$4,250,000 (US/ Canada rentals) ]  http://www.imdb.com/title/tt0038053/                                                 NA\n",
       "2       /wiki/All_the_King%27s_Men_(1949_film)              All the King's Men             [NA]               [$2.4 million (US rentals)]   http://www.imdb.com/title/tt041113/  http://www.rottentomatoes.com/m/1000654-all_th...\n",
       "3                    /wiki/Romance_(1930_film)                         Romance             [NA]                                      [NA]  http://www.imdb.com/title/tt0021310/                                                 NA\n",
       "4                           /wiki/An_Education                    An Education   [$7.5 million]                             [$26,096,852]  http://www.imdb.com/title/tt1174732/      http://www.rottentomatoes.com/m/an_education/"
      ]
     },
     "execution_count": 29,
     "metadata": {},
     "output_type": "execute_result"
    }
   ],
   "source": [
    "df.head()"
   ]
  },
  {
   "cell_type": "code",
   "execution_count": null,
   "metadata": {
    "collapsed": false
   },
   "outputs": [
    {
     "data": {
      "text/plain": [
       "u'$33\\u201340 million'"
      ]
     },
     "execution_count": 30,
     "metadata": {},
     "output_type": "execute_result"
    }
   ],
   "source": [
    "#test\n",
    "df['budget'][1262]\n",
    "df['budget'][527][0]\n",
    "df['budget'][527][0]"
   ]
  },
  {
   "cell_type": "markdown",
   "metadata": {},
   "source": [
    "Check that all movies each has only one information in budget. It should be eigher the budget information or \"NA\" for lack of information on Wikipedia."
   ]
  },
  {
   "cell_type": "code",
   "execution_count": null,
   "metadata": {
    "collapsed": true
   },
   "outputs": [],
   "source": [
    "for item in df['budget']:\n",
    "    if len(item)!=1:\n",
    "        print item"
   ]
  },
  {
   "cell_type": "markdown",
   "metadata": {},
   "source": [
    "Cleaning process. \n",
    "There are several challenges because the format is very different. \n",
    "\n",
    "All are coded in unicode, but they have different format, for example,\"\\$40–50 million\", \"\\$1.1 million\",\"₤4 million\" and so on. The unicode for \"–\" symble in \"\\$40–50 million\" cannot be successfully extracted. Because there are only around 10 of these cases, we treate them as \"NA\".\n",
    " \n",
    "The pound ₤ sign is also coded in unicode, but we found a way to take them out.\n",
    " \n",
    "There are other different currencies, so we added a list named ```currency```.\n",
    "\n",
    "If there are other errors in the process, we coded them as some form of \"ERR\".\n",
    "Because there are relatively low numbers of these errors and they are difficult to fix, we also treat them as \"NA\"."
   ]
  },
  {
   "cell_type": "code",
   "execution_count": null,
   "metadata": {
    "collapsed": false
   },
   "outputs": [],
   "source": [
    "budget_sorted=[]\n",
    "currency=[]\n",
    "figure_error_1_index=[]\n",
    "figure_error_2_index=[]\n",
    "currency_error_index=[]\n",
    "figure_error_index=[]\n",
    "error=[]\n",
    "x=[]\n",
    "mm=0\n",
    "for item in df['budget']:\n",
    "    mm=mm+1\n",
    "    #print mm-1\n",
    "    for i in item:\n",
    "        if mm in [278+1,344+1,403+1,427+1,487+1,527+1,892+1,896+1,990+1,1059+1]: #all those of the form $40–50 million\n",
    "            currency.append(\"FERR1\")\n",
    "            budget_sorted.append('FERR1')\n",
    "            #print i\n",
    "            figure_error_1_index.append(mm-1)\n",
    "            ###################################\n",
    "        else:\n",
    "            #print i\n",
    "            if i==\"NA\": #takes care of the NA budgets\n",
    "                budget_sorted.append(\"NA\")\n",
    "                currency.append(\"NA\")\n",
    "                \n",
    "            else:\n",
    "                if len(i.split(\"$\"))==2: #all those of the form $1.1 million\n",
    "                    j=[]\n",
    "                    i=i.split(\"$\")\n",
    "                    j.append(i[0]) # currency marker\n",
    "                    j=j+(i[1].split(\" \"))\n",
    "                    #print j       # j has the form [u'', u'1,453,000'] or [u'', u'12', u'million']\n",
    "                elif len(i.split(\"$\"))==1: #all those of the form ₤4 million\n",
    "                    ii=i.encode('ascii','ignore') #get the money figure in the \"₤4 million\"\n",
    "                    j=[\"P\"]\n",
    "                    j=j+ii.split(\" \")\n",
    "                    #print j     # j has the form [u'P', u'1,453,000'] or [u'P', u'12', u'million']\n",
    "                \n",
    "                #takes care of the currency part\n",
    "                if j[0]=='':\n",
    "                    currency.append(\"USD\")\n",
    "                elif j[0]==\"A\":\n",
    "                    currency.append(\"AUD\")\n",
    "                elif j[0]==\"US\" or j[0]==\"(\":\n",
    "                    currency.append(\"USD\")   \n",
    "                elif j[0]==\"P\":\n",
    "                    currency.append(\"GBP\")  \n",
    "                else:\n",
    "                    currency_error_index.append(mm-1)\n",
    "                    #print j,mm-1\n",
    "                    currency.append(\"CERR\")\n",
    "                \n",
    "                \n",
    "                if len(j)==2:\n",
    "                    budget_sorted.append(j[1].replace(\",\",\"\"))\n",
    "                #else:\n",
    "                    #figure_error_2_index.append(mm-1)\n",
    "                    #budget_sorted.append(\"FERR2\") \n",
    "                elif 'million' in j:\n",
    "                    unit=1000000\n",
    "                    budget_sorted.append(int(float(j[1])*unit))\n",
    "                else:\n",
    "                    #print i\n",
    "                    figure_error_index.append(mm-1)\n",
    "                    budget_sorted.append(\"FERR\")"
   ]
  },
  {
   "cell_type": "code",
   "execution_count": null,
   "metadata": {
    "collapsed": false
   },
   "outputs": [
    {
     "data": {
      "text/plain": [
       "(10, 0, 23, 11)"
      ]
     },
     "execution_count": 76,
     "metadata": {},
     "output_type": "execute_result"
    }
   ],
   "source": [
    "len(figure_error_1_index),len(figure_error_2_index),len(figure_error_index),len(currency_error_index)"
   ]
  },
  {
   "cell_type": "markdown",
   "metadata": {},
   "source": [
    "So in totle, we have 390+10+23+11=434 \"NA\"'s out of 1276 entries."
   ]
  },
  {
   "cell_type": "code",
   "execution_count": null,
   "metadata": {
    "collapsed": false
   },
   "outputs": [
    {
     "data": {
      "text/plain": [
       "(1275, 1275)"
      ]
     },
     "execution_count": 77,
     "metadata": {},
     "output_type": "execute_result"
    }
   ],
   "source": [
    "len(budget_sorted),len(currency)"
   ]
  },
  {
   "cell_type": "code",
   "execution_count": null,
   "metadata": {
    "collapsed": true
   },
   "outputs": [],
   "source": [
    "for m,b in enumerate(budget_sorted):\n",
    "    if m not in [158,328,349,401,440,444,468,607,608,632,765,963,968,984,1052,1265]:\n",
    "        if b not in [\"NA\",\"FERR\",\"CERR\",\"FERR1\"]:\n",
    "            '''#print m\n",
    "            #print float(b)'''"
   ]
  },
  {
   "cell_type": "code",
   "execution_count": null,
   "metadata": {
    "collapsed": false
   },
   "outputs": [],
   "source": [
    "for i in [158,328,349,401,440,444,468,607,608,632,765,963,968,984,1052,1265]:\n",
    "    #print budget_sorted[i]\n",
    "    if isinstance(budget_sorted[i], (int, long)) == 0:\n",
    "        budget_sorted[i]=budget_sorted[i].encode('ascii','ignore')\n",
    "        if budget_sorted[i] in [\"N/A\",\"NA\",\"Unidentified\"]:\n",
    "            budget_sorted[i]=\"NA\"\n",
    "        else:\n",
    "            j=budget_sorted[i].split(\"m\")\n",
    "            budget_sorted[i]=int(float(j[0])*1000000)\n",
    "    else:\n",
    "        budget_sorted[i]=budget_sorted[i]"
   ]
  },
  {
   "cell_type": "code",
   "execution_count": null,
   "metadata": {
    "collapsed": false
   },
   "outputs": [],
   "source": [
    "for m,b in enumerate(budget_sorted):\n",
    "    #print budget_sorted[m]\n",
    "    if b in [\"NA\",\"FERR\",\"CERR\",\"FERR1\", \"Unknown\"]:\n",
    "        budget_sorted[m]=\"NA\"\n",
    "    else:\n",
    "        budget_sorted[m]=float(budget_sorted[m])\n",
    "\n",
    "for m,b in enumerate(currency):\n",
    "    if b in [\"NA\",\"FERR\",\"CERR\",\"FERR1\"]:\n",
    "        currency[m]=\"NA\"\n",
    "    else:\n",
    "        currency[m]=currency[m]\n",
    "    "
   ]
  },
  {
   "cell_type": "markdown",
   "metadata": {},
   "source": [
    "We merge them into dataset."
   ]
  },
  {
   "cell_type": "code",
   "execution_count": null,
   "metadata": {
    "collapsed": true
   },
   "outputs": [],
   "source": [
    "df['budget_sorted']=budget_sorted\n",
    "df['currency']=currency"
   ]
  },
  {
   "cell_type": "markdown",
   "metadata": {},
   "source": [
    "Extract the imdb if for merging purpose later."
   ]
  },
  {
   "cell_type": "code",
   "execution_count": null,
   "metadata": {
    "collapsed": true
   },
   "outputs": [],
   "source": [
    "imdb_id=[]\n",
    "for l in df.imdb_link:\n",
    "    if l!=\"NA\":\n",
    "        imdb_id.append(l.split(\"/\")[-2])\n",
    "    else:\n",
    "        imdb_id.append(\"NA\")"
   ]
  },
  {
   "cell_type": "code",
   "execution_count": null,
   "metadata": {
    "collapsed": false
   },
   "outputs": [
    {
     "data": {
      "text/html": [
       "<div>\n",
       "<table border=\"1\" class=\"dataframe\">\n",
       "  <thead>\n",
       "    <tr style=\"text-align: right;\">\n",
       "      <th></th>\n",
       "      <th>movie_url</th>\n",
       "      <th>title</th>\n",
       "      <th>budget</th>\n",
       "      <th>box_office</th>\n",
       "      <th>imdb_link</th>\n",
       "      <th>rt_link</th>\n",
       "      <th>budget_sorted</th>\n",
       "      <th>currency</th>\n",
       "      <th>imdb_id</th>\n",
       "    </tr>\n",
       "  </thead>\n",
       "  <tbody>\n",
       "    <tr>\n",
       "      <th>0</th>\n",
       "      <td>/wiki/The_Year_of_Living_Dangerously_(film)</td>\n",
       "      <td>The Year of Living Dangerously</td>\n",
       "      <td>[A$6 million]</td>\n",
       "      <td>[A$2,898,000 (Australia), US$10,278,575]</td>\n",
       "      <td>http://www.imdb.com/title/tt0086617/</td>\n",
       "      <td>http://www.rottentomatoes.com/m/year_of_living...</td>\n",
       "      <td>6000000</td>\n",
       "      <td>AUD</td>\n",
       "      <td>tt0086617</td>\n",
       "    </tr>\n",
       "    <tr>\n",
       "      <th>1</th>\n",
       "      <td>/wiki/Saratoga_Trunk</td>\n",
       "      <td>Saratoga Trunk</td>\n",
       "      <td>[$1.75 million]</td>\n",
       "      <td>[$4,250,000 (US/ Canada rentals) ]</td>\n",
       "      <td>http://www.imdb.com/title/tt0038053/</td>\n",
       "      <td>NA</td>\n",
       "      <td>1750000</td>\n",
       "      <td>USD</td>\n",
       "      <td>tt0038053</td>\n",
       "    </tr>\n",
       "    <tr>\n",
       "      <th>2</th>\n",
       "      <td>/wiki/All_the_King%27s_Men_(1949_film)</td>\n",
       "      <td>All the King's Men</td>\n",
       "      <td>[NA]</td>\n",
       "      <td>[$2.4 million (US rentals)]</td>\n",
       "      <td>http://www.imdb.com/title/tt041113/</td>\n",
       "      <td>http://www.rottentomatoes.com/m/1000654-all_th...</td>\n",
       "      <td>NA</td>\n",
       "      <td>NA</td>\n",
       "      <td>tt041113</td>\n",
       "    </tr>\n",
       "    <tr>\n",
       "      <th>3</th>\n",
       "      <td>/wiki/Romance_(1930_film)</td>\n",
       "      <td>Romance</td>\n",
       "      <td>[NA]</td>\n",
       "      <td>[NA]</td>\n",
       "      <td>http://www.imdb.com/title/tt0021310/</td>\n",
       "      <td>NA</td>\n",
       "      <td>NA</td>\n",
       "      <td>NA</td>\n",
       "      <td>tt0021310</td>\n",
       "    </tr>\n",
       "    <tr>\n",
       "      <th>4</th>\n",
       "      <td>/wiki/An_Education</td>\n",
       "      <td>An Education</td>\n",
       "      <td>[$7.5 million]</td>\n",
       "      <td>[$26,096,852]</td>\n",
       "      <td>http://www.imdb.com/title/tt1174732/</td>\n",
       "      <td>http://www.rottentomatoes.com/m/an_education/</td>\n",
       "      <td>7500000</td>\n",
       "      <td>USD</td>\n",
       "      <td>tt1174732</td>\n",
       "    </tr>\n",
       "  </tbody>\n",
       "</table>\n",
       "</div>"
      ],
      "text/plain": [
       "                                     movie_url                           title           budget                                box_office                             imdb_link                                            rt_link budget_sorted currency    imdb_id\n",
       "0  /wiki/The_Year_of_Living_Dangerously_(film)  The Year of Living Dangerously    [A$6 million]  [A$2,898,000 (Australia), US$10,278,575]  http://www.imdb.com/title/tt0086617/  http://www.rottentomatoes.com/m/year_of_living...       6000000      AUD  tt0086617\n",
       "1                         /wiki/Saratoga_Trunk                  Saratoga Trunk  [$1.75 million]        [$4,250,000 (US/ Canada rentals) ]  http://www.imdb.com/title/tt0038053/                                                 NA       1750000      USD  tt0038053\n",
       "2       /wiki/All_the_King%27s_Men_(1949_film)              All the King's Men             [NA]               [$2.4 million (US rentals)]   http://www.imdb.com/title/tt041113/  http://www.rottentomatoes.com/m/1000654-all_th...            NA       NA   tt041113\n",
       "3                    /wiki/Romance_(1930_film)                         Romance             [NA]                                      [NA]  http://www.imdb.com/title/tt0021310/                                                 NA            NA       NA  tt0021310\n",
       "4                           /wiki/An_Education                    An Education   [$7.5 million]                             [$26,096,852]  http://www.imdb.com/title/tt1174732/      http://www.rottentomatoes.com/m/an_education/       7500000      USD  tt1174732"
      ]
     },
     "execution_count": 85,
     "metadata": {},
     "output_type": "execute_result"
    }
   ],
   "source": [
    "df['imdb_id']=imdb_id\n",
    "df.head()"
   ]
  },
  {
   "cell_type": "code",
   "execution_count": null,
   "metadata": {
    "collapsed": true
   },
   "outputs": [],
   "source": [
    "df.to_csv('wiki_df_cleaned.csv', encoding='utf-8')"
   ]
  },
  {
   "cell_type": "markdown",
   "metadata": {},
   "source": [
    "## Scrape IMDb to get the list of nominations and list of awards won by each movie. ##\n",
    "This will be our results."
   ]
  },
  {
   "cell_type": "markdown",
   "metadata": {
    "collapsed": true
   },
   "source": [
    "### Scrape IMDb for nomination information###"
   ]
  },
  {
   "cell_type": "markdown",
   "metadata": {
    "collapsed": true
   },
   "source": [
    "Check how many movies there are in total."
   ]
  },
  {
   "cell_type": "code",
   "execution_count": null,
   "metadata": {
    "collapsed": false
   },
   "outputs": [
    {
     "data": {
      "text/plain": [
       "1275"
      ]
     },
     "execution_count": 89,
     "metadata": {},
     "output_type": "execute_result"
    }
   ],
   "source": [
    "df.shape[0]"
   ]
  },
  {
   "cell_type": "markdown",
   "metadata": {
    "collapsed": true
   },
   "source": [
    "After scraping, we have 1265 movies, but that shouldn't be a problem, because we will delete the moview with run time less than 1 hour."
   ]
  },
  {
   "cell_type": "code",
   "execution_count": null,
   "metadata": {
    "collapsed": false
   },
   "outputs": [
    {
     "name": "stderr",
     "output_type": "stream",
     "text": [
      "100%|██████████| 1275/1275 [06:56<00:00,  4.16it/s]\n"
     ]
    },
    {
     "data": {
      "text/plain": [
       "1265"
      ]
     },
     "execution_count": 90,
     "metadata": {},
     "output_type": "execute_result"
    }
   ],
   "source": [
    "movietext={}\n",
    "for m_id in tqdm(df.imdb_id,leave=True):\n",
    "    pg=\"http://www.imdb.com/title/{}/awards?ref_=tt_awd\".format(m_id)\n",
    "    movietext[m_id]=requests.get(pg)\n",
    "    \n",
    "\n",
    "len(movietext)"
   ]
  },
  {
   "cell_type": "code",
   "execution_count": null,
   "metadata": {
    "collapsed": false
   },
   "outputs": [
    {
     "name": "stdout",
     "output_type": "stream",
     "text": [
      "tt0018389\n",
      "<tr>\n",
      "<td class=\"title_award_outcome\" rowspan=\"1\">\n",
      "<b>Nominated</b><br/>\n",
      "<span class=\"award_category\">Oscar</span>\n",
      "</td>\n",
      "<td class=\"award_description\">\n",
      "            Best Actress in a Leading Role<br/>\n",
      "<a href=\"/name/nm0237571?ref_=ttawd_awd_1\">Louise Dresser</a>\n",
      "<br/>\n",
      "</td>\n",
      "</tr>\n",
      "[] []\n"
     ]
    }
   ],
   "source": [
    "##test\n",
    "m_id=movietext.keys()[20]\n",
    "#test\n",
    "m_id='tt0018389'\n",
    "print m_id\n",
    "movietextdict = movietext[m_id]\n",
    "soup = BeautifulSoup(movietextdict.text, \"html.parser\")\n",
    "rows = soup.find(\"table\", attrs={\"class\":\"awards\"}).find_all(\"tr\")[0:]\n",
    "nominations=[]\n",
    "wins=[]\n",
    "won_q= \"Won\" in rows[0].find(\"td\", attrs={\"class\":\"title_award_outcome\"}).get_text()\n",
    "#print \"Nominated\" in rows[5].find(\"td\", attrs={\"class\":\"title_award_outcome\"})\n",
    "\n",
    "\n",
    "for i,r in enumerate(rows):\n",
    "    #print i\n",
    "    if r.find(\"td\", attrs={\"class\":\"title_award_outcome\"})!=None:\n",
    "        check= \"Nominated\" in r.find(\"td\", attrs={\"class\":\"title_award_outcome\"}).get_text()\n",
    "        if check==True:\n",
    "            #print \"t\",i\n",
    "            nn=i\n",
    "        \n",
    "#print nn\n",
    "\n",
    "for i,r in enumerate(rows):\n",
    "    print r\n",
    "    rr=r.find_all(\"td\", attrs={\"class\":\"award_description\"})[0:]\n",
    "    if i<nn:\n",
    "        for i in rr:\n",
    "            if \"Best Actor in a Leading Role\" in i.get_text():\n",
    "                wins.append('ML')\n",
    "            if \"Best Picture\" in i.get_text():\n",
    "                wins.append('BP')\n",
    "            if \"Best Actess in a Leading Role\" in i.get_text():\n",
    "                wins.append('FL')\n",
    "            if \"Best Actess in a Supporting Role\" in i.get_text():\n",
    "                wins.append('FS')\n",
    "            if \"Best Actor in a Supporting Role\" in i.get_text():\n",
    "                wins.append('MS')  \n",
    "    else:\n",
    "        for i in rr:\n",
    "            if \"Best Actor in a Leading Role\" in i.get_text():\n",
    "                nominations.append('ML')\n",
    "            if \"Best Picture\" in i.get_text():\n",
    "                nominations.append('BP')\n",
    "            if \"Best Actess in a Leading Role\" in i.get_text():\n",
    "                nominations.append('FL')\n",
    "            if \"Best Actess in a Supporting Role\" in i.get_text():\n",
    "                nominations.append('FS')\n",
    "            if \"Best Actor in a Supporting Role\" in i.get_text():\n",
    "                nominations.append('MS')   \n",
    "nominations=nominations+wins\n",
    "print nominations, wins"
   ]
  },
  {
   "cell_type": "markdown",
   "metadata": {
    "collapsed": true
   },
   "source": [
    "A function to get the nominations information. Will return a three things: movie id, list of nominations, list of wins"
   ]
  },
  {
   "cell_type": "code",
   "execution_count": null,
   "metadata": {
    "collapsed": true
   },
   "outputs": [],
   "source": [
    "def get_nomination(m_id,movietext):\n",
    "    #print m_id\n",
    "    movietextdict = movietext[m_id]\n",
    "    soup = BeautifulSoup(movietextdict.text, \"html.parser\")\n",
    "    nominations=[]\n",
    "    wins=[]\n",
    "    if soup.find(\"table\", attrs={\"class\":\"awards\"})!=None:\n",
    "        rows = soup.find(\"table\", attrs={\"class\":\"awards\"}).find_all(\"tr\")[0:]\n",
    "        nn=0\n",
    "        won_q= \"Won\" in rows[0].find(\"td\", attrs={\"class\":\"title_award_outcome\"}).get_text()\n",
    "        #print \"Nominated\" in rows[5].find(\"td\", attrs={\"class\":\"title_award_outcome\"})\n",
    "\n",
    "\n",
    "        for i,r in enumerate(rows):\n",
    "            #print i\n",
    "            if r.find(\"td\", attrs={\"class\":\"title_award_outcome\"})!=None:\n",
    "                check= \"Nominated\" in r.find(\"td\", attrs={\"class\":\"title_award_outcome\"}).get_text()\n",
    "                if check==True:\n",
    "                    #print \"t\",i\n",
    "                    nn=i\n",
    "\n",
    "        #print nn\n",
    "\n",
    "        for i,r in enumerate(rows):\n",
    "            rr=r.find_all(\"td\", attrs={\"class\":\"award_description\"})[0:]\n",
    "            if i<nn:\n",
    "                for ii in rr:\n",
    "                    if \"Best Actor in a Leading Role\" in ii.get_text():\n",
    "                        wins.append('ML')\n",
    "                    if \"Best Picture\" in ii.get_text():\n",
    "                        wins.append('BP')\n",
    "                    if \"Best Actress in a Leading Role\" in ii.get_text():\n",
    "                        wins.append('FL')\n",
    "                    if \"Best Actress in a Supporting Role\" in ii.get_text():\n",
    "                        wins.append('FS')\n",
    "                    if \"Best Actor in a Supporting Role\" in ii.get_text():\n",
    "                        wins.append('MS')  \n",
    "            else:\n",
    "                for ii in rr:\n",
    "                    if \"Best Actor in a Leading Role\" in ii.get_text():\n",
    "                        nominations.append('ML')\n",
    "                    if \"Best Picture\" in ii.get_text():\n",
    "                        nominations.append('BP')\n",
    "                    if \"Best Actress in a Leading Role\" in ii.get_text():\n",
    "                        nominations.append('FL')\n",
    "                    if \"Best Actress in a Supporting Role\" in ii.get_text():\n",
    "                        nominations.append('FS')\n",
    "                    if \"Best Actor in a Supporting Role\" in ii.get_text():\n",
    "                        nominations.append('MS')   \n",
    "        nominations=nominations+wins\n",
    "    \n",
    "    return m_id, nominations, wins"
   ]
  },
  {
   "cell_type": "code",
   "execution_count": null,
   "metadata": {
    "collapsed": false
   },
   "outputs": [
    {
     "data": {
      "text/plain": [
       "('tt0018389', ['FL'], [])"
      ]
     },
     "execution_count": 93,
     "metadata": {},
     "output_type": "execute_result"
    }
   ],
   "source": [
    "##test\n",
    "m_id='tt0018389'\n",
    "get_nomination(m_id,movietext)"
   ]
  },
  {
   "cell_type": "markdown",
   "metadata": {
    "collapsed": true
   },
   "source": [
    "We now merge into dataframe."
   ]
  },
  {
   "cell_type": "code",
   "execution_count": null,
   "metadata": {
    "collapsed": false
   },
   "outputs": [
    {
     "name": "stdout",
     "output_type": "stream",
     "text": [
      "1265 1265 1265 1265 1265 1265 1265 1265 1265 1265 1265\n"
     ]
    }
   ],
   "source": [
    "bp_w=[]\n",
    "ms_w=[]\n",
    "fs_w=[]\n",
    "ml_w=[]\n",
    "fl_w=[]\n",
    "bp_n=[]\n",
    "ms_n=[]\n",
    "fs_n=[]\n",
    "ml_n=[]\n",
    "fl_n=[]\n",
    "movie_id=[]\n",
    "for mid in movietext.keys():\n",
    "    mid,n,w=get_nomination(mid,movietext)\n",
    "    movie_id.append(mid)\n",
    "    \n",
    "    bp_w.append(\"BP\" in w)\n",
    "    ms_w.append(\"MS\" in w)\n",
    "    fs_w.append(\"FS\" in w)\n",
    "    ml_w.append(\"ML\" in w)\n",
    "    fl_w.append(\"FL\" in w)\n",
    "    \n",
    "    bp_n.append(\"BP\" in n)\n",
    "    ms_n.append(\"MS\" in n)\n",
    "    fs_n.append(\"FS\" in n)\n",
    "    ml_n.append(\"ML\" in n)\n",
    "    fl_n.append(\"FL\" in n)\n",
    "\n",
    "print len(movie_id),len(bp_w),len(ms_w),len(fs_w),len(ml_w),len(fl_w),len(bp_n),len(ms_n),len(fs_n),len(ml_n),len(fl_n)\n",
    "        "
   ]
  },
  {
   "cell_type": "code",
   "execution_count": null,
   "metadata": {
    "collapsed": false
   },
   "outputs": [
    {
     "data": {
      "text/plain": [
       "['ms_n',\n",
       " 'bp_w',\n",
       " 'fl_n',\n",
       " 'fs_w',\n",
       " 'ml_w',\n",
       " 'ml_n',\n",
       " 'movie_id',\n",
       " 'ms_w',\n",
       " 'fl_w',\n",
       " 'bp_n',\n",
       " 'fs_n']"
      ]
     },
     "execution_count": 95,
     "metadata": {},
     "output_type": "execute_result"
    }
   ],
   "source": [
    "dict_for_df={}\n",
    "dict_for_df['bp_w']=bp_w\n",
    "dict_for_df['ms_w']=ms_w\n",
    "dict_for_df['fs_w']=fs_w\n",
    "dict_for_df['fl_w']=fl_w\n",
    "dict_for_df['ml_w']=ml_w\n",
    "dict_for_df['bp_n']=bp_n\n",
    "dict_for_df['ms_n']=ms_n\n",
    "dict_for_df['fs_n']=fs_n\n",
    "dict_for_df['ml_n']=ml_n\n",
    "dict_for_df['fl_n']=fl_n\n",
    "dict_for_df['movie_id']=movie_id\n",
    "\n",
    "dict_for_df.keys()"
   ]
  },
  {
   "cell_type": "code",
   "execution_count": null,
   "metadata": {
    "collapsed": true
   },
   "outputs": [],
   "source": [
    "df1=pd.DataFrame(dict_for_df)"
   ]
  },
  {
   "cell_type": "code",
   "execution_count": null,
   "metadata": {
    "collapsed": false
   },
   "outputs": [
    {
     "data": {
      "text/html": [
       "<div>\n",
       "<table border=\"1\" class=\"dataframe\">\n",
       "  <thead>\n",
       "    <tr style=\"text-align: right;\">\n",
       "      <th></th>\n",
       "      <th>bp_n</th>\n",
       "      <th>bp_w</th>\n",
       "      <th>fl_n</th>\n",
       "      <th>fl_w</th>\n",
       "      <th>fs_n</th>\n",
       "      <th>fs_w</th>\n",
       "      <th>ml_n</th>\n",
       "      <th>ml_w</th>\n",
       "      <th>movie_id</th>\n",
       "      <th>ms_n</th>\n",
       "      <th>ms_w</th>\n",
       "    </tr>\n",
       "  </thead>\n",
       "  <tbody>\n",
       "    <tr>\n",
       "      <th>0</th>\n",
       "      <td>False</td>\n",
       "      <td>False</td>\n",
       "      <td>False</td>\n",
       "      <td>False</td>\n",
       "      <td>False</td>\n",
       "      <td>False</td>\n",
       "      <td>True</td>\n",
       "      <td>False</td>\n",
       "      <td>tt0070666</td>\n",
       "      <td>False</td>\n",
       "      <td>False</td>\n",
       "    </tr>\n",
       "    <tr>\n",
       "      <th>1</th>\n",
       "      <td>False</td>\n",
       "      <td>False</td>\n",
       "      <td>False</td>\n",
       "      <td>False</td>\n",
       "      <td>False</td>\n",
       "      <td>False</td>\n",
       "      <td>False</td>\n",
       "      <td>False</td>\n",
       "      <td>tt2582802</td>\n",
       "      <td>False</td>\n",
       "      <td>False</td>\n",
       "    </tr>\n",
       "    <tr>\n",
       "      <th>2</th>\n",
       "      <td>False</td>\n",
       "      <td>False</td>\n",
       "      <td>False</td>\n",
       "      <td>False</td>\n",
       "      <td>True</td>\n",
       "      <td>False</td>\n",
       "      <td>False</td>\n",
       "      <td>False</td>\n",
       "      <td>tt0172493</td>\n",
       "      <td>False</td>\n",
       "      <td>False</td>\n",
       "    </tr>\n",
       "    <tr>\n",
       "      <th>3</th>\n",
       "      <td>True</td>\n",
       "      <td>False</td>\n",
       "      <td>False</td>\n",
       "      <td>False</td>\n",
       "      <td>False</td>\n",
       "      <td>False</td>\n",
       "      <td>True</td>\n",
       "      <td>False</td>\n",
       "      <td>tt0045943</td>\n",
       "      <td>False</td>\n",
       "      <td>False</td>\n",
       "    </tr>\n",
       "    <tr>\n",
       "      <th>4</th>\n",
       "      <td>False</td>\n",
       "      <td>False</td>\n",
       "      <td>True</td>\n",
       "      <td>False</td>\n",
       "      <td>False</td>\n",
       "      <td>False</td>\n",
       "      <td>True</td>\n",
       "      <td>False</td>\n",
       "      <td>tt0055895</td>\n",
       "      <td>False</td>\n",
       "      <td>False</td>\n",
       "    </tr>\n",
       "  </tbody>\n",
       "</table>\n",
       "</div>"
      ],
      "text/plain": [
       "    bp_n   bp_w   fl_n   fl_w   fs_n   fs_w   ml_n   ml_w   movie_id   ms_n   ms_w\n",
       "0  False  False  False  False  False  False   True  False  tt0070666  False  False\n",
       "1  False  False  False  False  False  False  False  False  tt2582802  False  False\n",
       "2  False  False  False  False   True  False  False  False  tt0172493  False  False\n",
       "3   True  False  False  False  False  False   True  False  tt0045943  False  False\n",
       "4  False  False   True  False  False  False   True  False  tt0055895  False  False"
      ]
     },
     "execution_count": 97,
     "metadata": {},
     "output_type": "execute_result"
    }
   ],
   "source": [
    "df1.head()"
   ]
  },
  {
   "cell_type": "code",
   "execution_count": null,
   "metadata": {
    "collapsed": true
   },
   "outputs": [],
   "source": [
    "df1.to_csv('result.csv',  encoding='utf-8')"
   ]
  },
  {
   "cell_type": "markdown",
   "metadata": {},
   "source": [
    "## Scrape wikipedia page for the list of movies released in 2015\n",
    " \n",
    "We then scrapped [this wikipedia page](https://en.wikipedia.org/wiki/2015_in_film) to get the list of movies released in 2015. Because out scrapped in done in 4th of December, and the list of movies are updated upto that date, our list does not contain movies with release date after 4th of December. However, we consider the list of movies sufficient enough for us to make a prediction on."
   ]
  },
  {
   "cell_type": "code",
   "execution_count": null,
   "metadata": {
    "collapsed": true
   },
   "outputs": [],
   "source": [
    "wikipage=\"https://en.wikipedia.org/wiki/2015_in_film\"\n",
    "yearstext= requests.get(wikipage)"
   ]
  },
  {
   "cell_type": "code",
   "execution_count": null,
   "metadata": {
    "collapsed": true
   },
   "outputs": [],
   "source": [
    "soup = BeautifulSoup(yearstext.text, \"html.parser\")\n",
    "rows = soup.find_all(\"table\", attrs={\"class\": \"wikitable\"})[0:]"
   ]
  },
  {
   "cell_type": "code",
   "execution_count": null,
   "metadata": {
    "collapsed": true
   },
   "outputs": [],
   "source": [
    "rows=rows[3:]"
   ]
  },
  {
   "cell_type": "code",
   "execution_count": null,
   "metadata": {
    "collapsed": false
   },
   "outputs": [
    {
     "data": {
      "text/plain": [
       "u'/wiki/Pinnokam'"
      ]
     },
     "execution_count": 101,
     "metadata": {},
     "output_type": "execute_result"
    }
   ],
   "source": [
    "r=rows[0]\n",
    "m=r.find_all(\"tr\")[0:][1]\n",
    "m.find(\"a\").get(\"href\")"
   ]
  },
  {
   "cell_type": "markdown",
   "metadata": {},
   "source": [
    "Check the number of movies, and the length of the lists of information matches."
   ]
  },
  {
   "cell_type": "code",
   "execution_count": null,
   "metadata": {
    "collapsed": false
   },
   "outputs": [
    {
     "data": {
      "text/plain": [
       "317"
      ]
     },
     "execution_count": 102,
     "metadata": {},
     "output_type": "execute_result"
    }
   ],
   "source": [
    "movie_text=[]\n",
    "for r in rows:\n",
    "    movie_text.extend(r.find_all(\"tr\")[1:])\n",
    "len(movie_text)"
   ]
  },
  {
   "cell_type": "code",
   "execution_count": null,
   "metadata": {
    "collapsed": false
   },
   "outputs": [
    {
     "data": {
      "text/plain": [
       "(317, 317)"
      ]
     },
     "execution_count": 103,
     "metadata": {},
     "output_type": "execute_result"
    }
   ],
   "source": [
    "title=[]\n",
    "url=[]\n",
    "for m in movie_text:\n",
    "    title.append(m.find(\"i\").get_text())\n",
    "    url.append(m.find(\"a\").get(\"href\"))\n",
    "len(title),len(url)\n",
    "\n",
    "\n",
    "# Save it to data frame."
   ]
  },
  {
   "cell_type": "code",
   "execution_count": null,
   "metadata": {
    "collapsed": true
   },
   "outputs": [],
   "source": [
    "dict_for_df={}\n",
    "dict_for_df['titles_new']=title\n",
    "dict_for_df['wiki_url_new']=url"
   ]
  },
  {
   "cell_type": "code",
   "execution_count": null,
   "metadata": {
    "collapsed": false
   },
   "outputs": [
    {
     "name": "stdout",
     "output_type": "stream",
     "text": [
      "(317, 2)\n"
     ]
    },
    {
     "data": {
      "text/html": [
       "<div>\n",
       "<table border=\"1\" class=\"dataframe\">\n",
       "  <thead>\n",
       "    <tr style=\"text-align: right;\">\n",
       "      <th></th>\n",
       "      <th>titles_new</th>\n",
       "      <th>wiki_url_new</th>\n",
       "    </tr>\n",
       "  </thead>\n",
       "  <tbody>\n",
       "    <tr>\n",
       "      <th>0</th>\n",
       "      <td>Pinnokam</td>\n",
       "      <td>/wiki/Pinnokam</td>\n",
       "    </tr>\n",
       "    <tr>\n",
       "      <th>1</th>\n",
       "      <td>20 Once Again</td>\n",
       "      <td>/wiki/20_Once_Again</td>\n",
       "    </tr>\n",
       "    <tr>\n",
       "      <th>2</th>\n",
       "      <td>Blackhat</td>\n",
       "      <td>/wiki/Blackhat_(film)</td>\n",
       "    </tr>\n",
       "    <tr>\n",
       "      <th>3</th>\n",
       "      <td>I</td>\n",
       "      <td>/wiki/I_(film)</td>\n",
       "    </tr>\n",
       "    <tr>\n",
       "      <th>4</th>\n",
       "      <td>Wild Card</td>\n",
       "      <td>/wiki/Wild_Card_(2015_film)</td>\n",
       "    </tr>\n",
       "  </tbody>\n",
       "</table>\n",
       "</div>"
      ],
      "text/plain": [
       "      titles_new                 wiki_url_new\n",
       "0       Pinnokam               /wiki/Pinnokam\n",
       "1  20 Once Again          /wiki/20_Once_Again\n",
       "2       Blackhat        /wiki/Blackhat_(film)\n",
       "3              I               /wiki/I_(film)\n",
       "4      Wild Card  /wiki/Wild_Card_(2015_film)"
      ]
     },
     "execution_count": 105,
     "metadata": {},
     "output_type": "execute_result"
    }
   ],
   "source": [
    "df_1=pd.DataFrame(dict_for_df)\n",
    "print df_1.shape\n",
    "df_1.head()"
   ]
  },
  {
   "cell_type": "code",
   "execution_count": null,
   "metadata": {
    "collapsed": true
   },
   "outputs": [],
   "source": [
    "df_1.to_csv('new_movies.csv', encoding='utf-8')"
   ]
  },
  {
   "cell_type": "code",
   "execution_count": null,
   "metadata": {
    "collapsed": false
   },
   "outputs": [
    {
     "data": {
      "text/html": [
       "<div>\n",
       "<table border=\"1\" class=\"dataframe\">\n",
       "  <thead>\n",
       "    <tr style=\"text-align: right;\">\n",
       "      <th></th>\n",
       "      <th>Unnamed: 0</th>\n",
       "      <th>movie_url</th>\n",
       "      <th>title</th>\n",
       "      <th>budget</th>\n",
       "      <th>box_office</th>\n",
       "      <th>imdb_link</th>\n",
       "      <th>rt_link</th>\n",
       "      <th>budget_sorted</th>\n",
       "      <th>currency</th>\n",
       "      <th>imdb_id</th>\n",
       "    </tr>\n",
       "  </thead>\n",
       "  <tbody>\n",
       "    <tr>\n",
       "      <th>0</th>\n",
       "      <td>0</td>\n",
       "      <td>/wiki/The_Year_of_Living_Dangerously_(film)</td>\n",
       "      <td>The Year of Living Dangerously</td>\n",
       "      <td>[A$6 million]</td>\n",
       "      <td>[A$2,898,000 (Australia), US$10,278,575]</td>\n",
       "      <td>http://www.imdb.com/title/tt0086617/</td>\n",
       "      <td>http://www.rottentomatoes.com/m/year_of_living...</td>\n",
       "      <td>6000000</td>\n",
       "      <td>AUD</td>\n",
       "      <td>tt0086617</td>\n",
       "    </tr>\n",
       "    <tr>\n",
       "      <th>1</th>\n",
       "      <td>1</td>\n",
       "      <td>/wiki/Saratoga_Trunk</td>\n",
       "      <td>Saratoga Trunk</td>\n",
       "      <td>[$1.75 million]</td>\n",
       "      <td>[$4,250,000 (US/ Canada rentals) ]</td>\n",
       "      <td>http://www.imdb.com/title/tt0038053/</td>\n",
       "      <td>NaN</td>\n",
       "      <td>1750000</td>\n",
       "      <td>USD</td>\n",
       "      <td>tt0038053</td>\n",
       "    </tr>\n",
       "    <tr>\n",
       "      <th>2</th>\n",
       "      <td>2</td>\n",
       "      <td>/wiki/All_the_King%27s_Men_(1949_film)</td>\n",
       "      <td>All the King's Men</td>\n",
       "      <td>[NA]</td>\n",
       "      <td>[$2.4 million (US rentals)]</td>\n",
       "      <td>http://www.imdb.com/title/tt041113/</td>\n",
       "      <td>http://www.rottentomatoes.com/m/1000654-all_th...</td>\n",
       "      <td>NaN</td>\n",
       "      <td>NaN</td>\n",
       "      <td>tt041113</td>\n",
       "    </tr>\n",
       "    <tr>\n",
       "      <th>3</th>\n",
       "      <td>3</td>\n",
       "      <td>/wiki/Romance_(1930_film)</td>\n",
       "      <td>Romance</td>\n",
       "      <td>[NA]</td>\n",
       "      <td>[NA]</td>\n",
       "      <td>http://www.imdb.com/title/tt0021310/</td>\n",
       "      <td>NaN</td>\n",
       "      <td>NaN</td>\n",
       "      <td>NaN</td>\n",
       "      <td>tt0021310</td>\n",
       "    </tr>\n",
       "    <tr>\n",
       "      <th>4</th>\n",
       "      <td>4</td>\n",
       "      <td>/wiki/An_Education</td>\n",
       "      <td>An Education</td>\n",
       "      <td>[$7.5 million]</td>\n",
       "      <td>[$26,096,852]</td>\n",
       "      <td>http://www.imdb.com/title/tt1174732/</td>\n",
       "      <td>http://www.rottentomatoes.com/m/an_education/</td>\n",
       "      <td>7500000</td>\n",
       "      <td>USD</td>\n",
       "      <td>tt1174732</td>\n",
       "    </tr>\n",
       "  </tbody>\n",
       "</table>\n",
       "</div>"
      ],
      "text/plain": [
       "   Unnamed: 0                                    movie_url                           title           budget                                box_office                             imdb_link                                            rt_link  budget_sorted currency    imdb_id\n",
       "0           0  /wiki/The_Year_of_Living_Dangerously_(film)  The Year of Living Dangerously    [A$6 million]  [A$2,898,000 (Australia), US$10,278,575]  http://www.imdb.com/title/tt0086617/  http://www.rottentomatoes.com/m/year_of_living...        6000000      AUD  tt0086617\n",
       "1           1                         /wiki/Saratoga_Trunk                  Saratoga Trunk  [$1.75 million]        [$4,250,000 (US/ Canada rentals) ]  http://www.imdb.com/title/tt0038053/                                                NaN        1750000      USD  tt0038053\n",
       "2           2       /wiki/All_the_King%27s_Men_(1949_film)              All the King's Men             [NA]               [$2.4 million (US rentals)]   http://www.imdb.com/title/tt041113/  http://www.rottentomatoes.com/m/1000654-all_th...            NaN      NaN   tt041113\n",
       "3           3                    /wiki/Romance_(1930_film)                         Romance             [NA]                                      [NA]  http://www.imdb.com/title/tt0021310/                                                NaN            NaN      NaN  tt0021310\n",
       "4           4                           /wiki/An_Education                    An Education   [$7.5 million]                             [$26,096,852]  http://www.imdb.com/title/tt1174732/      http://www.rottentomatoes.com/m/an_education/        7500000      USD  tt1174732"
      ]
     },
     "execution_count": 107,
     "metadata": {},
     "output_type": "execute_result"
    }
   ],
   "source": [
    "df = pd.read_csv('wiki_df_cleaned.csv')\n",
    "df.head()"
   ]
  },
  {
   "cell_type": "markdown",
   "metadata": {},
   "source": [
    "### Scraping Box Office from IMDb\n",
    "\n",
    "We can find box office information of each movie on the IMDb website through url of the format http://www.imdb.com/title/tt0034167/business?ref_=tt_dt_bus. With the code below, we scrape the entire webpage for future use."
   ]
  },
  {
   "cell_type": "code",
   "execution_count": null,
   "metadata": {
    "collapsed": false
   },
   "outputs": [
    {
     "name": "stderr",
     "output_type": "stream",
     "text": [
      "100%|██████████| 1275/1275 [14:50<00:00,  1.48it/s]\n"
     ]
    }
   ],
   "source": [
    "box_office_page = []\n",
    "imdb_id = []\n",
    "bad_id = []\n",
    "url = 'http://www.imdb.com/title/{}/business?ref_=tt_dt_bus'\n",
    "for i in tqdm(df.index, leave = True):\n",
    "    if requests.get(url.format(df.imdb_id[i])).status_code == 404:\n",
    "        bad_id.append(df.imdb_id[i])\n",
    "    else:\n",
    "        box_office_page.append(requests.get(url.format(df.imdb_id[i])))\n",
    "        imdb_id.append(df.imdb_id[i])"
   ]
  },
  {
   "cell_type": "code",
   "execution_count": null,
   "metadata": {
    "collapsed": false
   },
   "outputs": [
    {
     "data": {
      "text/plain": [
       "(1265, 10)"
      ]
     },
     "execution_count": 109,
     "metadata": {},
     "output_type": "execute_result"
    }
   ],
   "source": [
    "(len(box_office_page), len(bad_id))"
   ]
  },
  {
   "cell_type": "markdown",
   "metadata": {},
   "source": [
    "### Getting Gross Box Office\n",
    " \n",
    "After scraping the entire webpage, we write a function ```get_gross_bo``` to find the gross box office of each movie. This function takes ```imdb_id```, and its ```box_office_page``` as input, and returns a dictionary that has all ```imdb_id```s as keys, and box offices as values."
   ]
  },
  {
   "cell_type": "code",
   "execution_count": null,
   "metadata": {
    "collapsed": true
   },
   "outputs": [],
   "source": [
    "def get_gross_bo(imdb_id, box_office_page):\n",
    "    gross = []\n",
    "    dictionary = {}\n",
    "    for i in tqdm(range(0,len(box_office_page)), leave = True):\n",
    "        soup = BeautifulSoup(box_office_page[i].text, \"html.parser\")\n",
    "        rows = soup.find('div', attrs={'class': 'business'}).find_all('h5')\n",
    "        for r in rows:\n",
    "            if r.get_text() == 'Gross':\n",
    "                gross = r.next_element.next_element.encode('ascii','ignore').split('(')[0].split(' ')\n",
    "        dictionary[imdb_id[i]] = gross\n",
    "    return dictionary"
   ]
  },
  {
   "cell_type": "code",
   "execution_count": null,
   "metadata": {
    "collapsed": false
   },
   "outputs": [
    {
     "data": {
      "text/plain": [
       "['\\n$14,849,583', '']"
      ]
     },
     "execution_count": 111,
     "metadata": {},
     "output_type": "execute_result"
    }
   ],
   "source": [
    "soup = BeautifulSoup(box_office_page[100].text, \"html.parser\")\n",
    "rows = soup.find('div', attrs={'class': 'business'}).find_all('h5')\n",
    "for r in rows:\n",
    "    if r.get_text() == 'Gross':\n",
    "        gross = r.next_element.next_element.encode('ascii','ignore').split('(')[0].split(' ')\n",
    "        \n",
    "gross"
   ]
  },
  {
   "cell_type": "code",
   "execution_count": null,
   "metadata": {
    "collapsed": false
   },
   "outputs": [
    {
     "name": "stderr",
     "output_type": "stream",
     "text": [
      "100%|██████████| 1265/1265 [01:23<00:00, 15.19it/s]\n"
     ]
    }
   ],
   "source": [
    "dictionary = get_gross_bo(imdb_id, box_office_page)"
   ]
  },
  {
   "cell_type": "code",
   "execution_count": null,
   "metadata": {
    "collapsed": true
   },
   "outputs": [],
   "source": [
    "df = pd.DataFrame(dictionary.items(), columns = ['imdb_id', 'box_office'])"
   ]
  },
  {
   "cell_type": "code",
   "execution_count": null,
   "metadata": {
    "collapsed": false
   },
   "outputs": [
    {
     "data": {
      "text/html": [
       "<div>\n",
       "<table border=\"1\" class=\"dataframe\">\n",
       "  <thead>\n",
       "    <tr style=\"text-align: right;\">\n",
       "      <th></th>\n",
       "      <th>imdb_id</th>\n",
       "      <th>box_office</th>\n",
       "    </tr>\n",
       "  </thead>\n",
       "  <tbody>\n",
       "    <tr>\n",
       "      <th>0</th>\n",
       "      <td>tt0070666</td>\n",
       "      <td>[\\n$27,274,150, ]</td>\n",
       "    </tr>\n",
       "    <tr>\n",
       "      <th>1</th>\n",
       "      <td>tt2582802</td>\n",
       "      <td>[\\n$13,092,000, ]</td>\n",
       "    </tr>\n",
       "    <tr>\n",
       "      <th>2</th>\n",
       "      <td>tt0172493</td>\n",
       "      <td>[\\n$28,871,190, ]</td>\n",
       "    </tr>\n",
       "    <tr>\n",
       "      <th>3</th>\n",
       "      <td>tt0045943</td>\n",
       "      <td>[\\n$2,021,000, ]</td>\n",
       "    </tr>\n",
       "    <tr>\n",
       "      <th>4</th>\n",
       "      <td>tt0055895</td>\n",
       "      <td>[\\n$17,800,000, ]</td>\n",
       "    </tr>\n",
       "  </tbody>\n",
       "</table>\n",
       "</div>"
      ],
      "text/plain": [
       "     imdb_id         box_office\n",
       "0  tt0070666  [\\n$27,274,150, ]\n",
       "1  tt2582802  [\\n$13,092,000, ]\n",
       "2  tt0172493  [\\n$28,871,190, ]\n",
       "3  tt0045943   [\\n$2,021,000, ]\n",
       "4  tt0055895  [\\n$17,800,000, ]"
      ]
     },
     "execution_count": 114,
     "metadata": {},
     "output_type": "execute_result"
    }
   ],
   "source": [
    "df.head()"
   ]
  },
  {
   "cell_type": "code",
   "execution_count": null,
   "metadata": {
    "collapsed": true
   },
   "outputs": [],
   "source": [
    "currency = []\n",
    "val = []\n",
    "for index,value in enumerate(df.box_office):\n",
    "    if len(value) == 2:\n",
    "        if '$' in value[0]:\n",
    "            val.append(float(value[0].split(\"$\")[1].replace(\",\",\"\")))\n",
    "            currency.append('USD')\n",
    "        else:\n",
    "            val.append(float(value[0].replace(\",\",\"\").replace('\\n','')))\n",
    "            currency.append('USD')\n",
    "    elif len(value) == 3:\n",
    "        val.append(float(value[1].replace(\",\",\"\")))\n",
    "        currency.append(value[0].replace('\\n',''))"
   ]
  },
  {
   "cell_type": "code",
   "execution_count": null,
   "metadata": {
    "collapsed": false
   },
   "outputs": [
    {
     "data": {
      "text/plain": [
       "(1263, 1263, 1263)"
      ]
     },
     "execution_count": 116,
     "metadata": {},
     "output_type": "execute_result"
    }
   ],
   "source": [
    "len(val),len(df),len(currency)"
   ]
  },
  {
   "cell_type": "code",
   "execution_count": null,
   "metadata": {
    "collapsed": false
   },
   "outputs": [
    {
     "data": {
      "text/html": [
       "<div>\n",
       "<table border=\"1\" class=\"dataframe\">\n",
       "  <thead>\n",
       "    <tr style=\"text-align: right;\">\n",
       "      <th></th>\n",
       "      <th>imdb_id</th>\n",
       "      <th>box_office</th>\n",
       "      <th>currency</th>\n",
       "    </tr>\n",
       "  </thead>\n",
       "  <tbody>\n",
       "    <tr>\n",
       "      <th>0</th>\n",
       "      <td>tt0070666</td>\n",
       "      <td>27274150</td>\n",
       "      <td>USD</td>\n",
       "    </tr>\n",
       "    <tr>\n",
       "      <th>1</th>\n",
       "      <td>tt2582802</td>\n",
       "      <td>13092000</td>\n",
       "      <td>USD</td>\n",
       "    </tr>\n",
       "    <tr>\n",
       "      <th>2</th>\n",
       "      <td>tt0172493</td>\n",
       "      <td>28871190</td>\n",
       "      <td>USD</td>\n",
       "    </tr>\n",
       "    <tr>\n",
       "      <th>3</th>\n",
       "      <td>tt0045943</td>\n",
       "      <td>2021000</td>\n",
       "      <td>USD</td>\n",
       "    </tr>\n",
       "    <tr>\n",
       "      <th>4</th>\n",
       "      <td>tt0055895</td>\n",
       "      <td>17800000</td>\n",
       "      <td>USD</td>\n",
       "    </tr>\n",
       "  </tbody>\n",
       "</table>\n",
       "</div>"
      ],
      "text/plain": [
       "     imdb_id  box_office currency\n",
       "0  tt0070666    27274150      USD\n",
       "1  tt2582802    13092000      USD\n",
       "2  tt0172493    28871190      USD\n",
       "3  tt0045943     2021000      USD\n",
       "4  tt0055895    17800000      USD"
      ]
     },
     "execution_count": 117,
     "metadata": {},
     "output_type": "execute_result"
    }
   ],
   "source": [
    "df['box_office'] = val\n",
    "df['currency'] = currency\n",
    "df.head()"
   ]
  },
  {
   "cell_type": "code",
   "execution_count": null,
   "metadata": {
    "collapsed": true
   },
   "outputs": [],
   "source": [
    "df.to_csv('box_office.csv', encoding='utf-8')"
   ]
  },
  {
   "cell_type": "markdown",
   "metadata": {},
   "source": [
    "### Scraping wiki info for movies in 2015"
   ]
  },
  {
   "cell_type": "code",
   "execution_count": null,
   "metadata": {
    "collapsed": true
   },
   "outputs": [],
   "source": [
    "new_movies = df_1"
   ]
  },
  {
   "cell_type": "code",
   "execution_count": null,
   "metadata": {
    "collapsed": false
   },
   "outputs": [
    {
     "data": {
      "text/html": [
       "<div>\n",
       "<table border=\"1\" class=\"dataframe\">\n",
       "  <thead>\n",
       "    <tr style=\"text-align: right;\">\n",
       "      <th></th>\n",
       "      <th>titles_new</th>\n",
       "      <th>wiki_url_new</th>\n",
       "    </tr>\n",
       "  </thead>\n",
       "  <tbody>\n",
       "    <tr>\n",
       "      <th>0</th>\n",
       "      <td>Pinnokam</td>\n",
       "      <td>/wiki/Pinnokam</td>\n",
       "    </tr>\n",
       "    <tr>\n",
       "      <th>1</th>\n",
       "      <td>20 Once Again</td>\n",
       "      <td>/wiki/20_Once_Again</td>\n",
       "    </tr>\n",
       "    <tr>\n",
       "      <th>2</th>\n",
       "      <td>Blackhat</td>\n",
       "      <td>/wiki/Blackhat_(film)</td>\n",
       "    </tr>\n",
       "    <tr>\n",
       "      <th>3</th>\n",
       "      <td>I</td>\n",
       "      <td>/wiki/I_(film)</td>\n",
       "    </tr>\n",
       "    <tr>\n",
       "      <th>4</th>\n",
       "      <td>Wild Card</td>\n",
       "      <td>/wiki/Wild_Card_(2015_film)</td>\n",
       "    </tr>\n",
       "  </tbody>\n",
       "</table>\n",
       "</div>"
      ],
      "text/plain": [
       "      titles_new                 wiki_url_new\n",
       "0       Pinnokam               /wiki/Pinnokam\n",
       "1  20 Once Again          /wiki/20_Once_Again\n",
       "2       Blackhat        /wiki/Blackhat_(film)\n",
       "3              I               /wiki/I_(film)\n",
       "4      Wild Card  /wiki/Wild_Card_(2015_film)"
      ]
     },
     "execution_count": 120,
     "metadata": {},
     "output_type": "execute_result"
    }
   ],
   "source": [
    "new_movies.head()"
   ]
  },
  {
   "cell_type": "code",
   "execution_count": null,
   "metadata": {
    "collapsed": false
   },
   "outputs": [
    {
     "name": "stderr",
     "output_type": "stream",
     "text": [
      "100%|██████████| 317/317 [01:08<00:00,  4.75it/s]\n"
     ]
    }
   ],
   "source": [
    "new_movies_page = []\n",
    "bad_url = []\n",
    "wikiurl = 'https://en.wikipedia.org{}'\n",
    "for i in tqdm(new_movies.wiki_url_new, leave = True):\n",
    "    url = wikiurl.format(i)\n",
    "    if requests.get(url).status_code == 404:\n",
    "        bad_url.append(url)\n",
    "    else:\n",
    "        new_movies_page.append(requests.get(url))"
   ]
  },
  {
   "cell_type": "code",
   "execution_count": null,
   "metadata": {
    "collapsed": true
   },
   "outputs": [],
   "source": [
    "def get_imbd_rt_url(movie_page):\n",
    "    soup = BeautifulSoup(movie_page.text, \"html.parser\")\n",
    "    rows = soup.find_all(\"a\", attrs={\"class\": \"external text\", \"rel\":\"nofollow\"})[0:]\n",
    "    external_links=[]\n",
    "    imdb_link=\"NA\"\n",
    "    rt_link=\"NA\"\n",
    "    for row in rows:\n",
    "        if row.find(\"i\")!= None:\n",
    "            external_links.append(row.get(\"href\"))\n",
    "\n",
    "    for l in external_links:\n",
    "        if \"imdb\" in l:\n",
    "            imdb_link=l\n",
    "        if \"rottentomatoes\" in l:\n",
    "            rt_link=l\n",
    "    return imdb_link,rt_link"
   ]
  },
  {
   "cell_type": "code",
   "execution_count": null,
   "metadata": {
    "collapsed": false
   },
   "outputs": [
    {
     "name": "stderr",
     "output_type": "stream",
     "text": [
      "100%|██████████| 317/317 [01:09<00:00,  5.00it/s]\n"
     ]
    }
   ],
   "source": [
    "imdb_link_new = []\n",
    "rt_link_new = []\n",
    "for i in tqdm(range(0,len(new_movies_page)),leave = True):\n",
    "    imdb_link_new.append(get_imbd_rt_url(new_movies_page[i])[0])\n",
    "    rt_link_new.append(get_imbd_rt_url(new_movies_page[i])[1])"
   ]
  },
  {
   "cell_type": "code",
   "execution_count": null,
   "metadata": {
    "collapsed": true
   },
   "outputs": [],
   "source": [
    "new_movies['imdb_link_new'] = imdb_link_new\n",
    "new_movies['rt_link_new'] = rt_link_new"
   ]
  },
  {
   "cell_type": "code",
   "execution_count": null,
   "metadata": {
    "collapsed": true
   },
   "outputs": [],
   "source": [
    "imdb_id = []\n",
    "for l in new_movies.imdb_link_new:\n",
    "    if l != \"NA\":\n",
    "        imdb_id.append(l.split(\"/\")[-2])\n",
    "    else:\n",
    "        imdb_id.append(\"NA\")"
   ]
  },
  {
   "cell_type": "code",
   "execution_count": null,
   "metadata": {
    "collapsed": true
   },
   "outputs": [],
   "source": [
    "new_movies['imdb_id'] = imdb_id"
   ]
  },
  {
   "cell_type": "code",
   "execution_count": null,
   "metadata": {
    "collapsed": false
   },
   "outputs": [
    {
     "data": {
      "text/plain": [
       "u'http://www.imdb.com/title/tt3567288/'"
      ]
     },
     "execution_count": 131,
     "metadata": {},
     "output_type": "execute_result"
    }
   ],
   "source": [
    "new_movies.imdb_link_new[245]"
   ]
  },
  {
   "cell_type": "markdown",
   "metadata": {},
   "source": [
    "### Scrape box office and budget"
   ]
  },
  {
   "cell_type": "code",
   "execution_count": null,
   "metadata": {
    "collapsed": false
   },
   "outputs": [
    {
     "name": "stderr",
     "output_type": "stream",
     "text": [
      "100%|██████████| 317/317 [04:04<00:00,  1.35it/s]\n"
     ]
    }
   ],
   "source": [
    "box_office_page_new = []\n",
    "bad_id = []\n",
    "url = 'http://www.imdb.com/title/{}/business?ref_=tt_dt_bus'\n",
    "for i in tqdm(new_movies.imdb_id, leave = True):\n",
    "    if requests.get(url.format(i)).status_code == 404:\n",
    "        bad_id.append(i)\n",
    "        box_office_page_new.append('NA')\n",
    "    else:\n",
    "        box_office_page_new.append(requests.get(url.format(i)))"
   ]
  },
  {
   "cell_type": "code",
   "execution_count": null,
   "metadata": {
    "collapsed": true
   },
   "outputs": [],
   "source": [
    "def get_budget_bo(box_office_page):\n",
    "    budget = []\n",
    "    box_office = []\n",
    "    soup = BeautifulSoup(box_office_page.text, \"html.parser\")\n",
    "    rows = soup.find('div', attrs={'class': 'business'}).find_all('h5')\n",
    "    for r in rows:\n",
    "        if r.get_text() == 'Gross':\n",
    "            box_office.append(r.next_element.next_element.encode('ascii','ignore').split('(')[0].split(' '))\n",
    "        if r.get_text() == 'Budget':\n",
    "            budget.append(r.next_element.next_element.encode('ascii','ignore').split('(')[0].split(' '))\n",
    "    return budget, box_office"
   ]
  },
  {
   "cell_type": "code",
   "execution_count": null,
   "metadata": {
    "collapsed": false
   },
   "outputs": [
    {
     "name": "stderr",
     "output_type": "stream",
     "text": [
      "100%|██████████| 317/317 [00:33<00:00,  9.33it/s]\n"
     ]
    }
   ],
   "source": [
    "budget_new = []\n",
    "box_office_new = []\n",
    "for i in tqdm(box_office_page_new, leave = True):\n",
    "    if i != 'NA':\n",
    "        budget_new.append(get_budget_bo(i)[0])\n",
    "        box_office_new.append(get_budget_bo(i)[1])\n",
    "    else:\n",
    "        budget_new.append('NA')\n",
    "        box_office_new.append('NA')"
   ]
  },
  {
   "cell_type": "code",
   "execution_count": null,
   "metadata": {
    "collapsed": false
   },
   "outputs": [
    {
     "data": {
      "text/html": [
       "<div>\n",
       "<table border=\"1\" class=\"dataframe\">\n",
       "  <thead>\n",
       "    <tr style=\"text-align: right;\">\n",
       "      <th></th>\n",
       "      <th>titles_new</th>\n",
       "      <th>wiki_url_new</th>\n",
       "      <th>imdb_link_new</th>\n",
       "      <th>rt_link_new</th>\n",
       "      <th>imdb_id</th>\n",
       "      <th>budget_new</th>\n",
       "      <th>currency_budget</th>\n",
       "      <th>box_office_new</th>\n",
       "      <th>currency_bo</th>\n",
       "    </tr>\n",
       "  </thead>\n",
       "  <tbody>\n",
       "    <tr>\n",
       "      <th>0</th>\n",
       "      <td>Pinnokam</td>\n",
       "      <td>/wiki/Pinnokam</td>\n",
       "      <td>NA</td>\n",
       "      <td>NA</td>\n",
       "      <td>NA</td>\n",
       "      <td>NA</td>\n",
       "      <td>NA</td>\n",
       "      <td>NA</td>\n",
       "      <td>NA</td>\n",
       "    </tr>\n",
       "    <tr>\n",
       "      <th>1</th>\n",
       "      <td>20 Once Again</td>\n",
       "      <td>/wiki/20_Once_Again</td>\n",
       "      <td>http://www.imdb.com/title/tt4344878/</td>\n",
       "      <td>NA</td>\n",
       "      <td>tt4344878</td>\n",
       "      <td>NA</td>\n",
       "      <td>NA</td>\n",
       "      <td>234573</td>\n",
       "      <td>USD</td>\n",
       "    </tr>\n",
       "    <tr>\n",
       "      <th>2</th>\n",
       "      <td>Blackhat</td>\n",
       "      <td>/wiki/Blackhat_(film)</td>\n",
       "      <td>http://www.imdb.com/title/tt2717822/</td>\n",
       "      <td>http://www.rottentomatoes.com/m/blackhat/</td>\n",
       "      <td>tt2717822</td>\n",
       "      <td>7e+07</td>\n",
       "      <td>USD</td>\n",
       "      <td>7097125</td>\n",
       "      <td>USD</td>\n",
       "    </tr>\n",
       "    <tr>\n",
       "      <th>3</th>\n",
       "      <td>I</td>\n",
       "      <td>/wiki/I_(film)</td>\n",
       "      <td>http://www.imdb.com/title/tt2302966/</td>\n",
       "      <td>NA</td>\n",
       "      <td>tt2302966</td>\n",
       "      <td>3e+07</td>\n",
       "      <td>USD</td>\n",
       "      <td>NA</td>\n",
       "      <td>NA</td>\n",
       "    </tr>\n",
       "    <tr>\n",
       "      <th>4</th>\n",
       "      <td>Wild Card</td>\n",
       "      <td>/wiki/Wild_Card_(2015_film)</td>\n",
       "      <td>http://www.imdb.com/title/tt2231253/</td>\n",
       "      <td>http://www.rottentomatoes.com/m/heat_2013/</td>\n",
       "      <td>tt2231253</td>\n",
       "      <td>3e+07</td>\n",
       "      <td>USD</td>\n",
       "      <td>NA</td>\n",
       "      <td>NA</td>\n",
       "    </tr>\n",
       "  </tbody>\n",
       "</table>\n",
       "</div>"
      ],
      "text/plain": [
       "      titles_new                 wiki_url_new                         imdb_link_new                                 rt_link_new    imdb_id budget_new currency_budget box_office_new currency_bo\n",
       "0       Pinnokam               /wiki/Pinnokam                                    NA                                          NA         NA         NA              NA             NA          NA\n",
       "1  20 Once Again          /wiki/20_Once_Again  http://www.imdb.com/title/tt4344878/                                          NA  tt4344878         NA              NA         234573         USD\n",
       "2       Blackhat        /wiki/Blackhat_(film)  http://www.imdb.com/title/tt2717822/   http://www.rottentomatoes.com/m/blackhat/  tt2717822      7e+07             USD        7097125         USD\n",
       "3              I               /wiki/I_(film)  http://www.imdb.com/title/tt2302966/                                          NA  tt2302966      3e+07             USD             NA          NA\n",
       "4      Wild Card  /wiki/Wild_Card_(2015_film)  http://www.imdb.com/title/tt2231253/  http://www.rottentomatoes.com/m/heat_2013/  tt2231253      3e+07             USD             NA          NA"
      ]
     },
     "execution_count": 142,
     "metadata": {},
     "output_type": "execute_result"
    }
   ],
   "source": [
    "new_movies['budget_new'] = budget_new\n",
    "new_movies['box_office_new'] = box_office_new\n",
    "new_movies.head()"
   ]
  },
  {
   "cell_type": "code",
   "execution_count": null,
   "metadata": {
    "collapsed": false
   },
   "outputs": [
    {
     "data": {
      "text/plain": [
       "0"
      ]
     },
     "execution_count": 136,
     "metadata": {},
     "output_type": "execute_result"
    }
   ],
   "source": [
    "len(new_movies.box_office_new[5])"
   ]
  },
  {
   "cell_type": "code",
   "execution_count": null,
   "metadata": {
    "collapsed": true
   },
   "outputs": [],
   "source": [
    "def cleaner(var):\n",
    "    currency = []\n",
    "    val = []\n",
    "    for i in var:\n",
    "        if i != 'NA':\n",
    "            if len(i) != 0:\n",
    "                if len(i[0]) == 2:\n",
    "                    if '$' in i[0][0]:\n",
    "                        if 'CAD' not in i[0][0]:\n",
    "                            val.append(float(i[0][0].split(\"$\")[1].replace(\",\",\"\")))\n",
    "                            currency.append('USD')\n",
    "                        else:\n",
    "                            val.append(i[0][0].split('$')[1].split(' '))\n",
    "                            currency.append('CAD')\n",
    "                    else:\n",
    "                        val.append(float(i[0][0].replace(\",\",\"\").replace('\\n','')))\n",
    "                        currency.append('USD')\n",
    "                elif len(i[0]) == 3:\n",
    "                    val.append(float(i[0][1].replace(\",\",\"\")))\n",
    "                    currency.append(i[0][0].replace('\\n',''))\n",
    "            else:\n",
    "                val.append('NA')\n",
    "                currency.append('NA')\n",
    "        else:\n",
    "            val.append('NA')\n",
    "            currency.append('NA')\n",
    "    return currency, val"
   ]
  },
  {
   "cell_type": "code",
   "execution_count": null,
   "metadata": {
    "collapsed": false
   },
   "outputs": [
    {
     "data": {
      "text/plain": [
       "317"
      ]
     },
     "execution_count": 138,
     "metadata": {},
     "output_type": "execute_result"
    }
   ],
   "source": [
    "currency_bo, box_office_new = cleaner(new_movies.box_office_new)\n",
    "currency_budget, budget_new = cleaner(new_movies.budget_new)\n",
    "len(box_office_new)"
   ]
  },
  {
   "cell_type": "code",
   "execution_count": null,
   "metadata": {
    "collapsed": false
   },
   "outputs": [
    {
     "data": {
      "text/html": [
       "<div>\n",
       "<table border=\"1\" class=\"dataframe\">\n",
       "  <thead>\n",
       "    <tr style=\"text-align: right;\">\n",
       "      <th></th>\n",
       "      <th>titles_new</th>\n",
       "      <th>wiki_url_new</th>\n",
       "      <th>imdb_link_new</th>\n",
       "      <th>rt_link_new</th>\n",
       "      <th>imdb_id</th>\n",
       "      <th>budget_new</th>\n",
       "      <th>currency_budget</th>\n",
       "      <th>box_office_new</th>\n",
       "      <th>currency_bo</th>\n",
       "    </tr>\n",
       "  </thead>\n",
       "  <tbody>\n",
       "    <tr>\n",
       "      <th>0</th>\n",
       "      <td>Pinnokam</td>\n",
       "      <td>/wiki/Pinnokam</td>\n",
       "      <td>NA</td>\n",
       "      <td>NA</td>\n",
       "      <td>NA</td>\n",
       "      <td>NA</td>\n",
       "      <td>NA</td>\n",
       "      <td>NA</td>\n",
       "      <td>NA</td>\n",
       "    </tr>\n",
       "    <tr>\n",
       "      <th>1</th>\n",
       "      <td>20 Once Again</td>\n",
       "      <td>/wiki/20_Once_Again</td>\n",
       "      <td>http://www.imdb.com/title/tt4344878/</td>\n",
       "      <td>NA</td>\n",
       "      <td>tt4344878</td>\n",
       "      <td>NA</td>\n",
       "      <td>NA</td>\n",
       "      <td>234573</td>\n",
       "      <td>USD</td>\n",
       "    </tr>\n",
       "    <tr>\n",
       "      <th>2</th>\n",
       "      <td>Blackhat</td>\n",
       "      <td>/wiki/Blackhat_(film)</td>\n",
       "      <td>http://www.imdb.com/title/tt2717822/</td>\n",
       "      <td>http://www.rottentomatoes.com/m/blackhat/</td>\n",
       "      <td>tt2717822</td>\n",
       "      <td>7e+07</td>\n",
       "      <td>USD</td>\n",
       "      <td>7097125</td>\n",
       "      <td>USD</td>\n",
       "    </tr>\n",
       "    <tr>\n",
       "      <th>3</th>\n",
       "      <td>I</td>\n",
       "      <td>/wiki/I_(film)</td>\n",
       "      <td>http://www.imdb.com/title/tt2302966/</td>\n",
       "      <td>NA</td>\n",
       "      <td>tt2302966</td>\n",
       "      <td>3e+07</td>\n",
       "      <td>USD</td>\n",
       "      <td>NA</td>\n",
       "      <td>NA</td>\n",
       "    </tr>\n",
       "    <tr>\n",
       "      <th>4</th>\n",
       "      <td>Wild Card</td>\n",
       "      <td>/wiki/Wild_Card_(2015_film)</td>\n",
       "      <td>http://www.imdb.com/title/tt2231253/</td>\n",
       "      <td>http://www.rottentomatoes.com/m/heat_2013/</td>\n",
       "      <td>tt2231253</td>\n",
       "      <td>3e+07</td>\n",
       "      <td>USD</td>\n",
       "      <td>NA</td>\n",
       "      <td>NA</td>\n",
       "    </tr>\n",
       "  </tbody>\n",
       "</table>\n",
       "</div>"
      ],
      "text/plain": [
       "      titles_new                 wiki_url_new                         imdb_link_new                                 rt_link_new    imdb_id budget_new currency_budget box_office_new currency_bo\n",
       "0       Pinnokam               /wiki/Pinnokam                                    NA                                          NA         NA         NA              NA             NA          NA\n",
       "1  20 Once Again          /wiki/20_Once_Again  http://www.imdb.com/title/tt4344878/                                          NA  tt4344878         NA              NA         234573         USD\n",
       "2       Blackhat        /wiki/Blackhat_(film)  http://www.imdb.com/title/tt2717822/   http://www.rottentomatoes.com/m/blackhat/  tt2717822      7e+07             USD        7097125         USD\n",
       "3              I               /wiki/I_(film)  http://www.imdb.com/title/tt2302966/                                          NA  tt2302966      3e+07             USD             NA          NA\n",
       "4      Wild Card  /wiki/Wild_Card_(2015_film)  http://www.imdb.com/title/tt2231253/  http://www.rottentomatoes.com/m/heat_2013/  tt2231253      3e+07             USD             NA          NA"
      ]
     },
     "execution_count": 139,
     "metadata": {},
     "output_type": "execute_result"
    }
   ],
   "source": [
    "new_movies['box_office_new'] = box_office_new\n",
    "new_movies['currency_bo'] = currency_bo\n",
    "new_movies['budget_new'] = budget_new\n",
    "new_movies['currency_budget'] = currency_budget\n",
    "new_movies = new_movies[['titles_new','wiki_url_new','imdb_link_new','rt_link_new','imdb_id','budget_new','currency_budget','box_office_new','currency_bo']]\n",
    "new_movies.head()"
   ]
  },
  {
   "cell_type": "code",
   "execution_count": null,
   "metadata": {
    "collapsed": false
   },
   "outputs": [],
   "source": [
    "new_movies.to_csv('2015_movies_wiki.csv', encoding='utf-8')\n"
   ]
  }
 ],
 "metadata": {
  "kernelspec": {
   "display_name": "Python 2",
   "language": "python",
   "name": "python2"
  },
  "language_info": {
   "codemirror_mode": {
    "name": "ipython",
    "version": 2
   },
   "file_extension": ".py",
   "mimetype": "text/x-python",
   "name": "python",
   "nbconvert_exporter": "python",
   "pygments_lexer": "ipython2",
   "version": "2.7.10"
  }
 },
 "nbformat": 4,
 "nbformat_minor": 0
}
