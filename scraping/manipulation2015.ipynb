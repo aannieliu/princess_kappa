{
 "cells": [
  {
   "cell_type": "code",
   "execution_count": 1,
   "metadata": {
    "collapsed": true
   },
   "outputs": [],
   "source": [
    "%matplotlib inline\n",
    "import numpy as np\n",
    "import scipy as sp\n",
    "import matplotlib as mpl\n",
    "import matplotlib.cm as cm\n",
    "import matplotlib.pyplot as plt\n",
    "import pandas as pd\n",
    "pd.set_option('display.width', 500)\n",
    "pd.set_option('display.max_columns', 100)\n",
    "pd.set_option('display.notebook_repr_html', True)\n",
    "import seaborn as sns\n",
    "sns.set_style(\"whitegrid\")\n",
    "sns.set_context(\"poster\")\n",
    "import requests\n",
    "import json\n",
    "import bs4\n",
    "from bs4 import BeautifulSoup"
   ]
  },
  {
   "cell_type": "markdown",
   "metadata": {},
   "source": [
    "Now, we get the merge data and do some calculation based on it. We then get the desired features for us to do the analysis."
   ]
  },
  {
   "cell_type": "code",
   "execution_count": 2,
   "metadata": {
    "collapsed": false
   },
   "outputs": [
    {
     "data": {
      "text/plain": [
       "(422, 71)"
      ]
     },
     "execution_count": 2,
     "metadata": {},
     "output_type": "execute_result"
    }
   ],
   "source": [
    "merge_tab = pd.read_csv('merge2015.csv')\n",
    "merge_tab.shape"
   ]
  },
  {
   "cell_type": "markdown",
   "metadata": {},
   "source": [
    "First, we transform the date of brith of actors and directors into date format, then substract the released date from their birthday to get the age of directors and actors when the movie was released (they are called 'Aage' and 'Dage'). We think this is an important feature because age, to some extent, implies the experience of the director/actor."
   ]
  },
  {
   "cell_type": "code",
   "execution_count": 3,
   "metadata": {
    "collapsed": false
   },
   "outputs": [
    {
     "name": "stderr",
     "output_type": "stream",
     "text": [
      "/anaconda/lib/python2.7/site-packages/IPython/kernel/__main__.py:6: SettingWithCopyWarning: \n",
      "A value is trying to be set on a copy of a slice from a DataFrame\n",
      "\n",
      "See the the caveats in the documentation: http://pandas.pydata.org/pandas-docs/stable/indexing.html#indexing-view-versus-copy\n"
     ]
    }
   ],
   "source": [
    "import dateutil.parser as parser\n",
    "from datetime import datetime\n",
    "\n",
    "for i in range(len(merge_tab.Released)):\n",
    "    if merge_tab.Released[i] == 'False':\n",
    "        merge_tab.Released[i] = '1929-08-20 00:00:00'\n",
    "\n",
    "RD = []\n",
    "DDOB = []\n",
    "ADOB = []\n",
    "for i in range(len(merge_tab.Released)):\n",
    "    try:\n",
    "        RD.append(parser.parse(merge_tab.Released[i]))\n",
    "        DDOB.append(parser.parse(merge_tab.D_DOB[i]))\n",
    "        ADOB.append(parser.parse(merge_tab.A_DOB[i]))\n",
    "    except:\n",
    "        pass\n",
    "merge_tab['RD']=RD\n",
    "merge_tab['DDOB']=DDOB\n",
    "merge_tab['ADOB']=ADOB\n",
    "merge_tab['Dage'] = (merge_tab.RD - merge_tab.DDOB).values/np.timedelta64(1, 'D')/365.25\n",
    "merge_tab['Aage'] = (merge_tab.RD - merge_tab.ADOB).values/np.timedelta64(1, 'D')/365.25\n",
    "\n"
   ]
  },
  {
   "cell_type": "markdown",
   "metadata": {},
   "source": [
    "We drop the unnecessary columns from the merged data frame and remove the comma in 'imdbVotes'. The purpose of this is to transform 'imdbVotes' into numeric ."
   ]
  },
  {
   "cell_type": "code",
   "execution_count": 5,
   "metadata": {
    "collapsed": false
   },
   "outputs": [],
   "source": [
    "merge_tab = merge_tab.drop(['Unnamed: 0','Awards','Metascore','D_wins','A_wins','RD','A_age','D_age','DDOB','ADOB'], axis=1)\n",
    "\n",
    "#merge_tab['imdbVotes'] = merge_tab.imdbVotes.apply(lambda x: x.replace(',',''))"
   ]
  },
  {
   "cell_type": "markdown",
   "metadata": {},
   "source": [
    "Now we have the ages for each of the director/actor in each movie, we need to calculate an weighted mean of the ages. We choose the weights to be the 'credits' of the director/actor. 'Credits' here are how many movies the actor has been the head actor for, or how many movies the director has directed. Besides age, we are also interested in the ratings of each movie. Currently, we have the user rating for each movie from both IMDB and Rotten Tomatos. We, again, calculate the weighted average of these two ratings by the reviews counts from each website.\n"
   ]
  },
  {
   "cell_type": "code",
   "execution_count": 6,
   "metadata": {
    "collapsed": true
   },
   "outputs": [],
   "source": [
    "def A_w_mean(df):\n",
    "    return np.average(df.Aage, weights=df.A_credits)\n",
    "def D_w_mean(df):\n",
    "    return np.average(df.Dage, weights=df.D_credits)\n",
    "def mean_rating(tab):\n",
    "    w1 = [float(i) for i in tab.imdbVotes]\n",
    "    w2 = [float(i) for i in tab.tomatoUserReviews]\n",
    "    if any(np.isnan(tab.tomatoUserRating)):\n",
    "        mean_rate = np.average(tab.imdbRating,  weights=w1)\n",
    "    else:\n",
    "        mean_rate = (np.average(tab.imdbRating,  weights=w1) + 2*np.average(tab.tomatoUserRating,  weights=w2))/2\n",
    "    return mean_rate"
   ]
  },
  {
   "cell_type": "markdown",
   "metadata": {},
   "source": [
    "The function 'clean_table' calculates the weighted average of ages, credits and rating."
   ]
  },
  {
   "cell_type": "code",
   "execution_count": 7,
   "metadata": {
    "collapsed": true
   },
   "outputs": [],
   "source": [
    "def clean_table(tab):\n",
    "    movies = merge_tab.groupby('imdbID')\n",
    "    A_mean_age = movies.apply(A_w_mean)\n",
    "    D_mean_age = movies.apply(D_w_mean)\n",
    "    A_mean_credit = movies.apply(lambda x: np.average(x.A_credits))\n",
    "    D_mean_credit = movies.apply(lambda x: np.average(x.D_credits))\n",
    "    rating_mean = movies.apply(mean_rating)\n",
    "    dic = {'A_mean_age': A_mean_age, 'D_mean_age': D_mean_age, 'A_mean_credit':A_mean_credit, 'D_mean_credit':D_mean_credit,\n",
    "          'mean_rate': rating_mean}\n",
    "    output = pd.DataFrame(dic)\n",
    "    return output "
   ]
  },
  {
   "cell_type": "code",
   "execution_count": 8,
   "metadata": {
    "collapsed": false
   },
   "outputs": [
    {
     "name": "stderr",
     "output_type": "stream",
     "text": [
      "/anaconda/lib/python2.7/site-packages/IPython/kernel/__main__.py:3: SettingWithCopyWarning: \n",
      "A value is trying to be set on a copy of a slice from a DataFrame\n",
      "\n",
      "See the the caveats in the documentation: http://pandas.pydata.org/pandas-docs/stable/indexing.html#indexing-view-versus-copy\n",
      "  app.launch_new_instance()\n"
     ]
    }
   ],
   "source": [
    "for i, r in merge_tab.iterrows():\n",
    "    if type(r.imdbVotes) == str:\n",
    "        merge_tab['imdbVotes'][i]= r.imdbVotes.replace(',','')"
   ]
  },
  {
   "cell_type": "code",
   "execution_count": 9,
   "metadata": {
    "collapsed": true
   },
   "outputs": [],
   "source": [
    "for i, r in merge_tab.iterrows():\n",
    "    if type(r.tomatoUserReviews) == str:\n",
    "        merge_tab['tomatoUserReviews'][i]= r.tomatoUserReviews.replace(',','')"
   ]
  },
  {
   "cell_type": "markdown",
   "metadata": {},
   "source": [
    "The following are the result of calculation, each row corresponds to a movie."
   ]
  },
  {
   "cell_type": "code",
   "execution_count": 10,
   "metadata": {
    "collapsed": false
   },
   "outputs": [
    {
     "data": {
      "text/html": [
       "<div>\n",
       "<table border=\"1\" class=\"dataframe\">\n",
       "  <thead>\n",
       "    <tr style=\"text-align: right;\">\n",
       "      <th></th>\n",
       "      <th>imdbID</th>\n",
       "      <th>A_mean_age</th>\n",
       "      <th>A_mean_credit</th>\n",
       "      <th>D_mean_age</th>\n",
       "      <th>D_mean_credit</th>\n",
       "      <th>mean_rate</th>\n",
       "    </tr>\n",
       "  </thead>\n",
       "  <tbody>\n",
       "    <tr>\n",
       "      <th>0</th>\n",
       "      <td>tt0369610</td>\n",
       "      <td>47.432927</td>\n",
       "      <td>73.000000</td>\n",
       "      <td>38.743326</td>\n",
       "      <td>7</td>\n",
       "      <td>7.50</td>\n",
       "    </tr>\n",
       "    <tr>\n",
       "      <th>1</th>\n",
       "      <td>tt0470752</td>\n",
       "      <td>31.544133</td>\n",
       "      <td>31.000000</td>\n",
       "      <td>45.308693</td>\n",
       "      <td>2</td>\n",
       "      <td>7.85</td>\n",
       "    </tr>\n",
       "    <tr>\n",
       "      <th>2</th>\n",
       "      <td>tt0478970</td>\n",
       "      <td>51.516363</td>\n",
       "      <td>67.333333</td>\n",
       "      <td>51.036277</td>\n",
       "      <td>26</td>\n",
       "      <td>7.90</td>\n",
       "    </tr>\n",
       "    <tr>\n",
       "      <th>3</th>\n",
       "      <td>tt0810819</td>\n",
       "      <td>30.397230</td>\n",
       "      <td>25.500000</td>\n",
       "      <td>43.230664</td>\n",
       "      <td>18</td>\n",
       "      <td>6.75</td>\n",
       "    </tr>\n",
       "    <tr>\n",
       "      <th>4</th>\n",
       "      <td>tt0884732</td>\n",
       "      <td>32.953663</td>\n",
       "      <td>56.333333</td>\n",
       "      <td>39.129363</td>\n",
       "      <td>5</td>\n",
       "      <td>6.95</td>\n",
       "    </tr>\n",
       "  </tbody>\n",
       "</table>\n",
       "</div>"
      ],
      "text/plain": [
       "      imdbID  A_mean_age  A_mean_credit  D_mean_age  D_mean_credit  mean_rate\n",
       "0  tt0369610   47.432927      73.000000   38.743326              7       7.50\n",
       "1  tt0470752   31.544133      31.000000   45.308693              2       7.85\n",
       "2  tt0478970   51.516363      67.333333   51.036277             26       7.90\n",
       "3  tt0810819   30.397230      25.500000   43.230664             18       6.75\n",
       "4  tt0884732   32.953663      56.333333   39.129363              5       6.95"
      ]
     },
     "execution_count": 10,
     "metadata": {},
     "output_type": "execute_result"
    }
   ],
   "source": [
    "merge_tab2 = clean_table(merge_tab).reset_index()\n",
    "merge_tab2.head()"
   ]
  },
  {
   "cell_type": "markdown",
   "metadata": {},
   "source": [
    "Since in the original table, each movie has three row, and each row corresponds to a different actor/director combination, we need to combine these rows into one single row for each movies. Therefore we remove the duplicate rows in the table. After we do that, we merge the original table and the calcualted table."
   ]
  },
  {
   "cell_type": "code",
   "execution_count": 11,
   "metadata": {
    "collapsed": false
   },
   "outputs": [],
   "source": [
    "#merge_tab"
   ]
  },
  {
   "cell_type": "code",
   "execution_count": 12,
   "metadata": {
    "collapsed": false
   },
   "outputs": [],
   "source": [
    "merge_tab3 = pd.merge(merge_tab, merge_tab2, left_on = 'imdbID', right_on='imdbID', how='left')\n",
    "merge_tab3 = merge_tab3.drop(['D_birthplace','D_DOB','D_name','D_credits','A_birthplace','A_DOB','A_name','A_credits',\n",
    "              'Actors', 'Director', 'Dage', 'Aage'], axis=1)\n",
    "merge_tab3 = merge_tab3.drop_duplicates()"
   ]
  },
  {
   "cell_type": "code",
   "execution_count": 15,
   "metadata": {
    "collapsed": false
   },
   "outputs": [],
   "source": [
    "merge_tab3.to_csv('final_table2015.csv', encoding='utf-8')"
   ]
  },
  {
   "cell_type": "code",
   "execution_count": 16,
   "metadata": {
    "collapsed": false
   },
   "outputs": [
    {
     "data": {
      "text/html": [
       "<div>\n",
       "<table border=\"1\" class=\"dataframe\">\n",
       "  <thead>\n",
       "    <tr style=\"text-align: right;\">\n",
       "      <th></th>\n",
       "      <th>imdbID</th>\n",
       "      <th>Title</th>\n",
       "      <th>Released</th>\n",
       "      <th>Country</th>\n",
       "      <th>Language</th>\n",
       "      <th>Rated</th>\n",
       "      <th>Runtime</th>\n",
       "      <th>Year</th>\n",
       "      <th>imdbRating</th>\n",
       "      <th>imdbVotes</th>\n",
       "      <th>tomatoConsensus</th>\n",
       "      <th>tomatoFresh</th>\n",
       "      <th>tomatoMeter</th>\n",
       "      <th>tomatoRating</th>\n",
       "      <th>tomatoReviews</th>\n",
       "      <th>tomatoRotten</th>\n",
       "      <th>tomatoUserMeter</th>\n",
       "      <th>tomatoUserRating</th>\n",
       "      <th>tomatoUserReviews</th>\n",
       "      <th>Nominated Oscars</th>\n",
       "      <th>Won Oscars</th>\n",
       "      <th>Other wins</th>\n",
       "      <th>Other nominations</th>\n",
       "      <th>Action</th>\n",
       "      <th>Adventure</th>\n",
       "      <th>Animation</th>\n",
       "      <th>Biography</th>\n",
       "      <th>Comedy</th>\n",
       "      <th>Crime</th>\n",
       "      <th>Documentary</th>\n",
       "      <th>Drama</th>\n",
       "      <th>Family</th>\n",
       "      <th>Fantasy</th>\n",
       "      <th>History</th>\n",
       "      <th>Horror</th>\n",
       "      <th>Music</th>\n",
       "      <th>Musical</th>\n",
       "      <th>Mystery</th>\n",
       "      <th>N/A</th>\n",
       "      <th>Romance</th>\n",
       "      <th>Sci-Fi</th>\n",
       "      <th>Sport</th>\n",
       "      <th>Thriller</th>\n",
       "      <th>War</th>\n",
       "      <th>Western</th>\n",
       "      <th>Director Nominated Oscars</th>\n",
       "      <th>Director Won Oscars</th>\n",
       "      <th>Actor Nominated Oscars</th>\n",
       "      <th>Actor Won Oscars</th>\n",
       "      <th>wiki_url_new</th>\n",
       "      <th>imdb_link_new</th>\n",
       "      <th>rt_link_new</th>\n",
       "      <th>budget_USD</th>\n",
       "      <th>box_USD</th>\n",
       "      <th>A_mean_age</th>\n",
       "      <th>A_mean_credit</th>\n",
       "      <th>D_mean_age</th>\n",
       "      <th>D_mean_credit</th>\n",
       "      <th>mean_rate</th>\n",
       "    </tr>\n",
       "  </thead>\n",
       "  <tbody>\n",
       "    <tr>\n",
       "      <th>0</th>\n",
       "      <td>tt0369610</td>\n",
       "      <td>Jurassic World</td>\n",
       "      <td>2015-06-12 00:00:00</td>\n",
       "      <td>USA</td>\n",
       "      <td>English</td>\n",
       "      <td>PG-13</td>\n",
       "      <td>124</td>\n",
       "      <td>2015</td>\n",
       "      <td>7.2</td>\n",
       "      <td>314481</td>\n",
       "      <td>Jurassic World can't match the original for sh...</td>\n",
       "      <td>194</td>\n",
       "      <td>71</td>\n",
       "      <td>6.7</td>\n",
       "      <td>274</td>\n",
       "      <td>80</td>\n",
       "      <td>80</td>\n",
       "      <td>3.9</td>\n",
       "      <td>206851</td>\n",
       "      <td>0</td>\n",
       "      <td>0</td>\n",
       "      <td>0</td>\n",
       "      <td>0</td>\n",
       "      <td>True</td>\n",
       "      <td>True</td>\n",
       "      <td>False</td>\n",
       "      <td>False</td>\n",
       "      <td>False</td>\n",
       "      <td>False</td>\n",
       "      <td>False</td>\n",
       "      <td>False</td>\n",
       "      <td>False</td>\n",
       "      <td>False</td>\n",
       "      <td>False</td>\n",
       "      <td>False</td>\n",
       "      <td>False</td>\n",
       "      <td>False</td>\n",
       "      <td>False</td>\n",
       "      <td>False</td>\n",
       "      <td>False</td>\n",
       "      <td>True</td>\n",
       "      <td>False</td>\n",
       "      <td>False</td>\n",
       "      <td>False</td>\n",
       "      <td>False</td>\n",
       "      <td>0</td>\n",
       "      <td>0</td>\n",
       "      <td>0</td>\n",
       "      <td>0</td>\n",
       "      <td>/wiki/Jurassic_World</td>\n",
       "      <td>http://www.imdb.com/title/tt0369610/</td>\n",
       "      <td>http://www.rottentomatoes.com/m/jurassic_world/</td>\n",
       "      <td>NaN</td>\n",
       "      <td>652198011</td>\n",
       "      <td>47.432927</td>\n",
       "      <td>73.000000</td>\n",
       "      <td>38.743326</td>\n",
       "      <td>7</td>\n",
       "      <td>7.50</td>\n",
       "    </tr>\n",
       "    <tr>\n",
       "      <th>4</th>\n",
       "      <td>tt0470752</td>\n",
       "      <td>Ex Machina</td>\n",
       "      <td>2015-04-24 00:00:00</td>\n",
       "      <td>UK</td>\n",
       "      <td>English</td>\n",
       "      <td>R</td>\n",
       "      <td>108</td>\n",
       "      <td>2015</td>\n",
       "      <td>7.7</td>\n",
       "      <td>194256</td>\n",
       "      <td>Ex Machina leans heavier on ideas than effects...</td>\n",
       "      <td>199</td>\n",
       "      <td>92</td>\n",
       "      <td>8.0</td>\n",
       "      <td>216</td>\n",
       "      <td>17</td>\n",
       "      <td>85</td>\n",
       "      <td>4.0</td>\n",
       "      <td>61929</td>\n",
       "      <td>0</td>\n",
       "      <td>0</td>\n",
       "      <td>0</td>\n",
       "      <td>0</td>\n",
       "      <td>False</td>\n",
       "      <td>False</td>\n",
       "      <td>False</td>\n",
       "      <td>False</td>\n",
       "      <td>False</td>\n",
       "      <td>False</td>\n",
       "      <td>False</td>\n",
       "      <td>True</td>\n",
       "      <td>False</td>\n",
       "      <td>False</td>\n",
       "      <td>False</td>\n",
       "      <td>False</td>\n",
       "      <td>False</td>\n",
       "      <td>False</td>\n",
       "      <td>True</td>\n",
       "      <td>False</td>\n",
       "      <td>False</td>\n",
       "      <td>True</td>\n",
       "      <td>False</td>\n",
       "      <td>False</td>\n",
       "      <td>False</td>\n",
       "      <td>False</td>\n",
       "      <td>0</td>\n",
       "      <td>0</td>\n",
       "      <td>0</td>\n",
       "      <td>0</td>\n",
       "      <td>/wiki/Ex_Machina_(film)</td>\n",
       "      <td>http://www.imdb.com/title/tt0470752/</td>\n",
       "      <td>http://www.rottentomatoes.com/m/ex_machina/</td>\n",
       "      <td>NaN</td>\n",
       "      <td>25440971</td>\n",
       "      <td>31.544133</td>\n",
       "      <td>31.000000</td>\n",
       "      <td>45.308693</td>\n",
       "      <td>2</td>\n",
       "      <td>7.85</td>\n",
       "    </tr>\n",
       "    <tr>\n",
       "      <th>7</th>\n",
       "      <td>tt0478970</td>\n",
       "      <td>Ant-Man</td>\n",
       "      <td>2015-07-17 00:00:00</td>\n",
       "      <td>USA</td>\n",
       "      <td>English</td>\n",
       "      <td>PG-13</td>\n",
       "      <td>117</td>\n",
       "      <td>2015</td>\n",
       "      <td>7.6</td>\n",
       "      <td>138824</td>\n",
       "      <td>Led by a charming performance from Paul Rudd, ...</td>\n",
       "      <td>197</td>\n",
       "      <td>79</td>\n",
       "      <td>6.8</td>\n",
       "      <td>248</td>\n",
       "      <td>51</td>\n",
       "      <td>88</td>\n",
       "      <td>4.1</td>\n",
       "      <td>148048</td>\n",
       "      <td>0</td>\n",
       "      <td>0</td>\n",
       "      <td>0</td>\n",
       "      <td>0</td>\n",
       "      <td>True</td>\n",
       "      <td>True</td>\n",
       "      <td>False</td>\n",
       "      <td>False</td>\n",
       "      <td>False</td>\n",
       "      <td>False</td>\n",
       "      <td>False</td>\n",
       "      <td>False</td>\n",
       "      <td>False</td>\n",
       "      <td>False</td>\n",
       "      <td>False</td>\n",
       "      <td>False</td>\n",
       "      <td>False</td>\n",
       "      <td>False</td>\n",
       "      <td>False</td>\n",
       "      <td>False</td>\n",
       "      <td>False</td>\n",
       "      <td>True</td>\n",
       "      <td>False</td>\n",
       "      <td>False</td>\n",
       "      <td>False</td>\n",
       "      <td>False</td>\n",
       "      <td>0</td>\n",
       "      <td>0</td>\n",
       "      <td>0</td>\n",
       "      <td>0</td>\n",
       "      <td>/wiki/Ant-Man_(film)</td>\n",
       "      <td>http://www.imdb.com/title/tt0478970/</td>\n",
       "      <td>NaN</td>\n",
       "      <td>NaN</td>\n",
       "      <td>178636091</td>\n",
       "      <td>51.516363</td>\n",
       "      <td>67.333333</td>\n",
       "      <td>51.036277</td>\n",
       "      <td>26</td>\n",
       "      <td>7.90</td>\n",
       "    </tr>\n",
       "    <tr>\n",
       "      <th>8</th>\n",
       "      <td>tt0478970</td>\n",
       "      <td>Ant-Man</td>\n",
       "      <td>2015-07-17 00:00:00</td>\n",
       "      <td>USA</td>\n",
       "      <td>English</td>\n",
       "      <td>PG-13</td>\n",
       "      <td>117</td>\n",
       "      <td>2015</td>\n",
       "      <td>7.6</td>\n",
       "      <td>138824</td>\n",
       "      <td>Led by a charming performance from Paul Rudd, ...</td>\n",
       "      <td>197</td>\n",
       "      <td>79</td>\n",
       "      <td>6.8</td>\n",
       "      <td>248</td>\n",
       "      <td>51</td>\n",
       "      <td>88</td>\n",
       "      <td>4.1</td>\n",
       "      <td>148048</td>\n",
       "      <td>0</td>\n",
       "      <td>0</td>\n",
       "      <td>0</td>\n",
       "      <td>0</td>\n",
       "      <td>True</td>\n",
       "      <td>True</td>\n",
       "      <td>False</td>\n",
       "      <td>False</td>\n",
       "      <td>False</td>\n",
       "      <td>False</td>\n",
       "      <td>False</td>\n",
       "      <td>False</td>\n",
       "      <td>False</td>\n",
       "      <td>False</td>\n",
       "      <td>False</td>\n",
       "      <td>False</td>\n",
       "      <td>False</td>\n",
       "      <td>False</td>\n",
       "      <td>False</td>\n",
       "      <td>False</td>\n",
       "      <td>False</td>\n",
       "      <td>True</td>\n",
       "      <td>False</td>\n",
       "      <td>False</td>\n",
       "      <td>False</td>\n",
       "      <td>False</td>\n",
       "      <td>0</td>\n",
       "      <td>0</td>\n",
       "      <td>0</td>\n",
       "      <td>2</td>\n",
       "      <td>/wiki/Ant-Man_(film)</td>\n",
       "      <td>http://www.imdb.com/title/tt0478970/</td>\n",
       "      <td>NaN</td>\n",
       "      <td>NaN</td>\n",
       "      <td>178636091</td>\n",
       "      <td>51.516363</td>\n",
       "      <td>67.333333</td>\n",
       "      <td>51.036277</td>\n",
       "      <td>26</td>\n",
       "      <td>7.90</td>\n",
       "    </tr>\n",
       "    <tr>\n",
       "      <th>10</th>\n",
       "      <td>tt0810819</td>\n",
       "      <td>The Danish Girl</td>\n",
       "      <td>2015-12-25 00:00:00</td>\n",
       "      <td>UK, Germany, USA</td>\n",
       "      <td>English, German</td>\n",
       "      <td>R</td>\n",
       "      <td>120</td>\n",
       "      <td>2015</td>\n",
       "      <td>5.3</td>\n",
       "      <td>2539</td>\n",
       "      <td>NaN</td>\n",
       "      <td>NaN</td>\n",
       "      <td>NaN</td>\n",
       "      <td>NaN</td>\n",
       "      <td>NaN</td>\n",
       "      <td>NaN</td>\n",
       "      <td>NaN</td>\n",
       "      <td>4.1</td>\n",
       "      <td>304</td>\n",
       "      <td>0</td>\n",
       "      <td>0</td>\n",
       "      <td>0</td>\n",
       "      <td>0</td>\n",
       "      <td>False</td>\n",
       "      <td>False</td>\n",
       "      <td>False</td>\n",
       "      <td>True</td>\n",
       "      <td>False</td>\n",
       "      <td>False</td>\n",
       "      <td>False</td>\n",
       "      <td>True</td>\n",
       "      <td>False</td>\n",
       "      <td>False</td>\n",
       "      <td>False</td>\n",
       "      <td>False</td>\n",
       "      <td>False</td>\n",
       "      <td>False</td>\n",
       "      <td>False</td>\n",
       "      <td>False</td>\n",
       "      <td>False</td>\n",
       "      <td>False</td>\n",
       "      <td>False</td>\n",
       "      <td>False</td>\n",
       "      <td>False</td>\n",
       "      <td>False</td>\n",
       "      <td>0</td>\n",
       "      <td>1</td>\n",
       "      <td>0</td>\n",
       "      <td>0</td>\n",
       "      <td>/wiki/The_Danish_Girl_(film)</td>\n",
       "      <td>http://www.imdb.com/title/tt0810819/</td>\n",
       "      <td>http://www.rottentomatoes.com/m/The_Danish_Gir...</td>\n",
       "      <td>NaN</td>\n",
       "      <td>NaN</td>\n",
       "      <td>30.397230</td>\n",
       "      <td>25.500000</td>\n",
       "      <td>43.230664</td>\n",
       "      <td>18</td>\n",
       "      <td>6.75</td>\n",
       "    </tr>\n",
       "  </tbody>\n",
       "</table>\n",
       "</div>"
      ],
      "text/plain": [
       "       imdbID            Title             Released           Country         Language  Rated  Runtime  Year  imdbRating imdbVotes                                    tomatoConsensus  tomatoFresh  tomatoMeter  tomatoRating  tomatoReviews  tomatoRotten  tomatoUserMeter  tomatoUserRating  tomatoUserReviews  Nominated Oscars  Won Oscars  Other wins  Other nominations Action Adventure Animation Biography Comedy  Crime Documentary  Drama Family Fantasy History Horror  Music Musical Mystery    N/A  \\\n",
       "0   tt0369610   Jurassic World  2015-06-12 00:00:00               USA          English  PG-13      124  2015         7.2    314481  Jurassic World can't match the original for sh...          194           71           6.7            274            80               80               3.9             206851                 0           0           0                  0   True      True     False     False  False  False       False  False  False   False   False  False  False   False   False  False   \n",
       "4   tt0470752       Ex Machina  2015-04-24 00:00:00                UK          English      R      108  2015         7.7    194256  Ex Machina leans heavier on ideas than effects...          199           92           8.0            216            17               85               4.0              61929                 0           0           0                  0  False     False     False     False  False  False       False   True  False   False   False  False  False   False    True  False   \n",
       "7   tt0478970          Ant-Man  2015-07-17 00:00:00               USA          English  PG-13      117  2015         7.6    138824  Led by a charming performance from Paul Rudd, ...          197           79           6.8            248            51               88               4.1             148048                 0           0           0                  0   True      True     False     False  False  False       False  False  False   False   False  False  False   False   False  False   \n",
       "8   tt0478970          Ant-Man  2015-07-17 00:00:00               USA          English  PG-13      117  2015         7.6    138824  Led by a charming performance from Paul Rudd, ...          197           79           6.8            248            51               88               4.1             148048                 0           0           0                  0   True      True     False     False  False  False       False  False  False   False   False  False  False   False   False  False   \n",
       "10  tt0810819  The Danish Girl  2015-12-25 00:00:00  UK, Germany, USA  English, German      R      120  2015         5.3      2539                                                NaN          NaN          NaN           NaN            NaN           NaN              NaN               4.1                304                 0           0           0                  0  False     False     False      True  False  False       False   True  False   False   False  False  False   False   False  False   \n",
       "\n",
       "   Romance Sci-Fi  Sport Thriller    War Western  Director Nominated Oscars  Director Won Oscars  Actor Nominated Oscars  Actor Won Oscars                  wiki_url_new                         imdb_link_new                                        rt_link_new  budget_USD    box_USD  A_mean_age  A_mean_credit  D_mean_age  D_mean_credit  mean_rate  \n",
       "0    False   True  False    False  False   False                          0                    0                       0                 0          /wiki/Jurassic_World  http://www.imdb.com/title/tt0369610/    http://www.rottentomatoes.com/m/jurassic_world/         NaN  652198011   47.432927      73.000000   38.743326              7       7.50  \n",
       "4    False   True  False    False  False   False                          0                    0                       0                 0       /wiki/Ex_Machina_(film)  http://www.imdb.com/title/tt0470752/        http://www.rottentomatoes.com/m/ex_machina/         NaN   25440971   31.544133      31.000000   45.308693              2       7.85  \n",
       "7    False   True  False    False  False   False                          0                    0                       0                 0          /wiki/Ant-Man_(film)  http://www.imdb.com/title/tt0478970/                                                NaN         NaN  178636091   51.516363      67.333333   51.036277             26       7.90  \n",
       "8    False   True  False    False  False   False                          0                    0                       0                 2          /wiki/Ant-Man_(film)  http://www.imdb.com/title/tt0478970/                                                NaN         NaN  178636091   51.516363      67.333333   51.036277             26       7.90  \n",
       "10   False  False  False    False  False   False                          0                    1                       0                 0  /wiki/The_Danish_Girl_(film)  http://www.imdb.com/title/tt0810819/  http://www.rottentomatoes.com/m/The_Danish_Gir...         NaN        NaN   30.397230      25.500000   43.230664             18       6.75  "
      ]
     },
     "execution_count": 16,
     "metadata": {},
     "output_type": "execute_result"
    }
   ],
   "source": [
    "merge_tab3.head()"
   ]
  },
  {
   "cell_type": "code",
   "execution_count": null,
   "metadata": {
    "collapsed": true
   },
   "outputs": [],
   "source": []
  }
 ],
 "metadata": {
  "kernelspec": {
   "display_name": "Python 2",
   "language": "python",
   "name": "python2"
  },
  "language_info": {
   "codemirror_mode": {
    "name": "ipython",
    "version": 2
   },
   "file_extension": ".py",
   "mimetype": "text/x-python",
   "name": "python",
   "nbconvert_exporter": "python",
   "pygments_lexer": "ipython2",
   "version": "2.7.10"
  }
 },
 "nbformat": 4,
 "nbformat_minor": 0
}
