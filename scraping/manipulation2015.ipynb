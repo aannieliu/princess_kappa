{
 "cells": [
  {
   "cell_type": "code",
   "execution_count": 1,
   "metadata": {
    "collapsed": true
   },
   "outputs": [],
   "source": [
    "%matplotlib inline\n",
    "import numpy as np\n",
    "import scipy as sp\n",
    "import matplotlib as mpl\n",
    "import matplotlib.cm as cm\n",
    "import matplotlib.pyplot as plt\n",
    "import pandas as pd\n",
    "pd.set_option('display.width', 500)\n",
    "pd.set_option('display.max_columns', 100)\n",
    "pd.set_option('display.notebook_repr_html', True)\n",
    "import seaborn as sns\n",
    "sns.set_style(\"whitegrid\")\n",
    "sns.set_context(\"poster\")\n",
    "import requests\n",
    "import json\n",
    "import bs4\n",
    "from bs4 import BeautifulSoup"
   ]
  },
  {
   "cell_type": "markdown",
   "metadata": {},
   "source": [
    "Now, we get the merge data and do some calculation based on it. We then get the desired features for us to do the analysis."
   ]
  },
  {
   "cell_type": "code",
   "execution_count": 2,
   "metadata": {
    "collapsed": false
   },
   "outputs": [
    {
     "data": {
      "text/plain": [
       "(422, 71)"
      ]
     },
     "execution_count": 2,
     "metadata": {},
     "output_type": "execute_result"
    }
   ],
   "source": [
    "merge_tab = pd.read_csv('merge2015.csv')\n",
    "merge_tab.shape"
   ]
  },
  {
   "cell_type": "markdown",
   "metadata": {},
   "source": [
    "First, we transform the date of brith of actors and directors into date format, then substract the released date from their birthday to get the age of directors and actors when the movie was released (they are called 'Aage' and 'Dage'). We think this is an important feature because age, to some extent, implies the experience of the director/actor."
   ]
  },
  {
   "cell_type": "code",
   "execution_count": 3,
   "metadata": {
    "collapsed": false
   },
   "outputs": [
    {
     "name": "stderr",
     "output_type": "stream",
     "text": [
      "/anaconda/lib/python2.7/site-packages/IPython/kernel/__main__.py:6: SettingWithCopyWarning: \n",
      "A value is trying to be set on a copy of a slice from a DataFrame\n",
      "\n",
      "See the the caveats in the documentation: http://pandas.pydata.org/pandas-docs/stable/indexing.html#indexing-view-versus-copy\n"
     ]
    }
   ],
   "source": [
    "import dateutil.parser as parser\n",
    "from datetime import datetime\n",
    "\n",
    "for i in range(len(merge_tab.Released)):\n",
    "    if merge_tab.Released[i] == 'False':\n",
    "        merge_tab.Released[i] = '1929-08-20 00:00:00'\n",
    "\n",
    "RD = []\n",
    "DDOB = []\n",
    "ADOB = []\n",
    "for i in range(len(merge_tab.Released)):\n",
    "    try:\n",
    "        RD.append(parser.parse(merge_tab.Released[i]))\n",
    "        DDOB.append(parser.parse(merge_tab.D_DOB[i]))\n",
    "        ADOB.append(parser.parse(merge_tab.A_DOB[i]))\n",
    "    except:\n",
    "        pass\n",
    "merge_tab['RD']=RD\n",
    "merge_tab['DDOB']=DDOB\n",
    "merge_tab['ADOB']=ADOB\n",
    "merge_tab['Dage'] = (merge_tab.RD - merge_tab.DDOB).values/np.timedelta64(1, 'D')/365.25\n",
    "merge_tab['Aage'] = (merge_tab.RD - merge_tab.ADOB).values/np.timedelta64(1, 'D')/365.25\n",
    "\n"
   ]
  },
  {
   "cell_type": "markdown",
   "metadata": {},
   "source": [
    "We drop the unnecessary columns from the merged data frame and remove the comma in 'imdbVotes'. The purpose of this is to transform 'imdbVotes' into numeric ."
   ]
  },
  {
   "cell_type": "code",
   "execution_count": 4,
   "metadata": {
    "collapsed": false
   },
   "outputs": [],
   "source": [
    "merge_tab = merge_tab.drop(['Unnamed: 0','Awards','Metascore','D_wins','A_wins','RD','A_age','D_age','DDOB','ADOB'], axis=1)\n",
    "\n",
    "#merge_tab['imdbVotes'] = merge_tab.imdbVotes.apply(lambda x: x.replace(',',''))"
   ]
  },
  {
   "cell_type": "markdown",
   "metadata": {},
   "source": [
    "Now we have the ages for each of the director/actor in each movie, we need to calculate an weighted mean of the ages. We choose the weights to be the 'credits' of the director/actor. 'Credits' here are how many movies the actor has been the head actor for, or how many movies the director has directed. Besides age, we are also interested in the ratings of each movie. Currently, we have the user rating for each movie from both IMDB and Rotten Tomatos. We, again, calculate the weighted average of these two ratings by the reviews counts from each website.\n"
   ]
  },
  {
   "cell_type": "code",
   "execution_count": 5,
   "metadata": {
    "collapsed": true
   },
   "outputs": [],
   "source": [
    "def A_w_mean(df):\n",
    "    return np.average(df.Aage, weights=df.A_credits)\n",
    "def D_w_mean(df):\n",
    "    return np.average(df.Dage, weights=df.D_credits)\n",
    "def mean_rating(tab):\n",
    "    w1 = [float(i) for i in tab.imdbVotes]\n",
    "    w2 = [float(i) for i in tab.tomatoUserReviews]\n",
    "    if any(np.isnan(tab.tomatoUserRating)):\n",
    "        mean_rate = np.average(tab.imdbRating,  weights=w1)\n",
    "    else:\n",
    "        mean_rate = (np.average(tab.imdbRating,  weights=w1) + 2*np.average(tab.tomatoUserRating,  weights=w2))/2\n",
    "    return mean_rate"
   ]
  },
  {
   "cell_type": "markdown",
   "metadata": {},
   "source": [
    "The function 'clean_table' calculates the weighted average of ages, credits and rating."
   ]
  },
  {
   "cell_type": "code",
   "execution_count": 6,
   "metadata": {
    "collapsed": true
   },
   "outputs": [],
   "source": [
    "def clean_table(tab):\n",
    "    movies = merge_tab.groupby('imdbID')\n",
    "    A_mean_age = movies.apply(A_w_mean)\n",
    "    D_mean_age = movies.apply(D_w_mean)\n",
    "    A_mean_credit = movies.apply(lambda x: np.average(x.A_credits))\n",
    "    D_mean_credit = movies.apply(lambda x: np.average(x.D_credits))\n",
    "    rating_mean = movies.apply(mean_rating)\n",
    "    dic = {'A_mean_age': A_mean_age, 'D_mean_age': D_mean_age, 'A_mean_credit':A_mean_credit, 'D_mean_credit':D_mean_credit,\n",
    "          'mean_rate': rating_mean}\n",
    "    output = pd.DataFrame(dic)\n",
    "    return output "
   ]
  },
  {
   "cell_type": "code",
   "execution_count": 7,
   "metadata": {
    "collapsed": false
   },
   "outputs": [
    {
     "name": "stderr",
     "output_type": "stream",
     "text": [
      "/anaconda/lib/python2.7/site-packages/IPython/kernel/__main__.py:3: SettingWithCopyWarning: \n",
      "A value is trying to be set on a copy of a slice from a DataFrame\n",
      "\n",
      "See the the caveats in the documentation: http://pandas.pydata.org/pandas-docs/stable/indexing.html#indexing-view-versus-copy\n",
      "  app.launch_new_instance()\n"
     ]
    }
   ],
   "source": [
    "for i, r in merge_tab.iterrows():\n",
    "    if type(r.imdbVotes) == str:\n",
    "        merge_tab['imdbVotes'][i]= r.imdbVotes.replace(',','')"
   ]
  },
  {
   "cell_type": "code",
   "execution_count": 8,
   "metadata": {
    "collapsed": true
   },
   "outputs": [],
   "source": [
    "for i, r in merge_tab.iterrows():\n",
    "    if type(r.tomatoUserReviews) == str:\n",
    "        merge_tab['tomatoUserReviews'][i]= r.tomatoUserReviews.replace(',','')"
   ]
  },
  {
   "cell_type": "markdown",
   "metadata": {},
   "source": [
    "The following are the result of calculation, each row corresponds to a movie."
   ]
  },
  {
   "cell_type": "code",
   "execution_count": 9,
   "metadata": {
    "collapsed": false
   },
   "outputs": [
    {
     "data": {
      "text/html": [
       "<div>\n",
       "<table border=\"1\" class=\"dataframe\">\n",
       "  <thead>\n",
       "    <tr style=\"text-align: right;\">\n",
       "      <th></th>\n",
       "      <th>imdbID</th>\n",
       "      <th>A_mean_age</th>\n",
       "      <th>A_mean_credit</th>\n",
       "      <th>D_mean_age</th>\n",
       "      <th>D_mean_credit</th>\n",
       "      <th>mean_rate</th>\n",
       "    </tr>\n",
       "  </thead>\n",
       "  <tbody>\n",
       "    <tr>\n",
       "      <th>0</th>\n",
       "      <td>tt0369610</td>\n",
       "      <td>47.432927</td>\n",
       "      <td>73.000000</td>\n",
       "      <td>38.743326</td>\n",
       "      <td>7</td>\n",
       "      <td>7.50</td>\n",
       "    </tr>\n",
       "    <tr>\n",
       "      <th>1</th>\n",
       "      <td>tt0470752</td>\n",
       "      <td>31.544133</td>\n",
       "      <td>31.000000</td>\n",
       "      <td>45.308693</td>\n",
       "      <td>2</td>\n",
       "      <td>7.85</td>\n",
       "    </tr>\n",
       "    <tr>\n",
       "      <th>2</th>\n",
       "      <td>tt0478970</td>\n",
       "      <td>51.516363</td>\n",
       "      <td>67.333333</td>\n",
       "      <td>51.036277</td>\n",
       "      <td>26</td>\n",
       "      <td>7.90</td>\n",
       "    </tr>\n",
       "    <tr>\n",
       "      <th>3</th>\n",
       "      <td>tt0810819</td>\n",
       "      <td>30.397230</td>\n",
       "      <td>25.500000</td>\n",
       "      <td>43.230664</td>\n",
       "      <td>18</td>\n",
       "      <td>6.75</td>\n",
       "    </tr>\n",
       "    <tr>\n",
       "      <th>4</th>\n",
       "      <td>tt0884732</td>\n",
       "      <td>32.953663</td>\n",
       "      <td>56.333333</td>\n",
       "      <td>39.129363</td>\n",
       "      <td>5</td>\n",
       "      <td>6.95</td>\n",
       "    </tr>\n",
       "  </tbody>\n",
       "</table>\n",
       "</div>"
      ],
      "text/plain": [
       "      imdbID  A_mean_age  A_mean_credit  D_mean_age  D_mean_credit  mean_rate\n",
       "0  tt0369610   47.432927      73.000000   38.743326              7       7.50\n",
       "1  tt0470752   31.544133      31.000000   45.308693              2       7.85\n",
       "2  tt0478970   51.516363      67.333333   51.036277             26       7.90\n",
       "3  tt0810819   30.397230      25.500000   43.230664             18       6.75\n",
       "4  tt0884732   32.953663      56.333333   39.129363              5       6.95"
      ]
     },
     "execution_count": 9,
     "metadata": {},
     "output_type": "execute_result"
    }
   ],
   "source": [
    "merge_tab2 = clean_table(merge_tab).reset_index()\n",
    "merge_tab2.head()"
   ]
  },
  {
   "cell_type": "markdown",
   "metadata": {},
   "source": [
    "Since in the original table, each movie has three row, and each row corresponds to a different actor/director combination, we need to combine these rows into one single row for each movies. Therefore we remove the duplicate rows in the table. After we do that, we merge the original table and the calcualted table."
   ]
  },
  {
   "cell_type": "code",
   "execution_count": 14,
   "metadata": {
    "collapsed": false
   },
   "outputs": [],
   "source": [
    "merge_tab3 = pd.merge(merge_tab, merge_tab2, left_on = 'imdbID', right_on='imdbID', how='left')\n",
    "merge_tab3 = merge_tab3.drop(['D_birthplace','D_DOB','D_name','D_credits','A_birthplace','A_DOB','A_name','A_credits',\n",
    "              'Actors', 'Director', 'Dage', 'Aage', 'Director Nominated Oscars', 'Director Won Oscars', 'Actor Nominated Oscars',\n",
    "                             'Actor Won Oscars'], axis=1)\n",
    "merge_tab3 = merge_tab3.drop_duplicates()"
   ]
  },
  {
   "cell_type": "code",
   "execution_count": 17,
   "metadata": {
    "collapsed": false
   },
   "outputs": [],
   "source": [
    "merge_tab3.to_csv('final_table2015.csv', encoding='utf-8')"
   ]
  },
  {
   "cell_type": "code",
   "execution_count": null,
   "metadata": {
    "collapsed": true
   },
   "outputs": [],
   "source": []
  }
 ],
 "metadata": {
  "kernelspec": {
   "display_name": "Python 2",
   "language": "python",
   "name": "python2"
  },
  "language_info": {
   "codemirror_mode": {
    "name": "ipython",
    "version": 2
   },
   "file_extension": ".py",
   "mimetype": "text/x-python",
   "name": "python",
   "nbconvert_exporter": "python",
   "pygments_lexer": "ipython2",
   "version": "2.7.10"
  }
 },
 "nbformat": 4,
 "nbformat_minor": 0
}
