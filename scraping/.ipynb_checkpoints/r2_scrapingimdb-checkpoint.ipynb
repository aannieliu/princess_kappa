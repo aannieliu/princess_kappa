{
 "cells": [
  {
   "cell_type": "markdown",
   "metadata": {},
   "source": [
    "## Part 3: Reading actors and directors information for each movie from IMDB\n"
   ]
  },
  {
   "cell_type": "code",
   "execution_count": 1,
   "metadata": {
    "collapsed": true
   },
   "outputs": [],
   "source": [
    "%matplotlib inline\n",
    "import numpy as np\n",
    "import scipy as sp\n",
    "import matplotlib as mpl\n",
    "import matplotlib.cm as cm\n",
    "import matplotlib.pyplot as plt\n",
    "from tqdm import tqdm\n",
    "import pandas as pd\n",
    "pd.set_option('display.width', 500)\n",
    "pd.set_option('display.max_columns', 100)\n",
    "pd.set_option('display.notebook_repr_html', True)\n",
    "import seaborn as sns\n",
    "sns.set_style(\"whitegrid\")\n",
    "sns.set_context(\"poster\")\n",
    "import requests\n",
    "import json\n",
    "import bs4\n",
    "from bs4 import BeautifulSoup\n",
    "import time"
   ]
  },
  {
   "cell_type": "markdown",
   "metadata": {},
   "source": [
    "First, we read in the \"movie\" table we get from scrapingimdb_1.ipynb and get a unique list of IMDB Ids.\n"
   ]
  },
  {
   "cell_type": "code",
   "execution_count": 2,
   "metadata": {
    "collapsed": false,
    "scrolled": true
   },
   "outputs": [],
   "source": [
    "movies = pd.read_csv('movies.csv')\n",
    "tts = (list(set(movies.imdbID)))### get id list to get reviewer count"
   ]
  },
  {
   "cell_type": "markdown",
   "metadata": {},
   "source": [
    "We loop through the movie id list to get the director urls"
   ]
  },
  {
   "cell_type": "code",
   "execution_count": 12,
   "metadata": {
    "collapsed": false
   },
   "outputs": [
    {
     "name": "stderr",
     "output_type": "stream",
     "text": [
      "100%|██████████| 1241/1241 [13:50<00:00,  1.47it/s]"
     ]
    },
    {
     "name": "stdout",
     "output_type": "stream",
     "text": [
      "CPU times: user 3min 21s, sys: 3.57 s, total: 3min 24s\n",
      "Wall time: 13min 50s\n"
     ]
    },
    {
     "name": "stderr",
     "output_type": "stream",
     "text": [
      "\n"
     ]
    }
   ],
   "source": [
    "%%time\n",
    "directorlist = []\n",
    "for t in tqdm(tts, leave=True):\n",
    "    url = \"http://www.imdb.com/title/{}/\".format(t)\n",
    "    t1970 = requests.get(url)\n",
    "    soup = BeautifulSoup(t1970.text, \"html.parser\")\n",
    "    tb = soup.find(\"table\").findAll(\"div\", attrs = {'class','txt-block'})\n",
    "    if tb[0].find('a')['href'] == None:\n",
    "        directorlist.append(None)\n",
    "    else:\n",
    "        directorlist.append(tb[0].find('a')['href'])"
   ]
  },
  {
   "cell_type": "code",
   "execution_count": 13,
   "metadata": {
    "collapsed": true
   },
   "outputs": [],
   "source": [
    "#directorlist2 = dict(zip(tts, directorlist)) \n",
    "fd=open(\"directorlist.json\",\"w\")\n",
    "json.dump(directorlist, fd)\n",
    "fd.close()"
   ]
  },
  {
   "cell_type": "code",
   "execution_count": 14,
   "metadata": {
    "collapsed": true
   },
   "outputs": [],
   "source": [
    "with open(\"directorlist.json\") as json_file:\n",
    "    directorlist = json.load(json_file)"
   ]
  },
  {
   "cell_type": "code",
   "execution_count": 15,
   "metadata": {
    "collapsed": false
   },
   "outputs": [
    {
     "data": {
      "text/plain": [
       "1241"
      ]
     },
     "execution_count": 15,
     "metadata": {},
     "output_type": "execute_result"
    }
   ],
   "source": [
    "len(directorlist)"
   ]
  },
  {
   "cell_type": "markdown",
   "metadata": {},
   "source": [
    "For each director, we get his/her name, date of birth, birthplace, number of oscar wins and nominations annd the credits(how many movies have they participated in). We store these information in a dictionay with keys: Name, DOB, Birthplace, wins and credits."
   ]
  },
  {
   "cell_type": "code",
   "execution_count": 16,
   "metadata": {
    "collapsed": false
   },
   "outputs": [
    {
     "name": "stderr",
     "output_type": "stream",
     "text": [
      "100%|██████████| 1241/1241 [17:03<00:00,  2.02it/s]"
     ]
    },
    {
     "name": "stdout",
     "output_type": "stream",
     "text": [
      "CPU times: user 4min 44s, sys: 4.64 s, total: 4min 49s\n",
      "Wall time: 17min 3s\n"
     ]
    },
    {
     "name": "stderr",
     "output_type": "stream",
     "text": [
      "\n"
     ]
    }
   ],
   "source": [
    "%%time\n",
    "director_dict = {\"Name\":[], \"DOB\":[], \"Birthplace\":[], \"wins\":[], \"credits\":[]}\n",
    "\n",
    "for u in tqdm(directorlist, leave=True):\n",
    "    #print u\n",
    "    url = 'http://www.imdb.com{}'.format(u)\n",
    "    t1990=requests.get(url)\n",
    "    soup=BeautifulSoup(t1990.text, \"html.parser\")\n",
    "    try:\n",
    "        divs=soup.findAll('div', attrs = {'id':'name-born-info'})[0]\n",
    "        Name = soup.findAll('table', attrs = {'id':'name-overview-widget-layout'})[0].find('span',attrs={'class':'itemprop'}).get_text()\n",
    "        try: \n",
    "            DOB=divs.find('time').get('datetime')\n",
    "        except:\n",
    "            DOB=None \n",
    "        try:\n",
    "            Birthplace=divs.findAll('a')[-1].get_text()\n",
    "        except:\n",
    "            Birthplace=None\n",
    "        try:\n",
    "            wins=soup.findAll('div', attrs = {'class':'article highlighted'})[0].find_all('span')[0].get_text().strip()\n",
    "        except:\n",
    "            wins=0\n",
    "        try:\n",
    "            credits=soup.findAll('div', attrs = {'id':'filmo-head-director'})[0].get_text().strip()[22:24]\n",
    "        except:\n",
    "            credits=0\n",
    "        if Name not in director_dict[\"Name\"]:\n",
    "            director_dict[\"Name\"].append(Name)\n",
    "            director_dict['DOB'].append(DOB)\n",
    "            director_dict['Birthplace'].append(Birthplace)\n",
    "            director_dict['wins'].append(wins)\n",
    "            director_dict['credits'].append(credits)\n",
    "    except:\n",
    "        pass\n"
   ]
  },
  {
   "cell_type": "markdown",
   "metadata": {},
   "source": [
    "We convert the dictionary to dataframe and calculate the age of the directors on 2015/11/23. We will later calculate the age of director on the released date of the movie."
   ]
  },
  {
   "cell_type": "code",
   "execution_count": 19,
   "metadata": {
    "collapsed": false
   },
   "outputs": [
    {
     "name": "stdout",
     "output_type": "stream",
     "text": [
      "1958-1-1\n",
      "1966-1-1\n",
      "1955-1-1\n",
      "1958-1-1\n",
      "1972-1-1\n",
      "1964-1-1\n",
      "1964-1-1\n",
      "1960-1-1\n",
      "1952-1-1\n",
      "1964-1-1\n",
      "1936-1-1\n",
      "1954-1-1\n",
      "1918-1-1\n",
      "1946-1-1\n",
      "1967-1-1\n",
      "1964-1-1\n",
      "1970-1-1\n",
      "2015-11-23\n",
      "1964-1-1\n",
      "1975-1-1\n",
      "1945-1-1\n",
      "1942-1-1\n",
      "1960-1-1\n",
      "1963-1-1\n",
      "1954-1-1\n",
      "1951-1-1\n",
      "1965-1-1\n",
      "1967-1-1\n",
      "1968-1-1\n",
      "1960-1-1\n",
      "1974-1-1\n",
      "1954-1-1\n",
      "1950-1-1\n",
      "1967-1-1\n"
     ]
    }
   ],
   "source": [
    "import datetime\n",
    "directordf = pd.DataFrame(director_dict) ### fix 'XXXX-0-0' date issue\n",
    "\n",
    "for i in range(len(directordf.DOB)):\n",
    "    if directordf.DOB[i] == None:\n",
    "        directordf.DOB[i] = '2015-11-23'\n",
    "        print directordf.DOB[i]\n",
    "    if directordf.DOB[i].split('-')[1] == '0' or directordf.DOB[i].split('-')[2] == '0':\n",
    "        directordf.DOB[i] = directordf.DOB[i].split('-')[0]+'-1'+'-1'\n",
    "        print directordf.DOB[i]\n",
    "        \n",
    "        \n",
    "today = datetime.datetime(2015, 11, 23)\n",
    "directordf['age'] = (today - directordf.DOB.apply(pd.datetools.parse)).values/np.timedelta64(1, 'D')/365.25\n"
   ]
  },
  {
   "cell_type": "code",
   "execution_count": 20,
   "metadata": {
    "collapsed": true
   },
   "outputs": [],
   "source": [
    "#directordf.tail(50)"
   ]
  },
  {
   "cell_type": "code",
   "execution_count": 14,
   "metadata": {
    "collapsed": false
   },
   "outputs": [
    {
     "ename": "NameError",
     "evalue": "name 'directordf' is not defined",
     "output_type": "error",
     "traceback": [
      "\u001b[0;31m---------------------------------------------------------------------------\u001b[0m",
      "\u001b[0;31mNameError\u001b[0m                                 Traceback (most recent call last)",
      "\u001b[0;32m<ipython-input-14-94317328e586>\u001b[0m in \u001b[0;36m<module>\u001b[0;34m()\u001b[0m\n\u001b[0;32m----> 1\u001b[0;31m \u001b[0mdirectordf\u001b[0m\u001b[0;34m.\u001b[0m\u001b[0mto_csv\u001b[0m\u001b[0;34m(\u001b[0m\u001b[0;34m'directordf.csv'\u001b[0m\u001b[0;34m,\u001b[0m \u001b[0mencoding\u001b[0m\u001b[0;34m=\u001b[0m\u001b[0;34m'utf-8'\u001b[0m\u001b[0;34m)\u001b[0m\u001b[0;34m\u001b[0m\u001b[0m\n\u001b[0m",
      "\u001b[0;31mNameError\u001b[0m: name 'directordf' is not defined"
     ]
    }
   ],
   "source": [
    "directordf.to_csv('directordf.csv', encoding='utf-8')"
   ]
  },
  {
   "cell_type": "markdown",
   "metadata": {},
   "source": [
    "After we save the director info data frame, we did the similar things for all the actors in each movies. To simplify our scraping, we only scraped three main actors in each movie (refer to the code in scrapingimdb_1)."
   ]
  },
  {
   "cell_type": "code",
   "execution_count": 3,
   "metadata": {
    "collapsed": false
   },
   "outputs": [
    {
     "name": "stderr",
     "output_type": "stream",
     "text": [
      "100%|██████████| 1241/1241 [14:12<00:00,  1.46it/s]"
     ]
    },
    {
     "name": "stdout",
     "output_type": "stream",
     "text": [
      "CPU times: user 3min 32s, sys: 4.05 s, total: 3min 36s\n",
      "Wall time: 14min 12s\n"
     ]
    },
    {
     "name": "stderr",
     "output_type": "stream",
     "text": [
      "\n"
     ]
    }
   ],
   "source": [
    "%%time\n",
    "actorurl = {}\n",
    "### return a dict, with key the movie id and values the urls for actors \n",
    "for t in tqdm(tts, leave=True):\n",
    "    try:\n",
    "        actorurl[t] = []\n",
    "        l = []\n",
    "        url = \"http://www.imdb.com/title/{}/\".format(t)\n",
    "        t1970=requests.get(url)\n",
    "        soup = BeautifulSoup(t1970.text, \"html.parser\")\n",
    "        divs = soup.find('table').findAll('div', attrs = {'class':'txt-block', 'itemprop':'actors'})[0]\n",
    "        for div in divs.find_all('a'):\n",
    "            l.append(div.get('href'))\n",
    "        actorurl[t] = l[:-1]\n",
    "    except:\n",
    "        pass\n",
    " "
   ]
  },
  {
   "cell_type": "code",
   "execution_count": 4,
   "metadata": {
    "collapsed": false
   },
   "outputs": [],
   "source": [
    "#directorlist2 = dict(zip(tts, directorlist)) \n",
    "fd=open(\"actorurl.json\",\"w\")\n",
    "json.dump(actorurl, fd)\n",
    "fd.close()"
   ]
  },
  {
   "cell_type": "code",
   "execution_count": 5,
   "metadata": {
    "collapsed": true
   },
   "outputs": [],
   "source": [
    "with open(\"actorurl.json\") as json_file:\n",
    "    actorurl = json.load(json_file)"
   ]
  },
  {
   "cell_type": "code",
   "execution_count": 6,
   "metadata": {
    "collapsed": false
   },
   "outputs": [
    {
     "data": {
      "text/plain": [
       "1241"
      ]
     },
     "execution_count": 6,
     "metadata": {},
     "output_type": "execute_result"
    }
   ],
   "source": [
    "len(actorurl)"
   ]
  },
  {
   "cell_type": "code",
   "execution_count": 7,
   "metadata": {
    "collapsed": false
   },
   "outputs": [
    {
     "name": "stderr",
     "output_type": "stream",
     "text": [
      "100%|██████████| 1241/1241 [52:06<00:00,  0.42it/s]"
     ]
    },
    {
     "name": "stdout",
     "output_type": "stream",
     "text": [
      "CPU times: user 15min 55s, sys: 14.6 s, total: 16min 9s\n",
      "Wall time: 52min 6s\n"
     ]
    },
    {
     "name": "stderr",
     "output_type": "stream",
     "text": [
      "\n"
     ]
    }
   ],
   "source": [
    "%%time\n",
    "actor_dict = {\"Name\":[], \"DOB\":[], \"Birthplace\":[], \"wins\":[], \"credits\":[]}\n",
    "\n",
    "for k in tqdm(actorurl.keys(), leave=True):\n",
    "    url_list = actorurl[k]\n",
    "    for u in url_list:\n",
    "        #print u\n",
    "        try:\n",
    "            url = 'http://www.imdb.com{}'.format(u)\n",
    "            t1990=requests.get(url)\n",
    "            soup=BeautifulSoup(t1990.text, \"html.parser\")\n",
    "            divs=soup.findAll('table', attrs = {'id':'name-overview-widget-layout'})[0].findAll('div', attrs = {'id':'name-born-info'})[0]\n",
    "            try:\n",
    "                Name=soup.findAll('table', attrs = {'id':'name-overview-widget-layout'})[0].find('span',attrs={'class':'itemprop'}).get_text()\n",
    "            except:\n",
    "                Name=None\n",
    "            try:\n",
    "                DOB=divs.find('time').get('datetime')\n",
    "            except:\n",
    "                DOB=None\n",
    "            try:\n",
    "                Birthplace=divs.findAll('a')[-1].get_text()\n",
    "            except:\n",
    "                Birthdplace=None\n",
    "            try:\n",
    "                wins=soup.findAll('div', attrs = {'class':'article highlighted'})[0].find_all('span')[0].get_text().strip()\n",
    "            except:\n",
    "                wins=0\n",
    "                \n",
    "            try:\n",
    "                c = soup.findAll('div', attrs = {'id':'filmo-head-actor'})[0]\n",
    "                c = str(c.get_text()[20:].strip())\n",
    "                credit = float(''.join(x for x in c if x.isdigit()))\n",
    "            except:\n",
    "                c = soup.findAll('div', attrs = {'id':'filmo-head-actress'})[0]\n",
    "                c = str(c.get_text()[20:].strip())\n",
    "                credit = float(''.join(x for x in c if x.isdigit()))\n",
    "                \n",
    "            if Name not in actor_dict[\"Name\"]:\n",
    "                actor_dict['Name'].append(Name)\n",
    "                actor_dict['DOB'].append(DOB)\n",
    "                actor_dict['Birthplace'].append(Birthplace)\n",
    "                actor_dict['wins'].append(wins)\n",
    "                actor_dict['credits'].append(credit)\n",
    "        except:\n",
    "            pass"
   ]
  },
  {
   "cell_type": "code",
   "execution_count": 9,
   "metadata": {
    "collapsed": false
   },
   "outputs": [
    {
     "name": "stderr",
     "output_type": "stream",
     "text": [
      "/anaconda/lib/python2.7/site-packages/IPython/kernel/__main__.py:10: SettingWithCopyWarning: \n",
      "A value is trying to be set on a copy of a slice from a DataFrame\n",
      "\n",
      "See the the caveats in the documentation: http://pandas.pydata.org/pandas-docs/stable/indexing.html#indexing-view-versus-copy\n",
      "/anaconda/lib/python2.7/site-packages/IPython/kernel/__main__.py:7: SettingWithCopyWarning: \n",
      "A value is trying to be set on a copy of a slice from a DataFrame\n",
      "\n",
      "See the the caveats in the documentation: http://pandas.pydata.org/pandas-docs/stable/indexing.html#indexing-view-versus-copy\n"
     ]
    },
    {
     "name": "stdout",
     "output_type": "stream",
     "text": [
      "1950-1-1\n",
      "2015-11-23\n",
      "1938-1-1\n",
      "1990-1-1\n",
      "1982-1-1\n",
      "2015-11-23\n",
      "1973-1-1\n",
      "1968-1-1\n",
      "2015-11-23\n",
      "1924-1-1\n",
      "2015-11-23\n",
      "1973-1-1\n",
      "1973-1-1\n",
      "2015-11-23\n",
      "2015-11-23\n",
      "1955-1-1\n",
      "1942-1-1\n",
      "2015-11-23\n"
     ]
    }
   ],
   "source": [
    "import datetime\n",
    "today = datetime.datetime(2015, 11, 23)\n",
    "actordf=pd.DataFrame(actor_dict)\n",
    "\n",
    "for i in range(len(actordf.DOB)):\n",
    "    if actordf.DOB[i] == None:\n",
    "        actordf.DOB[i] = '2015-11-23'\n",
    "        print actordf.DOB[i]\n",
    "    if actordf.DOB[i].split('-')[1] == '0' or actordf.DOB[i].split('-')[2] == '0':\n",
    "        actordf.DOB[i] = actordf.DOB[i].split('-')[0]+'-1'+'-1'\n",
    "        print actordf.DOB[i]\n",
    "    \n",
    "### calculate the age\n",
    "actordf['age'] = (today - actordf.DOB.apply(pd.datetools.parse)).values/np.timedelta64(1, 'D')/365.25\n"
   ]
  },
  {
   "cell_type": "code",
   "execution_count": 10,
   "metadata": {
    "collapsed": false
   },
   "outputs": [
    {
     "data": {
      "text/html": [
       "<div>\n",
       "<table border=\"1\" class=\"dataframe\">\n",
       "  <thead>\n",
       "    <tr style=\"text-align: right;\">\n",
       "      <th></th>\n",
       "      <th>Birthplace</th>\n",
       "      <th>DOB</th>\n",
       "      <th>Name</th>\n",
       "      <th>credits</th>\n",
       "      <th>wins</th>\n",
       "      <th>age</th>\n",
       "    </tr>\n",
       "  </thead>\n",
       "  <tbody>\n",
       "    <tr>\n",
       "      <th>0</th>\n",
       "      <td>New York City, New York, USA</td>\n",
       "      <td>1940-4-25</td>\n",
       "      <td>Al Pacino</td>\n",
       "      <td>53</td>\n",
       "      <td>Won\\n        1\\n        Oscar.</td>\n",
       "      <td>75.578371</td>\n",
       "    </tr>\n",
       "    <tr>\n",
       "      <th>1</th>\n",
       "      <td>New York City, New York, USA</td>\n",
       "      <td>1915-6-1</td>\n",
       "      <td>John Randolph</td>\n",
       "      <td>177</td>\n",
       "      <td>0</td>\n",
       "      <td>100.479124</td>\n",
       "    </tr>\n",
       "    <tr>\n",
       "      <th>2</th>\n",
       "      <td>Downingtown, Pennsylvania, USA</td>\n",
       "      <td>1987-2-20</td>\n",
       "      <td>Miles Teller</td>\n",
       "      <td>22</td>\n",
       "      <td>3 wins &amp; 19 nominations.</td>\n",
       "      <td>28.755647</td>\n",
       "    </tr>\n",
       "    <tr>\n",
       "      <th>3</th>\n",
       "      <td>Detroit, Michigan, USA</td>\n",
       "      <td>1955-1-9</td>\n",
       "      <td>J.K. Simmons</td>\n",
       "      <td>163</td>\n",
       "      <td>Won\\n        1\\n        Oscar.</td>\n",
       "      <td>60.870637</td>\n",
       "    </tr>\n",
       "    <tr>\n",
       "      <th>4</th>\n",
       "      <td>Littleton, Colorado, USA</td>\n",
       "      <td>1988-10-4</td>\n",
       "      <td>Melissa Benoist</td>\n",
       "      <td>14</td>\n",
       "      <td>1 nomination.</td>\n",
       "      <td>27.134839</td>\n",
       "    </tr>\n",
       "  </tbody>\n",
       "</table>\n",
       "</div>"
      ],
      "text/plain": [
       "                       Birthplace        DOB             Name  credits                            wins         age\n",
       "0    New York City, New York, USA  1940-4-25        Al Pacino       53  Won\\n        1\\n        Oscar.   75.578371\n",
       "1    New York City, New York, USA   1915-6-1    John Randolph      177                               0  100.479124\n",
       "2  Downingtown, Pennsylvania, USA  1987-2-20     Miles Teller       22        3 wins & 19 nominations.   28.755647\n",
       "3          Detroit, Michigan, USA   1955-1-9     J.K. Simmons      163  Won\\n        1\\n        Oscar.   60.870637\n",
       "4        Littleton, Colorado, USA  1988-10-4  Melissa Benoist       14                   1 nomination.   27.134839"
      ]
     },
     "execution_count": 10,
     "metadata": {},
     "output_type": "execute_result"
    }
   ],
   "source": [
    "actordf.head()"
   ]
  },
  {
   "cell_type": "code",
   "execution_count": 13,
   "metadata": {
    "collapsed": true
   },
   "outputs": [],
   "source": [
    "actordf.to_csv('actordf.csv', encoding='utf-8')"
   ]
  },
  {
   "cell_type": "code",
   "execution_count": null,
   "metadata": {
    "collapsed": true
   },
   "outputs": [],
   "source": []
  },
  {
   "cell_type": "code",
   "execution_count": null,
   "metadata": {
    "collapsed": true
   },
   "outputs": [],
   "source": []
  }
 ],
 "metadata": {
  "kernelspec": {
   "display_name": "Python 2",
   "language": "python",
   "name": "python2"
  },
  "language_info": {
   "codemirror_mode": {
    "name": "ipython",
    "version": 2
   },
   "file_extension": ".py",
   "mimetype": "text/x-python",
   "name": "python",
   "nbconvert_exporter": "python",
   "pygments_lexer": "ipython2",
   "version": "2.7.10"
  }
 },
 "nbformat": 4,
 "nbformat_minor": 0
}
