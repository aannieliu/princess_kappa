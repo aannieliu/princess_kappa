{
 "cells": [
  {
   "cell_type": "markdown",
   "metadata": {},
   "source": [
    "##Scrape IMDb to get the list of nominations and list of awards won by each movie. ##\n",
    "This will be our results."
   ]
  },
  {
   "cell_type": "code",
   "execution_count": 10,
   "metadata": {
    "collapsed": true
   },
   "outputs": [],
   "source": [
    "%matplotlib inline\n",
    "import numpy as np\n",
    "import scipy as sp\n",
    "import matplotlib as mpl\n",
    "import matplotlib.cm as cm\n",
    "import matplotlib.pyplot as plt\n",
    "import pandas as pd\n",
    "import time\n",
    "pd.set_option('display.width', 500)\n",
    "pd.set_option('display.max_columns', 100)\n",
    "pd.set_option('display.notebook_repr_html', True)\n",
    "import seaborn as sns\n",
    "sns.set_style(\"whitegrid\")\n",
    "sns.set_context(\"poster\")\n",
    "\n",
    "from pyquery import PyQuery as pq\n",
    "from bs4 import BeautifulSoup\n",
    "# The \"requests\" library makes working with HTTP requests easier\n",
    "# than the built-in urllib libraries.\n",
    "import requests\n",
    "import re\n",
    "import string\n",
    "import json\n",
    "from tqdm import tqdm"
   ]
  },
  {
   "cell_type": "markdown",
   "metadata": {},
   "source": [
    "###Scrape IMDb for nomination information###"
   ]
  },
  {
   "cell_type": "code",
   "execution_count": 11,
   "metadata": {
    "collapsed": false
   },
   "outputs": [],
   "source": [
    "df = pd.read_pickle('wiki_df_cleaned.csv')"
   ]
  },
  {
   "cell_type": "markdown",
   "metadata": {},
   "source": [
    "Check how many movies there are in total."
   ]
  },
  {
   "cell_type": "code",
   "execution_count": 19,
   "metadata": {
    "collapsed": false
   },
   "outputs": [
    {
     "data": {
      "text/plain": [
       "1275"
      ]
     },
     "execution_count": 19,
     "metadata": {},
     "output_type": "execute_result"
    }
   ],
   "source": [
    "df.head()\n",
    "df.shape[0]"
   ]
  },
  {
   "cell_type": "markdown",
   "metadata": {},
   "source": [
    "After scraping, we have 1265 movies, but that shouldn't be a problem, because we will delete the moview with run time less than 1 hour."
   ]
  },
  {
   "cell_type": "code",
   "execution_count": 13,
   "metadata": {
    "collapsed": false
   },
   "outputs": [
    {
     "name": "stderr",
     "output_type": "stream",
     "text": [
      "100%|██████████| 1275/1275 [07:25<00:00,  3.96it/s]\n"
     ]
    },
    {
     "data": {
      "text/plain": [
       "1265"
      ]
     },
     "execution_count": 13,
     "metadata": {},
     "output_type": "execute_result"
    }
   ],
   "source": [
    "movietext={}\n",
    "for m_id in tqdm(df.imdb_id,leave=True):\n",
    "    pg=\"http://www.imdb.com/title/{}/awards?ref_=tt_awd\".format(m_id)\n",
    "    movietext[m_id]=requests.get(pg)\n",
    "    \n",
    "\n",
    "len(movietext)"
   ]
  },
  {
   "cell_type": "code",
   "execution_count": 129,
   "metadata": {
    "collapsed": false
   },
   "outputs": [
    {
     "name": "stdout",
     "output_type": "stream",
     "text": [
      "tt0018389\n",
      "<tr>\n",
      "<td class=\"title_award_outcome\" rowspan=\"1\">\n",
      "<b>Nominated</b><br/>\n",
      "<span class=\"award_category\">Oscar</span>\n",
      "</td>\n",
      "<td class=\"award_description\">\n",
      "            Best Actress in a Leading Role<br/>\n",
      "<a href=\"/name/nm0237571?ref_=ttawd_awd_1\">Louise Dresser</a>\n",
      "<br/>\n",
      "</td>\n",
      "</tr>\n",
      "[] []\n"
     ]
    }
   ],
   "source": [
    "##test\n",
    "m_id=movietext.keys()[20]\n",
    "#test\n",
    "m_id='tt0018389'\n",
    "print m_id\n",
    "movietextdict = movietext[m_id]\n",
    "soup = BeautifulSoup(movietextdict.text, \"html.parser\")\n",
    "rows = soup.find(\"table\", attrs={\"class\":\"awards\"}).find_all(\"tr\")[0:]\n",
    "nominations=[]\n",
    "wins=[]\n",
    "won_q= \"Won\" in rows[0].find(\"td\", attrs={\"class\":\"title_award_outcome\"}).get_text()\n",
    "#print \"Nominated\" in rows[5].find(\"td\", attrs={\"class\":\"title_award_outcome\"})\n",
    "\n",
    "\n",
    "for i,r in enumerate(rows):\n",
    "    #print i\n",
    "    if r.find(\"td\", attrs={\"class\":\"title_award_outcome\"})!=None:\n",
    "        check= \"Nominated\" in r.find(\"td\", attrs={\"class\":\"title_award_outcome\"}).get_text()\n",
    "        if check==True:\n",
    "            #print \"t\",i\n",
    "            nn=i\n",
    "        \n",
    "#print nn\n",
    "\n",
    "for i,r in enumerate(rows):\n",
    "    print r\n",
    "    rr=r.find_all(\"td\", attrs={\"class\":\"award_description\"})[0:]\n",
    "    if i<nn:\n",
    "        for i in rr:\n",
    "            if \"Best Actor in a Leading Role\" in i.get_text():\n",
    "                wins.append('ML')\n",
    "            if \"Best Picture\" in i.get_text():\n",
    "                wins.append('BP')\n",
    "            if \"Best Actess in a Leading Role\" in i.get_text():\n",
    "                wins.append('FL')\n",
    "            if \"Best Actess in a Supporting Role\" in i.get_text():\n",
    "                wins.append('FS')\n",
    "            if \"Best Actor in a Supporting Role\" in i.get_text():\n",
    "                wins.append('MS')  \n",
    "    else:\n",
    "        for i in rr:\n",
    "            if \"Best Actor in a Leading Role\" in i.get_text():\n",
    "                nominations.append('ML')\n",
    "            if \"Best Picture\" in i.get_text():\n",
    "                nominations.append('BP')\n",
    "            if \"Best Actess in a Leading Role\" in i.get_text():\n",
    "                nominations.append('FL')\n",
    "            if \"Best Actess in a Supporting Role\" in i.get_text():\n",
    "                nominations.append('FS')\n",
    "            if \"Best Actor in a Supporting Role\" in i.get_text():\n",
    "                nominations.append('MS')   \n",
    "nominations=nominations+wins\n",
    "print nominations, wins"
   ]
  },
  {
   "cell_type": "markdown",
   "metadata": {},
   "source": [
    "A function to get the nominations information. Will return a three things: movie id, list of nominations, list of wins"
   ]
  },
  {
   "cell_type": "code",
   "execution_count": 138,
   "metadata": {
    "collapsed": true
   },
   "outputs": [],
   "source": [
    "def get_nomination(m_id,movietext):\n",
    "    #print m_id\n",
    "    movietextdict = movietext[m_id]\n",
    "    soup = BeautifulSoup(movietextdict.text, \"html.parser\")\n",
    "    nominations=[]\n",
    "    wins=[]\n",
    "    if soup.find(\"table\", attrs={\"class\":\"awards\"})!=None:\n",
    "        rows = soup.find(\"table\", attrs={\"class\":\"awards\"}).find_all(\"tr\")[0:]\n",
    "        nn=0\n",
    "        won_q= \"Won\" in rows[0].find(\"td\", attrs={\"class\":\"title_award_outcome\"}).get_text()\n",
    "        #print \"Nominated\" in rows[5].find(\"td\", attrs={\"class\":\"title_award_outcome\"})\n",
    "\n",
    "\n",
    "        for i,r in enumerate(rows):\n",
    "            #print i\n",
    "            if r.find(\"td\", attrs={\"class\":\"title_award_outcome\"})!=None:\n",
    "                check= \"Nominated\" in r.find(\"td\", attrs={\"class\":\"title_award_outcome\"}).get_text()\n",
    "                if check==True:\n",
    "                    #print \"t\",i\n",
    "                    nn=i\n",
    "\n",
    "        #print nn\n",
    "\n",
    "        for i,r in enumerate(rows):\n",
    "            rr=r.find_all(\"td\", attrs={\"class\":\"award_description\"})[0:]\n",
    "            if i<nn:\n",
    "                for ii in rr:\n",
    "                    if \"Best Actor in a Leading Role\" in ii.get_text():\n",
    "                        wins.append('ML')\n",
    "                    if \"Best Picture\" in ii.get_text():\n",
    "                        wins.append('BP')\n",
    "                    if \"Best Actress in a Leading Role\" in ii.get_text():\n",
    "                        wins.append('FL')\n",
    "                    if \"Best Actress in a Supporting Role\" in ii.get_text():\n",
    "                        wins.append('FS')\n",
    "                    if \"Best Actor in a Supporting Role\" in ii.get_text():\n",
    "                        wins.append('MS')  \n",
    "            else:\n",
    "                for ii in rr:\n",
    "                    if \"Best Actor in a Leading Role\" in ii.get_text():\n",
    "                        nominations.append('ML')\n",
    "                    if \"Best Picture\" in ii.get_text():\n",
    "                        nominations.append('BP')\n",
    "                    if \"Best Actress in a Leading Role\" in ii.get_text():\n",
    "                        nominations.append('FL')\n",
    "                    if \"Best Actress in a Supporting Role\" in ii.get_text():\n",
    "                        nominations.append('FS')\n",
    "                    if \"Best Actor in a Supporting Role\" in ii.get_text():\n",
    "                        nominations.append('MS')   \n",
    "        nominations=nominations+wins\n",
    "    \n",
    "    return m_id, nominations, wins"
   ]
  },
  {
   "cell_type": "code",
   "execution_count": 139,
   "metadata": {
    "collapsed": false
   },
   "outputs": [
    {
     "data": {
      "text/plain": [
       "('tt0018389', ['FL'], [])"
      ]
     },
     "execution_count": 139,
     "metadata": {},
     "output_type": "execute_result"
    }
   ],
   "source": [
    "##test\n",
    "m_id='tt0018389'\n",
    "get_nomination(m_id,movietext)"
   ]
  },
  {
   "cell_type": "markdown",
   "metadata": {},
   "source": [
    "We now merge into dataframe."
   ]
  },
  {
   "cell_type": "code",
   "execution_count": 140,
   "metadata": {
    "collapsed": false
   },
   "outputs": [
    {
     "name": "stdout",
     "output_type": "stream",
     "text": [
      "1265 1265 1265 1265 1265 1265 1265 1265 1265 1265 1265\n"
     ]
    }
   ],
   "source": [
    "bp_w=[]\n",
    "ms_w=[]\n",
    "fs_w=[]\n",
    "ml_w=[]\n",
    "fl_w=[]\n",
    "bp_n=[]\n",
    "ms_n=[]\n",
    "fs_n=[]\n",
    "ml_n=[]\n",
    "fl_n=[]\n",
    "movie_id=[]\n",
    "for mid in movietext.keys():\n",
    "    mid,n,w=get_nomination(mid,movietext)\n",
    "    movie_id.append(mid)\n",
    "    \n",
    "    bp_w.append(\"BP\" in w)\n",
    "    ms_w.append(\"MS\" in w)\n",
    "    fs_w.append(\"FS\" in w)\n",
    "    ml_w.append(\"ML\" in w)\n",
    "    fl_w.append(\"FL\" in w)\n",
    "    \n",
    "    bp_n.append(\"BP\" in n)\n",
    "    ms_n.append(\"MS\" in n)\n",
    "    fs_n.append(\"FS\" in n)\n",
    "    ml_n.append(\"ML\" in n)\n",
    "    fl_n.append(\"FL\" in n)\n",
    "\n",
    "print len(movie_id),len(bp_w),len(ms_w),len(fs_w),len(ml_w),len(fl_w),len(bp_n),len(ms_n),len(fs_n),len(ml_n),len(fl_n)\n",
    "        \n",
    "    "
   ]
  },
  {
   "cell_type": "code",
   "execution_count": 141,
   "metadata": {
    "collapsed": false
   },
   "outputs": [
    {
     "data": {
      "text/plain": [
       "['ms_n',\n",
       " 'bp_w',\n",
       " 'fl_n',\n",
       " 'fs_w',\n",
       " 'ml_w',\n",
       " 'ml_n',\n",
       " 'movie_id',\n",
       " 'ms_w',\n",
       " 'fl_w',\n",
       " 'bp_n',\n",
       " 'fs_n']"
      ]
     },
     "execution_count": 141,
     "metadata": {},
     "output_type": "execute_result"
    }
   ],
   "source": [
    "dict_for_df={}\n",
    "dict_for_df['bp_w']=bp_w\n",
    "dict_for_df['ms_w']=ms_w\n",
    "dict_for_df['fs_w']=fs_w\n",
    "dict_for_df['fl_w']=fl_w\n",
    "dict_for_df['ml_w']=ml_w\n",
    "dict_for_df['bp_n']=bp_n\n",
    "dict_for_df['ms_n']=ms_n\n",
    "dict_for_df['fs_n']=fs_n\n",
    "dict_for_df['ml_n']=ml_n\n",
    "dict_for_df['fl_n']=fl_n\n",
    "dict_for_df['movie_id']=movie_id\n",
    "\n",
    "dict_for_df.keys()"
   ]
  },
  {
   "cell_type": "code",
   "execution_count": 142,
   "metadata": {
    "collapsed": true
   },
   "outputs": [],
   "source": [
    "df1=pd.DataFrame(dict_for_df)"
   ]
  },
  {
   "cell_type": "code",
   "execution_count": 143,
   "metadata": {
    "collapsed": false
   },
   "outputs": [
    {
     "data": {
      "text/html": [
       "<div>\n",
       "<table border=\"1\" class=\"dataframe\">\n",
       "  <thead>\n",
       "    <tr style=\"text-align: right;\">\n",
       "      <th></th>\n",
       "      <th>bp_n</th>\n",
       "      <th>bp_w</th>\n",
       "      <th>fl_n</th>\n",
       "      <th>fl_w</th>\n",
       "      <th>fs_n</th>\n",
       "      <th>fs_w</th>\n",
       "      <th>ml_n</th>\n",
       "      <th>ml_w</th>\n",
       "      <th>movie_id</th>\n",
       "      <th>ms_n</th>\n",
       "      <th>ms_w</th>\n",
       "    </tr>\n",
       "  </thead>\n",
       "  <tbody>\n",
       "    <tr>\n",
       "      <th>0</th>\n",
       "      <td>False</td>\n",
       "      <td>False</td>\n",
       "      <td>False</td>\n",
       "      <td>False</td>\n",
       "      <td>False</td>\n",
       "      <td>False</td>\n",
       "      <td>True</td>\n",
       "      <td>False</td>\n",
       "      <td>tt0070666</td>\n",
       "      <td>False</td>\n",
       "      <td>False</td>\n",
       "    </tr>\n",
       "    <tr>\n",
       "      <th>1</th>\n",
       "      <td>False</td>\n",
       "      <td>False</td>\n",
       "      <td>False</td>\n",
       "      <td>False</td>\n",
       "      <td>False</td>\n",
       "      <td>False</td>\n",
       "      <td>False</td>\n",
       "      <td>False</td>\n",
       "      <td>tt2582802</td>\n",
       "      <td>False</td>\n",
       "      <td>False</td>\n",
       "    </tr>\n",
       "    <tr>\n",
       "      <th>2</th>\n",
       "      <td>False</td>\n",
       "      <td>False</td>\n",
       "      <td>False</td>\n",
       "      <td>False</td>\n",
       "      <td>True</td>\n",
       "      <td>False</td>\n",
       "      <td>False</td>\n",
       "      <td>False</td>\n",
       "      <td>tt0172493</td>\n",
       "      <td>False</td>\n",
       "      <td>False</td>\n",
       "    </tr>\n",
       "    <tr>\n",
       "      <th>3</th>\n",
       "      <td>True</td>\n",
       "      <td>False</td>\n",
       "      <td>False</td>\n",
       "      <td>False</td>\n",
       "      <td>False</td>\n",
       "      <td>False</td>\n",
       "      <td>True</td>\n",
       "      <td>False</td>\n",
       "      <td>tt0045943</td>\n",
       "      <td>False</td>\n",
       "      <td>False</td>\n",
       "    </tr>\n",
       "    <tr>\n",
       "      <th>4</th>\n",
       "      <td>False</td>\n",
       "      <td>False</td>\n",
       "      <td>True</td>\n",
       "      <td>False</td>\n",
       "      <td>False</td>\n",
       "      <td>False</td>\n",
       "      <td>True</td>\n",
       "      <td>False</td>\n",
       "      <td>tt0055895</td>\n",
       "      <td>False</td>\n",
       "      <td>False</td>\n",
       "    </tr>\n",
       "  </tbody>\n",
       "</table>\n",
       "</div>"
      ],
      "text/plain": [
       "    bp_n   bp_w   fl_n   fl_w   fs_n   fs_w   ml_n   ml_w   movie_id   ms_n   ms_w\n",
       "0  False  False  False  False  False  False   True  False  tt0070666  False  False\n",
       "1  False  False  False  False  False  False  False  False  tt2582802  False  False\n",
       "2  False  False  False  False   True  False  False  False  tt0172493  False  False\n",
       "3   True  False  False  False  False  False   True  False  tt0045943  False  False\n",
       "4  False  False   True  False  False  False   True  False  tt0055895  False  False"
      ]
     },
     "execution_count": 143,
     "metadata": {},
     "output_type": "execute_result"
    }
   ],
   "source": [
    "df1.head()"
   ]
  },
  {
   "cell_type": "code",
   "execution_count": 144,
   "metadata": {
    "collapsed": true
   },
   "outputs": [],
   "source": [
    "df1.to_pickle('result.csv')"
   ]
  }
 ],
 "metadata": {
  "kernelspec": {
   "display_name": "Python 2",
   "language": "python",
   "name": "python2"
  },
  "language_info": {
   "codemirror_mode": {
    "name": "ipython",
    "version": 2
   },
   "file_extension": ".py",
   "mimetype": "text/x-python",
   "name": "python",
   "nbconvert_exporter": "python",
   "pygments_lexer": "ipython2",
   "version": "2.7.10"
  }
 },
 "nbformat": 4,
 "nbformat_minor": 0
}
